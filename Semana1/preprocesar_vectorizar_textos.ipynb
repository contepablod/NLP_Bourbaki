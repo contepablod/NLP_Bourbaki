{
 "cells": [
  {
   "cell_type": "markdown",
   "metadata": {},
   "source": [
    "![Colegio Bourbaki](./Images/Bourbaki.png)"
   ]
  },
  {
   "cell_type": "markdown",
   "metadata": {},
   "source": [
    "# Procesamiento de Lenguaje Natural"
   ]
  },
  {
   "cell_type": "markdown",
   "metadata": {},
   "source": [
    "## Preprocesamiento y Vectorización de textos"
   ]
  },
  {
   "cell_type": "markdown",
   "metadata": {},
   "source": [
    "### Librerias"
   ]
  },
  {
   "cell_type": "code",
   "execution_count": 1,
   "metadata": {},
   "outputs": [],
   "source": [
    "#Text Processing\n",
    "import nltk\n",
    "from nltk.corpus import stopwords\n",
    "from nltk.stem import WordNetLemmatizer, PorterStemmer\n",
    "from nltk.tokenize import word_tokenize\n",
    "from sklearn.feature_extraction.text import CountVectorizer, TfidfVectorizer\n",
    "from wordcloud import WordCloud\n",
    "\n",
    "#Plotting\n",
    "import matplotlib.pyplot as plt\n",
    "\n",
    "#Utils\n",
    "import re\n",
    "import pandas as pd"
   ]
  },
  {
   "cell_type": "code",
   "execution_count": 2,
   "metadata": {},
   "outputs": [
    {
     "name": "stderr",
     "output_type": "stream",
     "text": [
      "[nltk_data] Downloading package stopwords to\n",
      "[nltk_data]     /home/pdconte/nltk_data...\n",
      "[nltk_data]   Package stopwords is already up-to-date!\n",
      "[nltk_data] Downloading package wordnet to /home/pdconte/nltk_data...\n",
      "[nltk_data]   Package wordnet is already up-to-date!\n",
      "[nltk_data] Downloading package punkt to /home/pdconte/nltk_data...\n",
      "[nltk_data]   Package punkt is already up-to-date!\n"
     ]
    },
    {
     "data": {
      "text/plain": [
       "True"
      ]
     },
     "execution_count": 2,
     "metadata": {},
     "output_type": "execute_result"
    }
   ],
   "source": [
    "nltk.download('stopwords')\n",
    "nltk.download('wordnet')\n",
    "nltk.download('punkt')"
   ]
  },
  {
   "cell_type": "markdown",
   "metadata": {},
   "source": [
    "### Funciones de ayuda"
   ]
  },
  {
   "cell_type": "code",
   "execution_count": 3,
   "metadata": {},
   "outputs": [],
   "source": [
    "def lower_words(text):\n",
    "    \"\"\" Convierte una lista de palabras en minúsculas \"\"\"\n",
    "    return text.lower()"
   ]
  },
  {
   "cell_type": "code",
   "execution_count": 48,
   "metadata": {},
   "outputs": [],
   "source": [
    "def del_stopwords(text):\n",
    "    \"\"\" Elimina las stopwords de una lista de palabras \"\"\"\n",
    "    stop = re.compile(r'\\b(' + r'|'.join(stopwords.words('english')) + r')\\b\\s*')\n",
    "    return stop.sub('', text)"
   ]
  },
  {
   "cell_type": "code",
   "execution_count": 5,
   "metadata": {},
   "outputs": [],
   "source": [
    "def del_punct_nums(text):\n",
    "  \"\"\" Elimina puntuación y números \"\"\"\n",
    "  return re.sub('[^a-z]+', ' ', text)"
   ]
  },
  {
   "cell_type": "code",
   "execution_count": 6,
   "metadata": {},
   "outputs": [],
   "source": [
    "def stemmer(words):\n",
    "    \"\"\"Separa por raíz una lista de palabras \"\"\"\n",
    "    st = PorterStemmer()\n",
    "    words = word_tokenize(words) # mismo que words.split()\n",
    "    return ' '.join([st.stem(word) for word in words])"
   ]
  },
  {
   "cell_type": "code",
   "execution_count": 7,
   "metadata": {},
   "outputs": [],
   "source": [
    "def lemmatizer(words):\n",
    "    \"\"\" Lematiza una lista de palabras \"\"\"\n",
    "    lemmatizer = WordNetLemmatizer()\n",
    "    words = word_tokenize(words) # mismo que words.split()\n",
    "    return ' '.join([lemmatizer.lemmatize(word) for word in words])"
   ]
  },
  {
   "cell_type": "code",
   "execution_count": 57,
   "metadata": {},
   "outputs": [],
   "source": [
    "def preprocessing(text):\n",
    "    text = lower_words(text) # Convertir a minúsculas\n",
    "    text = del_stopwords(text) # Eliminar stopwords\n",
    "    text = del_punct_nums(text) # Quitar puntos y números\n",
    "    text = lemmatizer(text)  # Lemmatizar    \n",
    "    # if type == 'lemma':\n",
    "    #     text = lemmatizer(text)  # Lemmatizar    \n",
    "    # elif type == 'stem':\n",
    "    #     text = stemmer(text) # Stemming\n",
    "    \n",
    "    text = [word for word in word_tokenize(text) if len(word) > 2] # Reconstruir el texto con palabras mayores a 2 caracteres\n",
    "    return ' '.join(text)"
   ]
  },
  {
   "cell_type": "code",
   "execution_count": 9,
   "metadata": {},
   "outputs": [],
   "source": [
    "def generate_wordcloud(text):\n",
    "    \"\"\" Genera una nube de palabras a partir de una lista de textos \"\"\"\n",
    "    \n",
    "    # Crear la nube de palabras\n",
    "    wordcloud = WordCloud(max_font_size=50, \n",
    "                          max_words=100, \n",
    "                          background_color=\"white\", \n",
    "                          normalize_plurals=False, \n",
    "                          collocations=False).generate(text)\n",
    "    \n",
    "    # Desplegar la imagen generada\n",
    "    plt.imshow(wordcloud, interpolation=\"bilinear\")\n",
    "    plt.axis('off')\n",
    "    plt.show()"
   ]
  },
  {
   "cell_type": "code",
   "execution_count": 10,
   "metadata": {},
   "outputs": [],
   "source": [
    "# with open('./Data/docword.ny', 'r') as file:\n",
    "#     # Read the entire content of the file into a string\n",
    "#     book = file.read()"
   ]
  },
  {
   "cell_type": "markdown",
   "metadata": {},
   "source": [
    "### Carga de Datos"
   ]
  },
  {
   "cell_type": "markdown",
   "metadata": {},
   "source": [
    "Vamos a utilizar una base de datos de noticias "
   ]
  },
  {
   "cell_type": "code",
   "execution_count": 21,
   "metadata": {},
   "outputs": [],
   "source": [
    "df = pd.read_csv('./Data/labelled_newscatcher_dataset.csv', sep=';')"
   ]
  },
  {
   "cell_type": "code",
   "execution_count": 25,
   "metadata": {},
   "outputs": [
    {
     "data": {
      "text/html": [
       "<div>\n",
       "<style scoped>\n",
       "    .dataframe tbody tr th:only-of-type {\n",
       "        vertical-align: middle;\n",
       "    }\n",
       "\n",
       "    .dataframe tbody tr th {\n",
       "        vertical-align: top;\n",
       "    }\n",
       "\n",
       "    .dataframe thead th {\n",
       "        text-align: right;\n",
       "    }\n",
       "</style>\n",
       "<table border=\"1\" class=\"dataframe\">\n",
       "  <thead>\n",
       "    <tr style=\"text-align: right;\">\n",
       "      <th></th>\n",
       "      <th>topic</th>\n",
       "      <th>link</th>\n",
       "      <th>domain</th>\n",
       "      <th>published_date</th>\n",
       "      <th>title</th>\n",
       "      <th>lang</th>\n",
       "    </tr>\n",
       "  </thead>\n",
       "  <tbody>\n",
       "    <tr>\n",
       "      <th>0</th>\n",
       "      <td>SCIENCE</td>\n",
       "      <td>https://www.eurekalert.org/pub_releases/2020-0...</td>\n",
       "      <td>eurekalert.org</td>\n",
       "      <td>2020-08-06 13:59:45</td>\n",
       "      <td>A closer look at water-splitting's solar fuel ...</td>\n",
       "      <td>en</td>\n",
       "    </tr>\n",
       "    <tr>\n",
       "      <th>1</th>\n",
       "      <td>SCIENCE</td>\n",
       "      <td>https://www.pulse.ng/news/world/an-irresistibl...</td>\n",
       "      <td>pulse.ng</td>\n",
       "      <td>2020-08-12 15:14:19</td>\n",
       "      <td>An irresistible scent makes locusts swarm, stu...</td>\n",
       "      <td>en</td>\n",
       "    </tr>\n",
       "    <tr>\n",
       "      <th>2</th>\n",
       "      <td>SCIENCE</td>\n",
       "      <td>https://www.express.co.uk/news/science/1322607...</td>\n",
       "      <td>express.co.uk</td>\n",
       "      <td>2020-08-13 21:01:00</td>\n",
       "      <td>Artificial intelligence warning: AI will know ...</td>\n",
       "      <td>en</td>\n",
       "    </tr>\n",
       "    <tr>\n",
       "      <th>3</th>\n",
       "      <td>SCIENCE</td>\n",
       "      <td>https://www.ndtv.com/world-news/glaciers-could...</td>\n",
       "      <td>ndtv.com</td>\n",
       "      <td>2020-08-03 22:18:26</td>\n",
       "      <td>Glaciers Could Have Sculpted Mars Valleys: Study</td>\n",
       "      <td>en</td>\n",
       "    </tr>\n",
       "    <tr>\n",
       "      <th>4</th>\n",
       "      <td>SCIENCE</td>\n",
       "      <td>https://www.thesun.ie/tech/5742187/perseid-met...</td>\n",
       "      <td>thesun.ie</td>\n",
       "      <td>2020-08-12 19:54:36</td>\n",
       "      <td>Perseid meteor shower 2020: What time and how ...</td>\n",
       "      <td>en</td>\n",
       "    </tr>\n",
       "    <tr>\n",
       "      <th>...</th>\n",
       "      <td>...</td>\n",
       "      <td>...</td>\n",
       "      <td>...</td>\n",
       "      <td>...</td>\n",
       "      <td>...</td>\n",
       "      <td>...</td>\n",
       "    </tr>\n",
       "    <tr>\n",
       "      <th>108769</th>\n",
       "      <td>NATION</td>\n",
       "      <td>https://www.vanguardngr.com/2020/08/pdp-govern...</td>\n",
       "      <td>vanguardngr.com</td>\n",
       "      <td>2020-08-08 02:40:00</td>\n",
       "      <td>PDP governors’ forum urges security agencies t...</td>\n",
       "      <td>en</td>\n",
       "    </tr>\n",
       "    <tr>\n",
       "      <th>108770</th>\n",
       "      <td>BUSINESS</td>\n",
       "      <td>https://www.patentlyapple.com/patently-apple/2...</td>\n",
       "      <td>patentlyapple.com</td>\n",
       "      <td>2020-08-08 01:27:12</td>\n",
       "      <td>In Q2-20, Apple Dominated the Premium Smartpho...</td>\n",
       "      <td>en</td>\n",
       "    </tr>\n",
       "    <tr>\n",
       "      <th>108771</th>\n",
       "      <td>HEALTH</td>\n",
       "      <td>https://www.belfastlive.co.uk/news/health/coro...</td>\n",
       "      <td>belfastlive.co.uk</td>\n",
       "      <td>2020-08-12 17:01:00</td>\n",
       "      <td>Coronavirus Northern Ireland: Full breakdown s...</td>\n",
       "      <td>en</td>\n",
       "    </tr>\n",
       "    <tr>\n",
       "      <th>108772</th>\n",
       "      <td>ENTERTAINMENT</td>\n",
       "      <td>https://www.thenews.com.pk/latest/696364-paul-...</td>\n",
       "      <td>thenews.com.pk</td>\n",
       "      <td>2020-08-05 04:59:00</td>\n",
       "      <td>Paul McCartney details post-Beatles distress a...</td>\n",
       "      <td>en</td>\n",
       "    </tr>\n",
       "    <tr>\n",
       "      <th>108773</th>\n",
       "      <td>SPORTS</td>\n",
       "      <td>https://www.balls.ie/football/shane-duffy-brig...</td>\n",
       "      <td>balls.ie</td>\n",
       "      <td>2020-08-09 10:25:26</td>\n",
       "      <td>Report: Talks Underway To Keep Shane Duffy In ...</td>\n",
       "      <td>en</td>\n",
       "    </tr>\n",
       "  </tbody>\n",
       "</table>\n",
       "<p>108774 rows × 6 columns</p>\n",
       "</div>"
      ],
      "text/plain": [
       "                topic                                               link  \\\n",
       "0             SCIENCE  https://www.eurekalert.org/pub_releases/2020-0...   \n",
       "1             SCIENCE  https://www.pulse.ng/news/world/an-irresistibl...   \n",
       "2             SCIENCE  https://www.express.co.uk/news/science/1322607...   \n",
       "3             SCIENCE  https://www.ndtv.com/world-news/glaciers-could...   \n",
       "4             SCIENCE  https://www.thesun.ie/tech/5742187/perseid-met...   \n",
       "...               ...                                                ...   \n",
       "108769         NATION  https://www.vanguardngr.com/2020/08/pdp-govern...   \n",
       "108770       BUSINESS  https://www.patentlyapple.com/patently-apple/2...   \n",
       "108771         HEALTH  https://www.belfastlive.co.uk/news/health/coro...   \n",
       "108772  ENTERTAINMENT  https://www.thenews.com.pk/latest/696364-paul-...   \n",
       "108773         SPORTS  https://www.balls.ie/football/shane-duffy-brig...   \n",
       "\n",
       "                   domain       published_date  \\\n",
       "0          eurekalert.org  2020-08-06 13:59:45   \n",
       "1                pulse.ng  2020-08-12 15:14:19   \n",
       "2           express.co.uk  2020-08-13 21:01:00   \n",
       "3                ndtv.com  2020-08-03 22:18:26   \n",
       "4               thesun.ie  2020-08-12 19:54:36   \n",
       "...                   ...                  ...   \n",
       "108769    vanguardngr.com  2020-08-08 02:40:00   \n",
       "108770  patentlyapple.com  2020-08-08 01:27:12   \n",
       "108771  belfastlive.co.uk  2020-08-12 17:01:00   \n",
       "108772     thenews.com.pk  2020-08-05 04:59:00   \n",
       "108773           balls.ie  2020-08-09 10:25:26   \n",
       "\n",
       "                                                    title lang  \n",
       "0       A closer look at water-splitting's solar fuel ...   en  \n",
       "1       An irresistible scent makes locusts swarm, stu...   en  \n",
       "2       Artificial intelligence warning: AI will know ...   en  \n",
       "3        Glaciers Could Have Sculpted Mars Valleys: Study   en  \n",
       "4       Perseid meteor shower 2020: What time and how ...   en  \n",
       "...                                                   ...  ...  \n",
       "108769  PDP governors’ forum urges security agencies t...   en  \n",
       "108770  In Q2-20, Apple Dominated the Premium Smartpho...   en  \n",
       "108771  Coronavirus Northern Ireland: Full breakdown s...   en  \n",
       "108772  Paul McCartney details post-Beatles distress a...   en  \n",
       "108773  Report: Talks Underway To Keep Shane Duffy In ...   en  \n",
       "\n",
       "[108774 rows x 6 columns]"
      ]
     },
     "execution_count": 25,
     "metadata": {},
     "output_type": "execute_result"
    }
   ],
   "source": [
    "df"
   ]
  },
  {
   "cell_type": "code",
   "execution_count": 26,
   "metadata": {},
   "outputs": [
    {
     "data": {
      "text/plain": [
       "lang\n",
       "en    108774\n",
       "Name: count, dtype: int64"
      ]
     },
     "execution_count": 26,
     "metadata": {},
     "output_type": "execute_result"
    }
   ],
   "source": [
    "df['lang'].value_counts()"
   ]
  },
  {
   "cell_type": "code",
   "execution_count": 35,
   "metadata": {},
   "outputs": [],
   "source": [
    "data = pd.Series(df['title'].values)"
   ]
  },
  {
   "cell_type": "code",
   "execution_count": 36,
   "metadata": {},
   "outputs": [
    {
     "data": {
      "text/plain": [
       "0         A closer look at water-splitting's solar fuel ...\n",
       "1         An irresistible scent makes locusts swarm, stu...\n",
       "2         Artificial intelligence warning: AI will know ...\n",
       "3          Glaciers Could Have Sculpted Mars Valleys: Study\n",
       "4         Perseid meteor shower 2020: What time and how ...\n",
       "                                ...                        \n",
       "108769    PDP governors’ forum urges security agencies t...\n",
       "108770    In Q2-20, Apple Dominated the Premium Smartpho...\n",
       "108771    Coronavirus Northern Ireland: Full breakdown s...\n",
       "108772    Paul McCartney details post-Beatles distress a...\n",
       "108773    Report: Talks Underway To Keep Shane Duffy In ...\n",
       "Length: 108774, dtype: object"
      ]
     },
     "execution_count": 36,
     "metadata": {},
     "output_type": "execute_result"
    }
   ],
   "source": [
    "data"
   ]
  },
  {
   "cell_type": "markdown",
   "metadata": {},
   "source": [
    "#### Transformar texto a minúsculas"
   ]
  },
  {
   "cell_type": "code",
   "execution_count": 37,
   "metadata": {},
   "outputs": [],
   "source": [
    "data_altered = data.apply(lower_words)"
   ]
  },
  {
   "cell_type": "code",
   "execution_count": 38,
   "metadata": {},
   "outputs": [
    {
     "data": {
      "text/plain": [
       "0         a closer look at water-splitting's solar fuel ...\n",
       "1         an irresistible scent makes locusts swarm, stu...\n",
       "2         artificial intelligence warning: ai will know ...\n",
       "3          glaciers could have sculpted mars valleys: study\n",
       "4         perseid meteor shower 2020: what time and how ...\n",
       "                                ...                        \n",
       "108769    pdp governors’ forum urges security agencies t...\n",
       "108770    in q2-20, apple dominated the premium smartpho...\n",
       "108771    coronavirus northern ireland: full breakdown s...\n",
       "108772    paul mccartney details post-beatles distress a...\n",
       "108773    report: talks underway to keep shane duffy in ...\n",
       "Length: 108774, dtype: object"
      ]
     },
     "execution_count": 38,
     "metadata": {},
     "output_type": "execute_result"
    }
   ],
   "source": [
    "data_altered"
   ]
  },
  {
   "cell_type": "markdown",
   "metadata": {},
   "source": [
    "#### Quitar puntuación"
   ]
  },
  {
   "cell_type": "code",
   "execution_count": 39,
   "metadata": {},
   "outputs": [],
   "source": [
    "data_altered = data_altered.apply(del_punct_nums)"
   ]
  },
  {
   "cell_type": "code",
   "execution_count": 40,
   "metadata": {},
   "outputs": [
    {
     "data": {
      "text/plain": [
       "0         a closer look at water splitting s solar fuel ...\n",
       "1         an irresistible scent makes locusts swarm stud...\n",
       "2         artificial intelligence warning ai will know u...\n",
       "3           glaciers could have sculpted mars valleys study\n",
       "4         perseid meteor shower what time and how to see...\n",
       "                                ...                        \n",
       "108769    pdp governors forum urges security agencies to...\n",
       "108770    in q apple dominated the premium smartphone se...\n",
       "108771    coronavirus northern ireland full breakdown sh...\n",
       "108772    paul mccartney details post beatles distress a...\n",
       "108773    report talks underway to keep shane duffy in p...\n",
       "Length: 108774, dtype: object"
      ]
     },
     "execution_count": 40,
     "metadata": {},
     "output_type": "execute_result"
    }
   ],
   "source": [
    "data_altered"
   ]
  },
  {
   "cell_type": "markdown",
   "metadata": {},
   "source": [
    "#### Quitar Palabras Irrelevantes (\"Stopwords\")"
   ]
  },
  {
   "cell_type": "code",
   "execution_count": 50,
   "metadata": {},
   "outputs": [],
   "source": [
    "data_altered = data_altered.apply(del_stopwords)"
   ]
  },
  {
   "cell_type": "code",
   "execution_count": 51,
   "metadata": {},
   "outputs": [
    {
     "data": {
      "text/plain": [
       "0          closer look water splitting solar fuel potential\n",
       "1         irresistible scent makes locusts swarm study f...\n",
       "2         artificial intelligence warning ai know us bet...\n",
       "3                glaciers could sculpted mars valleys study\n",
       "4         perseid meteor shower time see huge bright fir...\n",
       "                                ...                        \n",
       "108769    pdp governors forum urges security agencies st...\n",
       "108770    q apple dominated premium smartphone segment i...\n",
       "108771    coronavirus northern ireland full breakdown sh...\n",
       "108772    paul mccartney details post beatles distress b...\n",
       "108773    report talks underway keep shane duffy premier...\n",
       "Length: 108774, dtype: object"
      ]
     },
     "execution_count": 51,
     "metadata": {},
     "output_type": "execute_result"
    }
   ],
   "source": [
    "data_altered"
   ]
  },
  {
   "cell_type": "markdown",
   "metadata": {},
   "source": [
    "### Reducción de palabras"
   ]
  },
  {
   "cell_type": "markdown",
   "metadata": {},
   "source": [
    "El proceso de reducir las palabras a su forma base o raíz se conoce como \"stemming\" o \"lemmatización\". Ambas técnicas se utilizan en procesamiento del lenguaje natural (PLN) e información textual para simplificar el análisis y la comparación de datos de texto.\n",
    "\n",
    "Aquí hay una breve explicación de cada uno:\n",
    "\n",
    "1. Stemming:\n",
    "        Definición: El stemming implica eliminar sufijos de las palabras para obtener su forma base o raíz.\n",
    "        Ejemplo: El stemming de la palabra \"running\" daría como resultado \"run\".\n",
    "\n",
    "2. Lemmatización:\n",
    "        Definición: La lematización implica reducir las palabras a su forma base o forma de diccionario (lema) teniendo en cuenta el contexto y el significado.\n",
    "        Ejemplo: La lematización de la palabra \"running\" daría como resultado \"running\"\n",
    "\n",
    "La elección entre stemming y lematización depende de su caso de uso específico y requisitos: \n",
    "\n",
    "* El stemming es generalmente más rápido y menos complejo, pero puede generar palabras que no son válidas. \n",
    "\n",
    "* La lematización, por otro lado, es más informada lingüísticamente y generalmente produce palabras válidas, pero puede ser computacionalmente más costosa."
   ]
  },
  {
   "cell_type": "code",
   "execution_count": 52,
   "metadata": {},
   "outputs": [],
   "source": [
    "data_altered_stem = data_altered.apply(stemmer)"
   ]
  },
  {
   "cell_type": "code",
   "execution_count": 53,
   "metadata": {},
   "outputs": [
    {
     "data": {
      "text/plain": [
       "0                closer look water split solar fuel potenti\n",
       "1               irresist scent make locust swarm studi find\n",
       "2             artifici intellig warn ai know us better know\n",
       "3                     glacier could sculpt mar valley studi\n",
       "4         perseid meteor shower time see huge bright fir...\n",
       "                                ...                        \n",
       "108769    pdp governor forum urg secur agenc strategis c...\n",
       "108770    q appl domin premium smartphon segment india p...\n",
       "108771    coronaviru northern ireland full breakdown sho...\n",
       "108772    paul mccartney detail post beatl distress blam...\n",
       "108773    report talk underway keep shane duffi premier ...\n",
       "Length: 108774, dtype: object"
      ]
     },
     "execution_count": 53,
     "metadata": {},
     "output_type": "execute_result"
    }
   ],
   "source": [
    "data_altered_stem"
   ]
  },
  {
   "cell_type": "code",
   "execution_count": 54,
   "metadata": {},
   "outputs": [],
   "source": [
    "data_altered_lemma = data_altered.apply(lemmatizer)"
   ]
  },
  {
   "cell_type": "code",
   "execution_count": 55,
   "metadata": {},
   "outputs": [
    {
     "data": {
      "text/plain": [
       "0          closer look water splitting solar fuel potential\n",
       "1           irresistible scent make locust swarm study find\n",
       "2         artificial intelligence warning ai know u bett...\n",
       "3                   glacier could sculpted mar valley study\n",
       "4         perseid meteor shower time see huge bright fir...\n",
       "                                ...                        \n",
       "108769    pdp governor forum urge security agency strate...\n",
       "108770    q apple dominated premium smartphone segment i...\n",
       "108771    coronavirus northern ireland full breakdown sh...\n",
       "108772    paul mccartney detail post beatles distress bl...\n",
       "108773    report talk underway keep shane duffy premier ...\n",
       "Length: 108774, dtype: object"
      ]
     },
     "execution_count": 55,
     "metadata": {},
     "output_type": "execute_result"
    }
   ],
   "source": [
    "data_altered_lemma"
   ]
  },
  {
   "cell_type": "markdown",
   "metadata": {},
   "source": [
    "### Preprocesamiento conjunto"
   ]
  },
  {
   "cell_type": "markdown",
   "metadata": {},
   "source": [
    "Preprocesaremos el texto con la funcion lemmatizer en conjunto"
   ]
  },
  {
   "cell_type": "code",
   "execution_count": 58,
   "metadata": {},
   "outputs": [],
   "source": [
    "data_preprocessed = data.apply(preprocessing)"
   ]
  },
  {
   "cell_type": "code",
   "execution_count": 59,
   "metadata": {},
   "outputs": [
    {
     "data": {
      "text/plain": [
       "0          closer look water splitting solar fuel potential\n",
       "1           irresistible scent make locust swarm study find\n",
       "2          artificial intelligence warning know better know\n",
       "3                   glacier could sculpted mar valley study\n",
       "4         perseid meteor shower time see huge bright fir...\n",
       "                                ...                        \n",
       "108769    pdp governor forum urge security agency strate...\n",
       "108770    apple dominated premium smartphone segment ind...\n",
       "108771    coronavirus northern ireland full breakdown sh...\n",
       "108772    paul mccartney detail post beatles distress bl...\n",
       "108773    report talk underway keep shane duffy premier ...\n",
       "Length: 108774, dtype: object"
      ]
     },
     "execution_count": 59,
     "metadata": {},
     "output_type": "execute_result"
    }
   ],
   "source": [
    "data_preprocessed"
   ]
  },
  {
   "cell_type": "markdown",
   "metadata": {},
   "source": [
    "### Visualizar palabras"
   ]
  },
  {
   "cell_type": "code",
   "execution_count": 62,
   "metadata": {},
   "outputs": [],
   "source": [
    "text = \" \".join(data_preprocessed.values.astype(str))"
   ]
  },
  {
   "cell_type": "code",
   "execution_count": 63,
   "metadata": {},
   "outputs": [
    {
     "data": {
      "image/png": "[encoded data removed]",
      "text/plain": [
       "<Figure size 640x480 with 1 Axes>"
      ]
     },
     "metadata": {},
     "output_type": "display_data"
    }
   ],
   "source": [
    "generate_wordcloud(text)"
   ]
  },
  {
   "cell_type": "markdown",
   "metadata": {},
   "source": [
    "Podemos notar algunas palabras relevantes 'covid', 'coronavirus', 'health' relacionadas a la pandemia."
   ]
  },
  {
   "cell_type": "markdown",
   "metadata": {},
   "source": [
    "### Encajes y Vectorización de textos"
   ]
  },
  {
   "cell_type": "markdown",
   "metadata": {},
   "source": [
    "**Encaje de palabras (Word Embedding)**\n",
    "\n",
    "\n",
    "El encaje de palabras es una técnica en procesamiento del lenguaje natural (PLN) que asigna representaciones numéricas a las palabras de un vocabulario. \n",
    "\n",
    "Estas representaciones, también conocidas como vectores de palabras, capturan las relaciones semánticas y sintácticas entre las palabras. Ejemplos comunes son BoW, TF-IDF, CBOW, Word2Vec, GloVe o encajes preentrenados como FastText. \n",
    "\n",
    "Por lo tanto, nos permiten que las palabras similares tengan vectores cercanos en el espacio, facilitando así la captura de significados y contextos semánticos."
   ]
  },
  {
   "cell_type": "markdown",
   "metadata": {},
   "source": [
    "**Vectorización**\n",
    "\n",
    "La vectorización en PLN se refiere al proceso de convertir texto en vectores numéricos para que los algoritmos de aprendizaje automático puedan procesarlo. \n",
    "\n",
    "Puede incluir encaje de palabras, pero también se refiere a técnicas más amplias, como la representación vectorial de documentos o frases."
   ]
  },
  {
   "cell_type": "markdown",
   "metadata": {},
   "source": [
    "En este notebook haremos hincapié solamente en BoW y TF-IDF."
   ]
  },
  {
   "cell_type": "markdown",
   "metadata": {},
   "source": [
    "**Bolsa de palabras (Bag of Words - BoW)**"
   ]
  },
  {
   "cell_type": "markdown",
   "metadata": {},
   "source": [
    "BoW es una técnica de vectorización que representa un documento como un conjunto desordenado de palabras y su frecuencia en ese documento. \n",
    "\n",
    "Cada palabra se asigna a una posición única en un vector, y el valor en esa posición indica cuántas veces aparece esa palabra en el documento. \n",
    "\n",
    "***BoW no captura el orden de las palabras ni las relaciones semánticas, pero es simple y efectivo para tareas básicas.***"
   ]
  },
  {
   "cell_type": "markdown",
   "metadata": {},
   "source": [
    "**Frecuencia del termino - Frecuencia Inversa del documento (Term Frequency-Inverse Document Frequency - TF-IDF)**"
   ]
  },
  {
   "cell_type": "markdown",
   "metadata": {},
   "source": [
    "TF-IDF es otra técnica de vectorización que mejora BoW al considerar no solo la frecuencia de una palabra en un documento (TF) sino también la importancia relativa de esa palabra en el contexto de todo el corpus (IDF). \n",
    "\n",
    "La puntuación TF-IDF de una palabra aumenta a medida que aparece más en un documento, pero disminuye si la palabra es común en muchos documentos del corpus. \n",
    "\n",
    "TF-IDF ayuda a destacar palabras importantes para un documento específico."
   ]
  },
  {
   "cell_type": "markdown",
   "metadata": {},
   "source": [
    "En resumen, el encaje de palabras busca representar palabras con vectores numéricos que capturan sus relaciones semánticas, mientras que la vectorización se refiere al proceso más amplio de convertir texto en vectores. \n",
    "\n",
    "BoW y TF-IDF son técnicas específicas de vectorización: BoW se basa en contar la frecuencia de palabras, mientras que TF-IDF considera la importancia relativa de las palabras en el contexto del corpus."
   ]
  },
  {
   "cell_type": "markdown",
   "metadata": {},
   "source": [
    "#### Vectorización con BoW"
   ]
  },
  {
   "cell_type": "code",
   "execution_count": 64,
   "metadata": {},
   "outputs": [],
   "source": [
    "bow_vectorizer = CountVectorizer() #Pueden pasarle a la clase múltiples parámetros. Explorar en scikit-learn"
   ]
  },
  {
   "cell_type": "code",
   "execution_count": 67,
   "metadata": {},
   "outputs": [],
   "source": [
    "BOW = bow_vectorizer.fit_transform(word_tokenize(text))"
   ]
  },
  {
   "cell_type": "code",
   "execution_count": 68,
   "metadata": {},
   "outputs": [
    {
     "data": {
      "text/plain": [
       "(888975, 46429)"
      ]
     },
     "execution_count": 68,
     "metadata": {},
     "output_type": "execute_result"
    }
   ],
   "source": [
    "BOW.shape"
   ]
  },
  {
   "cell_type": "code",
   "execution_count": 74,
   "metadata": {},
   "outputs": [
    {
     "name": "stdout",
     "output_type": "stream",
     "text": [
      "Insufficient memory for handling this matrix\n"
     ]
    }
   ],
   "source": [
    "try:\n",
    "    bow_words = bow_vectorizer.get_feature_names_out()\n",
    "    bow_matrix = pd.DataFrame(BOW.todense(), columns = bow_words)\n",
    "except MemoryError:\n",
    "    print('Insufficient memory for handling this matrix')"
   ]
  },
  {
   "cell_type": "markdown",
   "metadata": {},
   "source": [
    "Vamos a utilizar entonces un subconjunto de los datos para poder procesarlos."
   ]
  },
  {
   "cell_type": "code",
   "execution_count": 106,
   "metadata": {},
   "outputs": [],
   "source": [
    "subtext = \" \".join(data_preprocessed[0:20000].values.astype(str))"
   ]
  },
  {
   "cell_type": "code",
   "execution_count": 107,
   "metadata": {},
   "outputs": [],
   "source": [
    "BOW = bow_vectorizer.fit_transform(word_tokenize(subtext))"
   ]
  },
  {
   "cell_type": "code",
   "execution_count": 108,
   "metadata": {},
   "outputs": [
    {
     "data": {
      "text/plain": [
       "(156768, 17290)"
      ]
     },
     "execution_count": 108,
     "metadata": {},
     "output_type": "execute_result"
    }
   ],
   "source": [
    "BOW.shape"
   ]
  },
  {
   "cell_type": "code",
   "execution_count": 99,
   "metadata": {},
   "outputs": [],
   "source": [
    "try:\n",
    "    bow_words = bow_vectorizer.get_feature_names_out()\n",
    "    bow_matrix = pd.DataFrame(BOW.todense(), columns = bow_words)\n",
    "except MemoryError:\n",
    "    print('Insufficient memory for handling this matrix')"
   ]
  },
  {
   "cell_type": "code",
   "execution_count": 100,
   "metadata": {},
   "outputs": [
    {
     "data": {
      "text/html": [
       "<div>\n",
       "<style scoped>\n",
       "    .dataframe tbody tr th:only-of-type {\n",
       "        vertical-align: middle;\n",
       "    }\n",
       "\n",
       "    .dataframe tbody tr th {\n",
       "        vertical-align: top;\n",
       "    }\n",
       "\n",
       "    .dataframe thead th {\n",
       "        text-align: right;\n",
       "    }\n",
       "</style>\n",
       "<table border=\"1\" class=\"dataframe\">\n",
       "  <thead>\n",
       "    <tr style=\"text-align: right;\">\n",
       "      <th></th>\n",
       "      <th>aaa</th>\n",
       "      <th>aabar</th>\n",
       "      <th>aafp</th>\n",
       "      <th>aamir</th>\n",
       "      <th>aan</th>\n",
       "      <th>aapke</th>\n",
       "      <th>aapl</th>\n",
       "      <th>aaron</th>\n",
       "      <th>aaryan</th>\n",
       "      <th>aatmanirbhar</th>\n",
       "      <th>...</th>\n",
       "      <th>zte</th>\n",
       "      <th>zuiko</th>\n",
       "      <th>zulu</th>\n",
       "      <th>zune</th>\n",
       "      <th>zweli</th>\n",
       "      <th>zwift</th>\n",
       "      <th>zycov</th>\n",
       "      <th>zydus</th>\n",
       "      <th>zynga</th>\n",
       "      <th>zyrus</th>\n",
       "    </tr>\n",
       "  </thead>\n",
       "  <tbody>\n",
       "    <tr>\n",
       "      <th>0</th>\n",
       "      <td>0</td>\n",
       "      <td>0</td>\n",
       "      <td>0</td>\n",
       "      <td>0</td>\n",
       "      <td>0</td>\n",
       "      <td>0</td>\n",
       "      <td>0</td>\n",
       "      <td>0</td>\n",
       "      <td>0</td>\n",
       "      <td>0</td>\n",
       "      <td>...</td>\n",
       "      <td>0</td>\n",
       "      <td>0</td>\n",
       "      <td>0</td>\n",
       "      <td>0</td>\n",
       "      <td>0</td>\n",
       "      <td>0</td>\n",
       "      <td>0</td>\n",
       "      <td>0</td>\n",
       "      <td>0</td>\n",
       "      <td>0</td>\n",
       "    </tr>\n",
       "    <tr>\n",
       "      <th>1</th>\n",
       "      <td>0</td>\n",
       "      <td>0</td>\n",
       "      <td>0</td>\n",
       "      <td>0</td>\n",
       "      <td>0</td>\n",
       "      <td>0</td>\n",
       "      <td>0</td>\n",
       "      <td>0</td>\n",
       "      <td>0</td>\n",
       "      <td>0</td>\n",
       "      <td>...</td>\n",
       "      <td>0</td>\n",
       "      <td>0</td>\n",
       "      <td>0</td>\n",
       "      <td>0</td>\n",
       "      <td>0</td>\n",
       "      <td>0</td>\n",
       "      <td>0</td>\n",
       "      <td>0</td>\n",
       "      <td>0</td>\n",
       "      <td>0</td>\n",
       "    </tr>\n",
       "    <tr>\n",
       "      <th>2</th>\n",
       "      <td>0</td>\n",
       "      <td>0</td>\n",
       "      <td>0</td>\n",
       "      <td>0</td>\n",
       "      <td>0</td>\n",
       "      <td>0</td>\n",
       "      <td>0</td>\n",
       "      <td>0</td>\n",
       "      <td>0</td>\n",
       "      <td>0</td>\n",
       "      <td>...</td>\n",
       "      <td>0</td>\n",
       "      <td>0</td>\n",
       "      <td>0</td>\n",
       "      <td>0</td>\n",
       "      <td>0</td>\n",
       "      <td>0</td>\n",
       "      <td>0</td>\n",
       "      <td>0</td>\n",
       "      <td>0</td>\n",
       "      <td>0</td>\n",
       "    </tr>\n",
       "    <tr>\n",
       "      <th>3</th>\n",
       "      <td>0</td>\n",
       "      <td>0</td>\n",
       "      <td>0</td>\n",
       "      <td>0</td>\n",
       "      <td>0</td>\n",
       "      <td>0</td>\n",
       "      <td>0</td>\n",
       "      <td>0</td>\n",
       "      <td>0</td>\n",
       "      <td>0</td>\n",
       "      <td>...</td>\n",
       "      <td>0</td>\n",
       "      <td>0</td>\n",
       "      <td>0</td>\n",
       "      <td>0</td>\n",
       "      <td>0</td>\n",
       "      <td>0</td>\n",
       "      <td>0</td>\n",
       "      <td>0</td>\n",
       "      <td>0</td>\n",
       "      <td>0</td>\n",
       "    </tr>\n",
       "    <tr>\n",
       "      <th>4</th>\n",
       "      <td>0</td>\n",
       "      <td>0</td>\n",
       "      <td>0</td>\n",
       "      <td>0</td>\n",
       "      <td>0</td>\n",
       "      <td>0</td>\n",
       "      <td>0</td>\n",
       "      <td>0</td>\n",
       "      <td>0</td>\n",
       "      <td>0</td>\n",
       "      <td>...</td>\n",
       "      <td>0</td>\n",
       "      <td>0</td>\n",
       "      <td>0</td>\n",
       "      <td>0</td>\n",
       "      <td>0</td>\n",
       "      <td>0</td>\n",
       "      <td>0</td>\n",
       "      <td>0</td>\n",
       "      <td>0</td>\n",
       "      <td>0</td>\n",
       "    </tr>\n",
       "    <tr>\n",
       "      <th>...</th>\n",
       "      <td>...</td>\n",
       "      <td>...</td>\n",
       "      <td>...</td>\n",
       "      <td>...</td>\n",
       "      <td>...</td>\n",
       "      <td>...</td>\n",
       "      <td>...</td>\n",
       "      <td>...</td>\n",
       "      <td>...</td>\n",
       "      <td>...</td>\n",
       "      <td>...</td>\n",
       "      <td>...</td>\n",
       "      <td>...</td>\n",
       "      <td>...</td>\n",
       "      <td>...</td>\n",
       "      <td>...</td>\n",
       "      <td>...</td>\n",
       "      <td>...</td>\n",
       "      <td>...</td>\n",
       "      <td>...</td>\n",
       "      <td>...</td>\n",
       "    </tr>\n",
       "    <tr>\n",
       "      <th>156763</th>\n",
       "      <td>0</td>\n",
       "      <td>0</td>\n",
       "      <td>0</td>\n",
       "      <td>0</td>\n",
       "      <td>0</td>\n",
       "      <td>0</td>\n",
       "      <td>0</td>\n",
       "      <td>0</td>\n",
       "      <td>0</td>\n",
       "      <td>0</td>\n",
       "      <td>...</td>\n",
       "      <td>0</td>\n",
       "      <td>0</td>\n",
       "      <td>0</td>\n",
       "      <td>0</td>\n",
       "      <td>0</td>\n",
       "      <td>0</td>\n",
       "      <td>0</td>\n",
       "      <td>0</td>\n",
       "      <td>0</td>\n",
       "      <td>0</td>\n",
       "    </tr>\n",
       "    <tr>\n",
       "      <th>156764</th>\n",
       "      <td>0</td>\n",
       "      <td>0</td>\n",
       "      <td>0</td>\n",
       "      <td>0</td>\n",
       "      <td>0</td>\n",
       "      <td>0</td>\n",
       "      <td>0</td>\n",
       "      <td>0</td>\n",
       "      <td>0</td>\n",
       "      <td>0</td>\n",
       "      <td>...</td>\n",
       "      <td>0</td>\n",
       "      <td>0</td>\n",
       "      <td>0</td>\n",
       "      <td>0</td>\n",
       "      <td>0</td>\n",
       "      <td>0</td>\n",
       "      <td>0</td>\n",
       "      <td>0</td>\n",
       "      <td>0</td>\n",
       "      <td>0</td>\n",
       "    </tr>\n",
       "    <tr>\n",
       "      <th>156765</th>\n",
       "      <td>0</td>\n",
       "      <td>0</td>\n",
       "      <td>0</td>\n",
       "      <td>0</td>\n",
       "      <td>0</td>\n",
       "      <td>0</td>\n",
       "      <td>0</td>\n",
       "      <td>0</td>\n",
       "      <td>0</td>\n",
       "      <td>0</td>\n",
       "      <td>...</td>\n",
       "      <td>0</td>\n",
       "      <td>0</td>\n",
       "      <td>0</td>\n",
       "      <td>0</td>\n",
       "      <td>0</td>\n",
       "      <td>0</td>\n",
       "      <td>0</td>\n",
       "      <td>0</td>\n",
       "      <td>0</td>\n",
       "      <td>0</td>\n",
       "    </tr>\n",
       "    <tr>\n",
       "      <th>156766</th>\n",
       "      <td>0</td>\n",
       "      <td>0</td>\n",
       "      <td>0</td>\n",
       "      <td>0</td>\n",
       "      <td>0</td>\n",
       "      <td>0</td>\n",
       "      <td>0</td>\n",
       "      <td>0</td>\n",
       "      <td>0</td>\n",
       "      <td>0</td>\n",
       "      <td>...</td>\n",
       "      <td>0</td>\n",
       "      <td>0</td>\n",
       "      <td>0</td>\n",
       "      <td>0</td>\n",
       "      <td>0</td>\n",
       "      <td>0</td>\n",
       "      <td>0</td>\n",
       "      <td>0</td>\n",
       "      <td>0</td>\n",
       "      <td>0</td>\n",
       "    </tr>\n",
       "    <tr>\n",
       "      <th>156767</th>\n",
       "      <td>0</td>\n",
       "      <td>0</td>\n",
       "      <td>0</td>\n",
       "      <td>0</td>\n",
       "      <td>0</td>\n",
       "      <td>0</td>\n",
       "      <td>0</td>\n",
       "      <td>0</td>\n",
       "      <td>0</td>\n",
       "      <td>0</td>\n",
       "      <td>...</td>\n",
       "      <td>0</td>\n",
       "      <td>0</td>\n",
       "      <td>0</td>\n",
       "      <td>0</td>\n",
       "      <td>0</td>\n",
       "      <td>0</td>\n",
       "      <td>0</td>\n",
       "      <td>0</td>\n",
       "      <td>0</td>\n",
       "      <td>0</td>\n",
       "    </tr>\n",
       "  </tbody>\n",
       "</table>\n",
       "<p>156768 rows × 17290 columns</p>\n",
       "</div>"
      ],
      "text/plain": [
       "        aaa  aabar  aafp  aamir  aan  aapke  aapl  aaron  aaryan  \\\n",
       "0         0      0     0      0    0      0     0      0       0   \n",
       "1         0      0     0      0    0      0     0      0       0   \n",
       "2         0      0     0      0    0      0     0      0       0   \n",
       "3         0      0     0      0    0      0     0      0       0   \n",
       "4         0      0     0      0    0      0     0      0       0   \n",
       "...     ...    ...   ...    ...  ...    ...   ...    ...     ...   \n",
       "156763    0      0     0      0    0      0     0      0       0   \n",
       "156764    0      0     0      0    0      0     0      0       0   \n",
       "156765    0      0     0      0    0      0     0      0       0   \n",
       "156766    0      0     0      0    0      0     0      0       0   \n",
       "156767    0      0     0      0    0      0     0      0       0   \n",
       "\n",
       "        aatmanirbhar  ...  zte  zuiko  zulu  zune  zweli  zwift  zycov  zydus  \\\n",
       "0                  0  ...    0      0     0     0      0      0      0      0   \n",
       "1                  0  ...    0      0     0     0      0      0      0      0   \n",
       "2                  0  ...    0      0     0     0      0      0      0      0   \n",
       "3                  0  ...    0      0     0     0      0      0      0      0   \n",
       "4                  0  ...    0      0     0     0      0      0      0      0   \n",
       "...              ...  ...  ...    ...   ...   ...    ...    ...    ...    ...   \n",
       "156763             0  ...    0      0     0     0      0      0      0      0   \n",
       "156764             0  ...    0      0     0     0      0      0      0      0   \n",
       "156765             0  ...    0      0     0     0      0      0      0      0   \n",
       "156766             0  ...    0      0     0     0      0      0      0      0   \n",
       "156767             0  ...    0      0     0     0      0      0      0      0   \n",
       "\n",
       "        zynga  zyrus  \n",
       "0           0      0  \n",
       "1           0      0  \n",
       "2           0      0  \n",
       "3           0      0  \n",
       "4           0      0  \n",
       "...       ...    ...  \n",
       "156763      0      0  \n",
       "156764      0      0  \n",
       "156765      0      0  \n",
       "156766      0      0  \n",
       "156767      0      0  \n",
       "\n",
       "[156768 rows x 17290 columns]"
      ]
     },
     "execution_count": 100,
     "metadata": {},
     "output_type": "execute_result"
    }
   ],
   "source": [
    "bow_matrix"
   ]
  },
  {
   "cell_type": "markdown",
   "metadata": {},
   "source": [
    "#### Vectorización con TF-IDF"
   ]
  },
  {
   "cell_type": "code",
   "execution_count": 102,
   "metadata": {},
   "outputs": [],
   "source": [
    "tfidf_vectorizer = TfidfVectorizer() #Pueden pasarle a la clase múltiples parámetros. Explorar en scikit-learn"
   ]
  },
  {
   "cell_type": "code",
   "execution_count": 103,
   "metadata": {},
   "outputs": [],
   "source": [
    "tfidf = tfidf_vectorizer.fit_transform(word_tokenize(subtext))"
   ]
  },
  {
   "cell_type": "code",
   "execution_count": 104,
   "metadata": {},
   "outputs": [
    {
     "data": {
      "text/plain": [
       "(156768, 17290)"
      ]
     },
     "execution_count": 104,
     "metadata": {},
     "output_type": "execute_result"
    }
   ],
   "source": [
    "tfidf.shape"
   ]
  },
  {
   "cell_type": "code",
   "execution_count": 105,
   "metadata": {},
   "outputs": [
    {
     "data": {
      "text/html": [
       "<div>\n",
       "<style scoped>\n",
       "    .dataframe tbody tr th:only-of-type {\n",
       "        vertical-align: middle;\n",
       "    }\n",
       "\n",
       "    .dataframe tbody tr th {\n",
       "        vertical-align: top;\n",
       "    }\n",
       "\n",
       "    .dataframe thead th {\n",
       "        text-align: right;\n",
       "    }\n",
       "</style>\n",
       "<table border=\"1\" class=\"dataframe\">\n",
       "  <thead>\n",
       "    <tr style=\"text-align: right;\">\n",
       "      <th></th>\n",
       "      <th>aaa</th>\n",
       "      <th>aabar</th>\n",
       "      <th>aafp</th>\n",
       "      <th>aamir</th>\n",
       "      <th>aan</th>\n",
       "      <th>aapke</th>\n",
       "      <th>aapl</th>\n",
       "      <th>aaron</th>\n",
       "      <th>aaryan</th>\n",
       "      <th>aatmanirbhar</th>\n",
       "      <th>...</th>\n",
       "      <th>zte</th>\n",
       "      <th>zuiko</th>\n",
       "      <th>zulu</th>\n",
       "      <th>zune</th>\n",
       "      <th>zweli</th>\n",
       "      <th>zwift</th>\n",
       "      <th>zycov</th>\n",
       "      <th>zydus</th>\n",
       "      <th>zynga</th>\n",
       "      <th>zyrus</th>\n",
       "    </tr>\n",
       "  </thead>\n",
       "  <tbody>\n",
       "    <tr>\n",
       "      <th>0</th>\n",
       "      <td>0.0</td>\n",
       "      <td>0.0</td>\n",
       "      <td>0.0</td>\n",
       "      <td>0.0</td>\n",
       "      <td>0.0</td>\n",
       "      <td>0.0</td>\n",
       "      <td>0.0</td>\n",
       "      <td>0.0</td>\n",
       "      <td>0.0</td>\n",
       "      <td>0.0</td>\n",
       "      <td>...</td>\n",
       "      <td>0.0</td>\n",
       "      <td>0.0</td>\n",
       "      <td>0.0</td>\n",
       "      <td>0.0</td>\n",
       "      <td>0.0</td>\n",
       "      <td>0.0</td>\n",
       "      <td>0.0</td>\n",
       "      <td>0.0</td>\n",
       "      <td>0.0</td>\n",
       "      <td>0.0</td>\n",
       "    </tr>\n",
       "    <tr>\n",
       "      <th>1</th>\n",
       "      <td>0.0</td>\n",
       "      <td>0.0</td>\n",
       "      <td>0.0</td>\n",
       "      <td>0.0</td>\n",
       "      <td>0.0</td>\n",
       "      <td>0.0</td>\n",
       "      <td>0.0</td>\n",
       "      <td>0.0</td>\n",
       "      <td>0.0</td>\n",
       "      <td>0.0</td>\n",
       "      <td>...</td>\n",
       "      <td>0.0</td>\n",
       "      <td>0.0</td>\n",
       "      <td>0.0</td>\n",
       "      <td>0.0</td>\n",
       "      <td>0.0</td>\n",
       "      <td>0.0</td>\n",
       "      <td>0.0</td>\n",
       "      <td>0.0</td>\n",
       "      <td>0.0</td>\n",
       "      <td>0.0</td>\n",
       "    </tr>\n",
       "    <tr>\n",
       "      <th>2</th>\n",
       "      <td>0.0</td>\n",
       "      <td>0.0</td>\n",
       "      <td>0.0</td>\n",
       "      <td>0.0</td>\n",
       "      <td>0.0</td>\n",
       "      <td>0.0</td>\n",
       "      <td>0.0</td>\n",
       "      <td>0.0</td>\n",
       "      <td>0.0</td>\n",
       "      <td>0.0</td>\n",
       "      <td>...</td>\n",
       "      <td>0.0</td>\n",
       "      <td>0.0</td>\n",
       "      <td>0.0</td>\n",
       "      <td>0.0</td>\n",
       "      <td>0.0</td>\n",
       "      <td>0.0</td>\n",
       "      <td>0.0</td>\n",
       "      <td>0.0</td>\n",
       "      <td>0.0</td>\n",
       "      <td>0.0</td>\n",
       "    </tr>\n",
       "    <tr>\n",
       "      <th>3</th>\n",
       "      <td>0.0</td>\n",
       "      <td>0.0</td>\n",
       "      <td>0.0</td>\n",
       "      <td>0.0</td>\n",
       "      <td>0.0</td>\n",
       "      <td>0.0</td>\n",
       "      <td>0.0</td>\n",
       "      <td>0.0</td>\n",
       "      <td>0.0</td>\n",
       "      <td>0.0</td>\n",
       "      <td>...</td>\n",
       "      <td>0.0</td>\n",
       "      <td>0.0</td>\n",
       "      <td>0.0</td>\n",
       "      <td>0.0</td>\n",
       "      <td>0.0</td>\n",
       "      <td>0.0</td>\n",
       "      <td>0.0</td>\n",
       "      <td>0.0</td>\n",
       "      <td>0.0</td>\n",
       "      <td>0.0</td>\n",
       "    </tr>\n",
       "    <tr>\n",
       "      <th>4</th>\n",
       "      <td>0.0</td>\n",
       "      <td>0.0</td>\n",
       "      <td>0.0</td>\n",
       "      <td>0.0</td>\n",
       "      <td>0.0</td>\n",
       "      <td>0.0</td>\n",
       "      <td>0.0</td>\n",
       "      <td>0.0</td>\n",
       "      <td>0.0</td>\n",
       "      <td>0.0</td>\n",
       "      <td>...</td>\n",
       "      <td>0.0</td>\n",
       "      <td>0.0</td>\n",
       "      <td>0.0</td>\n",
       "      <td>0.0</td>\n",
       "      <td>0.0</td>\n",
       "      <td>0.0</td>\n",
       "      <td>0.0</td>\n",
       "      <td>0.0</td>\n",
       "      <td>0.0</td>\n",
       "      <td>0.0</td>\n",
       "    </tr>\n",
       "    <tr>\n",
       "      <th>...</th>\n",
       "      <td>...</td>\n",
       "      <td>...</td>\n",
       "      <td>...</td>\n",
       "      <td>...</td>\n",
       "      <td>...</td>\n",
       "      <td>...</td>\n",
       "      <td>...</td>\n",
       "      <td>...</td>\n",
       "      <td>...</td>\n",
       "      <td>...</td>\n",
       "      <td>...</td>\n",
       "      <td>...</td>\n",
       "      <td>...</td>\n",
       "      <td>...</td>\n",
       "      <td>...</td>\n",
       "      <td>...</td>\n",
       "      <td>...</td>\n",
       "      <td>...</td>\n",
       "      <td>...</td>\n",
       "      <td>...</td>\n",
       "      <td>...</td>\n",
       "    </tr>\n",
       "    <tr>\n",
       "      <th>156763</th>\n",
       "      <td>0.0</td>\n",
       "      <td>0.0</td>\n",
       "      <td>0.0</td>\n",
       "      <td>0.0</td>\n",
       "      <td>0.0</td>\n",
       "      <td>0.0</td>\n",
       "      <td>0.0</td>\n",
       "      <td>0.0</td>\n",
       "      <td>0.0</td>\n",
       "      <td>0.0</td>\n",
       "      <td>...</td>\n",
       "      <td>0.0</td>\n",
       "      <td>0.0</td>\n",
       "      <td>0.0</td>\n",
       "      <td>0.0</td>\n",
       "      <td>0.0</td>\n",
       "      <td>0.0</td>\n",
       "      <td>0.0</td>\n",
       "      <td>0.0</td>\n",
       "      <td>0.0</td>\n",
       "      <td>0.0</td>\n",
       "    </tr>\n",
       "    <tr>\n",
       "      <th>156764</th>\n",
       "      <td>0.0</td>\n",
       "      <td>0.0</td>\n",
       "      <td>0.0</td>\n",
       "      <td>0.0</td>\n",
       "      <td>0.0</td>\n",
       "      <td>0.0</td>\n",
       "      <td>0.0</td>\n",
       "      <td>0.0</td>\n",
       "      <td>0.0</td>\n",
       "      <td>0.0</td>\n",
       "      <td>...</td>\n",
       "      <td>0.0</td>\n",
       "      <td>0.0</td>\n",
       "      <td>0.0</td>\n",
       "      <td>0.0</td>\n",
       "      <td>0.0</td>\n",
       "      <td>0.0</td>\n",
       "      <td>0.0</td>\n",
       "      <td>0.0</td>\n",
       "      <td>0.0</td>\n",
       "      <td>0.0</td>\n",
       "    </tr>\n",
       "    <tr>\n",
       "      <th>156765</th>\n",
       "      <td>0.0</td>\n",
       "      <td>0.0</td>\n",
       "      <td>0.0</td>\n",
       "      <td>0.0</td>\n",
       "      <td>0.0</td>\n",
       "      <td>0.0</td>\n",
       "      <td>0.0</td>\n",
       "      <td>0.0</td>\n",
       "      <td>0.0</td>\n",
       "      <td>0.0</td>\n",
       "      <td>...</td>\n",
       "      <td>0.0</td>\n",
       "      <td>0.0</td>\n",
       "      <td>0.0</td>\n",
       "      <td>0.0</td>\n",
       "      <td>0.0</td>\n",
       "      <td>0.0</td>\n",
       "      <td>0.0</td>\n",
       "      <td>0.0</td>\n",
       "      <td>0.0</td>\n",
       "      <td>0.0</td>\n",
       "    </tr>\n",
       "    <tr>\n",
       "      <th>156766</th>\n",
       "      <td>0.0</td>\n",
       "      <td>0.0</td>\n",
       "      <td>0.0</td>\n",
       "      <td>0.0</td>\n",
       "      <td>0.0</td>\n",
       "      <td>0.0</td>\n",
       "      <td>0.0</td>\n",
       "      <td>0.0</td>\n",
       "      <td>0.0</td>\n",
       "      <td>0.0</td>\n",
       "      <td>...</td>\n",
       "      <td>0.0</td>\n",
       "      <td>0.0</td>\n",
       "      <td>0.0</td>\n",
       "      <td>0.0</td>\n",
       "      <td>0.0</td>\n",
       "      <td>0.0</td>\n",
       "      <td>0.0</td>\n",
       "      <td>0.0</td>\n",
       "      <td>0.0</td>\n",
       "      <td>0.0</td>\n",
       "    </tr>\n",
       "    <tr>\n",
       "      <th>156767</th>\n",
       "      <td>0.0</td>\n",
       "      <td>0.0</td>\n",
       "      <td>0.0</td>\n",
       "      <td>0.0</td>\n",
       "      <td>0.0</td>\n",
       "      <td>0.0</td>\n",
       "      <td>0.0</td>\n",
       "      <td>0.0</td>\n",
       "      <td>0.0</td>\n",
       "      <td>0.0</td>\n",
       "      <td>...</td>\n",
       "      <td>0.0</td>\n",
       "      <td>0.0</td>\n",
       "      <td>0.0</td>\n",
       "      <td>0.0</td>\n",
       "      <td>0.0</td>\n",
       "      <td>0.0</td>\n",
       "      <td>0.0</td>\n",
       "      <td>0.0</td>\n",
       "      <td>0.0</td>\n",
       "      <td>0.0</td>\n",
       "    </tr>\n",
       "  </tbody>\n",
       "</table>\n",
       "<p>156768 rows × 17290 columns</p>\n",
       "</div>"
      ],
      "text/plain": [
       "        aaa  aabar  aafp  aamir  aan  aapke  aapl  aaron  aaryan  \\\n",
       "0       0.0    0.0   0.0    0.0  0.0    0.0   0.0    0.0     0.0   \n",
       "1       0.0    0.0   0.0    0.0  0.0    0.0   0.0    0.0     0.0   \n",
       "2       0.0    0.0   0.0    0.0  0.0    0.0   0.0    0.0     0.0   \n",
       "3       0.0    0.0   0.0    0.0  0.0    0.0   0.0    0.0     0.0   \n",
       "4       0.0    0.0   0.0    0.0  0.0    0.0   0.0    0.0     0.0   \n",
       "...     ...    ...   ...    ...  ...    ...   ...    ...     ...   \n",
       "156763  0.0    0.0   0.0    0.0  0.0    0.0   0.0    0.0     0.0   \n",
       "156764  0.0    0.0   0.0    0.0  0.0    0.0   0.0    0.0     0.0   \n",
       "156765  0.0    0.0   0.0    0.0  0.0    0.0   0.0    0.0     0.0   \n",
       "156766  0.0    0.0   0.0    0.0  0.0    0.0   0.0    0.0     0.0   \n",
       "156767  0.0    0.0   0.0    0.0  0.0    0.0   0.0    0.0     0.0   \n",
       "\n",
       "        aatmanirbhar  ...  zte  zuiko  zulu  zune  zweli  zwift  zycov  zydus  \\\n",
       "0                0.0  ...  0.0    0.0   0.0   0.0    0.0    0.0    0.0    0.0   \n",
       "1                0.0  ...  0.0    0.0   0.0   0.0    0.0    0.0    0.0    0.0   \n",
       "2                0.0  ...  0.0    0.0   0.0   0.0    0.0    0.0    0.0    0.0   \n",
       "3                0.0  ...  0.0    0.0   0.0   0.0    0.0    0.0    0.0    0.0   \n",
       "4                0.0  ...  0.0    0.0   0.0   0.0    0.0    0.0    0.0    0.0   \n",
       "...              ...  ...  ...    ...   ...   ...    ...    ...    ...    ...   \n",
       "156763           0.0  ...  0.0    0.0   0.0   0.0    0.0    0.0    0.0    0.0   \n",
       "156764           0.0  ...  0.0    0.0   0.0   0.0    0.0    0.0    0.0    0.0   \n",
       "156765           0.0  ...  0.0    0.0   0.0   0.0    0.0    0.0    0.0    0.0   \n",
       "156766           0.0  ...  0.0    0.0   0.0   0.0    0.0    0.0    0.0    0.0   \n",
       "156767           0.0  ...  0.0    0.0   0.0   0.0    0.0    0.0    0.0    0.0   \n",
       "\n",
       "        zynga  zyrus  \n",
       "0         0.0    0.0  \n",
       "1         0.0    0.0  \n",
       "2         0.0    0.0  \n",
       "3         0.0    0.0  \n",
       "4         0.0    0.0  \n",
       "...       ...    ...  \n",
       "156763    0.0    0.0  \n",
       "156764    0.0    0.0  \n",
       "156765    0.0    0.0  \n",
       "156766    0.0    0.0  \n",
       "156767    0.0    0.0  \n",
       "\n",
       "[156768 rows x 17290 columns]"
      ]
     },
     "execution_count": 105,
     "metadata": {},
     "output_type": "execute_result"
    }
   ],
   "source": [
    "tfidf_words = tfidf_vectorizer.get_feature_names_out()\n",
    "pd.DataFrame(tfidf.todense(), columns = tfidf_words)"
   ]
  },
  {
   "cell_type": "markdown",
   "metadata": {},
   "source": [
    "**Recordar: BOW son números enteros, TF-IDF son numeros reales**"
   ]
  },
  {
   "cell_type": "markdown",
   "metadata": {},
   "source": [
    "### Ejercicios"
   ]
  },
  {
   "cell_type": "markdown",
   "metadata": {},
   "source": [
    "* Explorar las clases CountVectorizer y TfidfVectorizer en scikit-learn para entenderlas más en profundidad y conocer los parámetros que se les pueden suministrar.\n",
    "\n",
    "* Realizar el mismo procedimiento con el cuento \"Pedro Páramo\" de Juan Ruffo (tener en cuenta que el mismo se encuentra en español) y 'Orthodoxy' de G.Chesterton. "
   ]
  },
  {
   "cell_type": "markdown",
   "metadata": {},
   "source": [
    "![Colegio Bourbaki](./Images/Matematicas.png)"
   ]
  },
  {
   "cell_type": "markdown",
   "metadata": {},
   "source": [
    "![Colegio Bourbaki](./Images/Contacto.png)"
   ]
  }
 ],
 "metadata": {
  "kernelspec": {
   "display_name": "Python 3",
   "language": "python",
   "name": "python3"
  },
  "language_info": {
   "codemirror_mode": {
    "name": "ipython",
    "version": 3
   },
   "file_extension": ".py",
   "mimetype": "text/x-python",
   "name": "python",
   "nbconvert_exporter": "python",
   "pygments_lexer": "ipython3",
   "version": "3.11.8"
  }
 },
 "nbformat": 4,
 "nbformat_minor": 2
}
