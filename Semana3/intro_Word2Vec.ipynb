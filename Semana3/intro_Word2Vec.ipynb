{
 "cells": [
  {
   "cell_type": "markdown",
   "metadata": {},
   "source": [
    "![Colegio Bourbaki](./Images/Bourbaki.png)"
   ]
  },
  {
   "cell_type": "markdown",
   "metadata": {},
   "source": [
    "## Procesamiento de Lenguaje Natural"
   ]
  },
  {
   "cell_type": "markdown",
   "metadata": {},
   "source": [
    "### Encaje de Palabras (Word Embedding)"
   ]
  },
  {
   "cell_type": "markdown",
   "metadata": {},
   "source": [
    "El encaje de palabras es una técnica de modelado lingüístico que consiste en asignar palabras a vectores de números reales. Representa palabras o frases en un espacio vectorial de varias dimensiones. Los encajes de palabras pueden generarse mediante diversos métodos, como redes neuronales, matrices de co-ocurrencia, modelos probabilísticos, etc. \n",
    "\n",
    "**Word2Vec** consta de modelos para generar encajes de palabras. Estos modelos son redes neuronales superficiales de dos capas que tienen una capa de entrada, una capa oculta y una capa de salida."
   ]
  },
  {
   "cell_type": "markdown",
   "metadata": {},
   "source": [
    "### Word2Vec"
   ]
  },
  {
   "cell_type": "markdown",
   "metadata": {},
   "source": [
    "Word2Vec es un método ampliamente utilizado en el procesamiento del lenguaje natural (PLN) que permite representar las palabras como vectores en un espacio vectorial continuo. Word2Vec es un esfuerzo por asignar palabras a vectores de alta dimensión para capturar las relaciones semánticas entre palabras, desarrollado por investigadores de Google. Las palabras con significados similares deben tener representaciones vectoriales similares, según el principio fundamental de Word2Vec. \n",
    "\n",
    "Word2Vec utiliza dos arquitecturas:"
   ]
  },
  {
   "cell_type": "markdown",
   "metadata": {},
   "source": [
    "* **CBOW (Continuous Bag of Words):** El modelo CBOW predice la palabra actual a partir de palabras contextuales dentro de una ventana específica. La capa de entrada contiene las palabras contextuales y la capa de salida contiene la palabra actual. La capa oculta contiene las dimensiones que queremos que representen la palabra actual presente en la capa de salida."
   ]
  },
  {
   "cell_type": "markdown",
   "metadata": {},
   "source": [
    "![CBOW](./Images/cbow.png)"
   ]
  },
  {
   "cell_type": "markdown",
   "metadata": {},
   "source": [
    "* **Skip-Gram:** Skip Gram predice las palabras contextuales circundantes dentro de una ventana específica dada la palabra actual. La capa de entrada contiene la palabra actual y la capa de salida contiene las palabras contextuales. La capa oculta contiene el número de dimensiones en las que queremos representar la palabra actual presente en la capa de entrada."
   ]
  },
  {
   "cell_type": "markdown",
   "metadata": {},
   "source": [
    "![SkipGram](./Images/skip_gram.png)"
   ]
  },
  {
   "cell_type": "markdown",
   "metadata": {},
   "source": [
    "### Librerias"
   ]
  },
  {
   "cell_type": "markdown",
   "metadata": {},
   "source": [
    "La idea básica del encaje de palabras es que las palabras que aparecen en un contexto similar tienden a estar más cerca unas de otras en el espacio vectorial. \n",
    "\n",
    "Para generar vectores de palabras en Python, los módulos necesarios son nltk y gensim:\n",
    "\n",
    "* **NLTK:** NLTK (Natural Language Toolkit) es una potente biblioteca de Python para el tratamiento de datos del lenguaje humano. Ofrece interfaces fáciles de usar para más de 50 recursos léxicos y corpus, incluido WordNet. NLTK también incluye una colección de bibliotecas de procesamiento de textos para tareas de categorización, tokenización, stemming, etiquetado, análisis sintáctico y razonamiento semántico.\n",
    "\n",
    "* **GENSIM:** Gensim es una biblioteca Python de código abierto que utiliza el modelado temático y el modelado de similitud de documentos para gestionar y analizar cantidades masivas de datos de texto no estructurados. Es especialmente conocida por aplicar algoritmos de modelado de tópicos y espacios vectoriales, como Word2Vec y Latent Dirichlet Allocation (LDA), de uso muy extendido."
   ]
  },
  {
   "cell_type": "markdown",
   "metadata": {},
   "source": [
    "### Librerías"
   ]
  },
  {
   "cell_type": "code",
   "execution_count": 59,
   "metadata": {},
   "outputs": [],
   "source": [
    "# Data Analysis\n",
    "import numpy as np\n",
    "import pandas as pd\n",
    "\n",
    "# Plotting\n",
    "import matplotlib.pyplot as plt\n",
    "import seaborn as sns\n",
    "import plotly.graph_objects as go\n",
    "\n",
    "# NLP\n",
    "import nltk\n",
    "from gensim.models import KeyedVectors\n",
    "\n",
    "# Utils\n",
    "from sklearn.manifold import TSNE  # Dimesionality Reduction"
   ]
  },
  {
   "cell_type": "markdown",
   "metadata": {},
   "source": [
    "### Configuraciones"
   ]
  },
  {
   "cell_type": "code",
   "execution_count": 3,
   "metadata": {},
   "outputs": [
    {
     "name": "stderr",
     "output_type": "stream",
     "text": [
      "[nltk_data] Downloading package punkt to /home/pdconte/nltk_data...\n",
      "[nltk_data]   Package punkt is already up-to-date!\n",
      "[nltk_data] Downloading package stopwords to\n",
      "[nltk_data]     /home/pdconte/nltk_data...\n",
      "[nltk_data]   Package stopwords is already up-to-date!\n"
     ]
    }
   ],
   "source": [
    "nltk.download(\"punkt\")\n",
    "nltk.download(\"stopwords\")\n",
    "stop_words = set(nltk.corpus.stopwords.words(\"spanish\"))  "
   ]
  },
  {
   "cell_type": "markdown",
   "metadata": {},
   "source": [
    "Veamos un ejemplo simple de uso de Word2Vec con el modelo Glove, el cual ya esta pre-entrenado:"
   ]
  },
  {
   "cell_type": "code",
   "execution_count": 6,
   "metadata": {},
   "outputs": [],
   "source": [
    "glove_file = '/home/pdconte/Downloads/glove.6B.300d.txt'\n",
    "model = KeyedVectors.load_word2vec_format(glove_file, binary=False, no_header=True)"
   ]
  },
  {
   "cell_type": "markdown",
   "metadata": {},
   "source": [
    "Vamos a imprimir las 10 primeras palabras del vocabulario:"
   ]
  },
  {
   "cell_type": "code",
   "execution_count": 7,
   "metadata": {},
   "outputs": [
    {
     "name": "stdout",
     "output_type": "stream",
     "text": [
      "word #0/400000 is the\n",
      "word #1/400000 is ,\n",
      "word #2/400000 is .\n",
      "word #3/400000 is of\n",
      "word #4/400000 is to\n",
      "word #5/400000 is and\n",
      "word #6/400000 is in\n",
      "word #7/400000 is a\n",
      "word #8/400000 is \"\n",
      "word #9/400000 is 's\n"
     ]
    }
   ],
   "source": [
    "for index, word in enumerate(model.index_to_key):\n",
    "    if index == 10:\n",
    "        break\n",
    "    print(f\"word #{index}/{len(model.index_to_key)} is {word}\")"
   ]
  },
  {
   "cell_type": "code",
   "execution_count": 8,
   "metadata": {},
   "outputs": [],
   "source": [
    "# Construcción de un dataframe con los vectores de las palabras\n",
    "words = model.index_to_key\n",
    "vectors = {word: model[word] for word in words}\n",
    "X = pd.DataFrame.from_dict(vectors, orient=\"index\")"
   ]
  },
  {
   "cell_type": "code",
   "execution_count": 9,
   "metadata": {},
   "outputs": [
    {
     "data": {
      "text/plain": [
       "(400000, 300)"
      ]
     },
     "execution_count": 9,
     "metadata": {},
     "output_type": "execute_result"
    }
   ],
   "source": [
    "X.shape"
   ]
  },
  {
   "cell_type": "code",
   "execution_count": 10,
   "metadata": {},
   "outputs": [
    {
     "data": {
      "text/html": [
       "<div>\n",
       "<style scoped>\n",
       "    .dataframe tbody tr th:only-of-type {\n",
       "        vertical-align: middle;\n",
       "    }\n",
       "\n",
       "    .dataframe tbody tr th {\n",
       "        vertical-align: top;\n",
       "    }\n",
       "\n",
       "    .dataframe thead th {\n",
       "        text-align: right;\n",
       "    }\n",
       "</style>\n",
       "<table border=\"1\" class=\"dataframe\">\n",
       "  <thead>\n",
       "    <tr style=\"text-align: right;\">\n",
       "      <th></th>\n",
       "      <th>0</th>\n",
       "      <th>1</th>\n",
       "      <th>2</th>\n",
       "      <th>3</th>\n",
       "      <th>4</th>\n",
       "      <th>5</th>\n",
       "      <th>6</th>\n",
       "      <th>7</th>\n",
       "      <th>8</th>\n",
       "      <th>9</th>\n",
       "      <th>...</th>\n",
       "      <th>290</th>\n",
       "      <th>291</th>\n",
       "      <th>292</th>\n",
       "      <th>293</th>\n",
       "      <th>294</th>\n",
       "      <th>295</th>\n",
       "      <th>296</th>\n",
       "      <th>297</th>\n",
       "      <th>298</th>\n",
       "      <th>299</th>\n",
       "    </tr>\n",
       "  </thead>\n",
       "  <tbody>\n",
       "    <tr>\n",
       "      <th>the</th>\n",
       "      <td>0.046560</td>\n",
       "      <td>0.213180</td>\n",
       "      <td>-0.007436</td>\n",
       "      <td>-0.458540</td>\n",
       "      <td>-0.035639</td>\n",
       "      <td>0.236430</td>\n",
       "      <td>-0.288360</td>\n",
       "      <td>0.215210</td>\n",
       "      <td>-0.134860</td>\n",
       "      <td>-1.6413</td>\n",
       "      <td>...</td>\n",
       "      <td>-0.013064</td>\n",
       "      <td>-0.296860</td>\n",
       "      <td>-0.079913</td>\n",
       "      <td>0.195000</td>\n",
       "      <td>0.031549</td>\n",
       "      <td>0.285060</td>\n",
       "      <td>-0.087461</td>\n",
       "      <td>0.009061</td>\n",
       "      <td>-0.209890</td>\n",
       "      <td>0.053913</td>\n",
       "    </tr>\n",
       "    <tr>\n",
       "      <th>,</th>\n",
       "      <td>-0.255390</td>\n",
       "      <td>-0.257230</td>\n",
       "      <td>0.131690</td>\n",
       "      <td>-0.042688</td>\n",
       "      <td>0.218170</td>\n",
       "      <td>-0.022702</td>\n",
       "      <td>-0.178540</td>\n",
       "      <td>0.107560</td>\n",
       "      <td>0.058936</td>\n",
       "      <td>-1.3854</td>\n",
       "      <td>...</td>\n",
       "      <td>0.075968</td>\n",
       "      <td>-0.014359</td>\n",
       "      <td>-0.073794</td>\n",
       "      <td>0.221760</td>\n",
       "      <td>0.146520</td>\n",
       "      <td>0.566860</td>\n",
       "      <td>0.053307</td>\n",
       "      <td>-0.232900</td>\n",
       "      <td>-0.122260</td>\n",
       "      <td>0.354990</td>\n",
       "    </tr>\n",
       "    <tr>\n",
       "      <th>.</th>\n",
       "      <td>-0.125590</td>\n",
       "      <td>0.013630</td>\n",
       "      <td>0.103060</td>\n",
       "      <td>-0.101230</td>\n",
       "      <td>0.098128</td>\n",
       "      <td>0.136270</td>\n",
       "      <td>-0.107210</td>\n",
       "      <td>0.236970</td>\n",
       "      <td>0.328700</td>\n",
       "      <td>-1.6785</td>\n",
       "      <td>...</td>\n",
       "      <td>0.060148</td>\n",
       "      <td>-0.156190</td>\n",
       "      <td>-0.119490</td>\n",
       "      <td>0.234450</td>\n",
       "      <td>0.081367</td>\n",
       "      <td>0.246180</td>\n",
       "      <td>-0.152420</td>\n",
       "      <td>-0.342240</td>\n",
       "      <td>-0.022394</td>\n",
       "      <td>0.136840</td>\n",
       "    </tr>\n",
       "    <tr>\n",
       "      <th>of</th>\n",
       "      <td>-0.076947</td>\n",
       "      <td>-0.021211</td>\n",
       "      <td>0.212710</td>\n",
       "      <td>-0.722320</td>\n",
       "      <td>-0.139880</td>\n",
       "      <td>-0.122340</td>\n",
       "      <td>-0.175210</td>\n",
       "      <td>0.121370</td>\n",
       "      <td>-0.070866</td>\n",
       "      <td>-1.5721</td>\n",
       "      <td>...</td>\n",
       "      <td>-0.366730</td>\n",
       "      <td>-0.386030</td>\n",
       "      <td>0.302900</td>\n",
       "      <td>0.015747</td>\n",
       "      <td>0.340360</td>\n",
       "      <td>0.478410</td>\n",
       "      <td>0.068617</td>\n",
       "      <td>0.183510</td>\n",
       "      <td>-0.291830</td>\n",
       "      <td>-0.046533</td>\n",
       "    </tr>\n",
       "    <tr>\n",
       "      <th>to</th>\n",
       "      <td>-0.257560</td>\n",
       "      <td>-0.057132</td>\n",
       "      <td>-0.671900</td>\n",
       "      <td>-0.380820</td>\n",
       "      <td>-0.364210</td>\n",
       "      <td>-0.082155</td>\n",
       "      <td>-0.010955</td>\n",
       "      <td>-0.082047</td>\n",
       "      <td>0.460560</td>\n",
       "      <td>-1.8477</td>\n",
       "      <td>...</td>\n",
       "      <td>-0.012806</td>\n",
       "      <td>-0.597070</td>\n",
       "      <td>0.317340</td>\n",
       "      <td>-0.252670</td>\n",
       "      <td>0.543840</td>\n",
       "      <td>0.063007</td>\n",
       "      <td>-0.049795</td>\n",
       "      <td>-0.160430</td>\n",
       "      <td>0.046744</td>\n",
       "      <td>-0.070621</td>\n",
       "    </tr>\n",
       "    <tr>\n",
       "      <th>and</th>\n",
       "      <td>0.038466</td>\n",
       "      <td>-0.039792</td>\n",
       "      <td>0.082747</td>\n",
       "      <td>-0.389230</td>\n",
       "      <td>-0.214310</td>\n",
       "      <td>0.170200</td>\n",
       "      <td>-0.025657</td>\n",
       "      <td>0.095780</td>\n",
       "      <td>0.238600</td>\n",
       "      <td>-1.6342</td>\n",
       "      <td>...</td>\n",
       "      <td>0.045194</td>\n",
       "      <td>-0.204050</td>\n",
       "      <td>-0.210970</td>\n",
       "      <td>-0.110250</td>\n",
       "      <td>0.021766</td>\n",
       "      <td>0.441290</td>\n",
       "      <td>0.327970</td>\n",
       "      <td>-0.334270</td>\n",
       "      <td>0.011807</td>\n",
       "      <td>0.059703</td>\n",
       "    </tr>\n",
       "    <tr>\n",
       "      <th>in</th>\n",
       "      <td>-0.443990</td>\n",
       "      <td>0.128170</td>\n",
       "      <td>-0.252470</td>\n",
       "      <td>-0.185820</td>\n",
       "      <td>-0.166140</td>\n",
       "      <td>0.259090</td>\n",
       "      <td>-0.226780</td>\n",
       "      <td>-0.069229</td>\n",
       "      <td>-0.077204</td>\n",
       "      <td>-1.5814</td>\n",
       "      <td>...</td>\n",
       "      <td>-0.274500</td>\n",
       "      <td>-0.037237</td>\n",
       "      <td>0.101040</td>\n",
       "      <td>0.107980</td>\n",
       "      <td>0.377270</td>\n",
       "      <td>0.879770</td>\n",
       "      <td>0.335830</td>\n",
       "      <td>-0.200430</td>\n",
       "      <td>-0.082191</td>\n",
       "      <td>-0.062550</td>\n",
       "    </tr>\n",
       "    <tr>\n",
       "      <th>a</th>\n",
       "      <td>-0.297120</td>\n",
       "      <td>0.094049</td>\n",
       "      <td>-0.096662</td>\n",
       "      <td>-0.344000</td>\n",
       "      <td>-0.184830</td>\n",
       "      <td>-0.123290</td>\n",
       "      <td>-0.116560</td>\n",
       "      <td>-0.099692</td>\n",
       "      <td>0.172650</td>\n",
       "      <td>-1.6386</td>\n",
       "      <td>...</td>\n",
       "      <td>0.075972</td>\n",
       "      <td>-0.424260</td>\n",
       "      <td>-0.396700</td>\n",
       "      <td>0.326830</td>\n",
       "      <td>0.620490</td>\n",
       "      <td>0.347190</td>\n",
       "      <td>0.269520</td>\n",
       "      <td>0.059717</td>\n",
       "      <td>-0.228530</td>\n",
       "      <td>0.296020</td>\n",
       "    </tr>\n",
       "    <tr>\n",
       "      <th>\"</th>\n",
       "      <td>0.694700</td>\n",
       "      <td>0.221840</td>\n",
       "      <td>0.105260</td>\n",
       "      <td>0.012382</td>\n",
       "      <td>-0.255800</td>\n",
       "      <td>-0.326450</td>\n",
       "      <td>-0.482870</td>\n",
       "      <td>0.517550</td>\n",
       "      <td>-0.087200</td>\n",
       "      <td>-2.0289</td>\n",
       "      <td>...</td>\n",
       "      <td>-0.324010</td>\n",
       "      <td>-0.397910</td>\n",
       "      <td>-0.354750</td>\n",
       "      <td>-0.064987</td>\n",
       "      <td>-0.359590</td>\n",
       "      <td>0.274070</td>\n",
       "      <td>0.283260</td>\n",
       "      <td>0.348710</td>\n",
       "      <td>-0.630790</td>\n",
       "      <td>0.380890</td>\n",
       "    </tr>\n",
       "    <tr>\n",
       "      <th>'s</th>\n",
       "      <td>-0.001272</td>\n",
       "      <td>0.365140</td>\n",
       "      <td>-0.077363</td>\n",
       "      <td>-0.265590</td>\n",
       "      <td>0.179870</td>\n",
       "      <td>0.153470</td>\n",
       "      <td>-0.153380</td>\n",
       "      <td>0.432670</td>\n",
       "      <td>-0.133640</td>\n",
       "      <td>-1.7160</td>\n",
       "      <td>...</td>\n",
       "      <td>-0.322950</td>\n",
       "      <td>0.016040</td>\n",
       "      <td>0.273900</td>\n",
       "      <td>0.046497</td>\n",
       "      <td>0.220020</td>\n",
       "      <td>0.501640</td>\n",
       "      <td>0.633240</td>\n",
       "      <td>-0.183610</td>\n",
       "      <td>-0.765180</td>\n",
       "      <td>0.392060</td>\n",
       "    </tr>\n",
       "    <tr>\n",
       "      <th>for</th>\n",
       "      <td>-0.241320</td>\n",
       "      <td>0.120630</td>\n",
       "      <td>0.191900</td>\n",
       "      <td>-0.266920</td>\n",
       "      <td>0.061076</td>\n",
       "      <td>-0.022878</td>\n",
       "      <td>0.580170</td>\n",
       "      <td>-0.225330</td>\n",
       "      <td>-0.206440</td>\n",
       "      <td>-1.6361</td>\n",
       "      <td>...</td>\n",
       "      <td>-0.319260</td>\n",
       "      <td>-0.179750</td>\n",
       "      <td>0.220930</td>\n",
       "      <td>0.229990</td>\n",
       "      <td>0.186520</td>\n",
       "      <td>0.212080</td>\n",
       "      <td>-0.141430</td>\n",
       "      <td>-0.063158</td>\n",
       "      <td>-0.328370</td>\n",
       "      <td>0.155070</td>\n",
       "    </tr>\n",
       "    <tr>\n",
       "      <th>-</th>\n",
       "      <td>0.040598</td>\n",
       "      <td>-0.028364</td>\n",
       "      <td>0.250090</td>\n",
       "      <td>-0.265260</td>\n",
       "      <td>0.431970</td>\n",
       "      <td>0.741720</td>\n",
       "      <td>0.088018</td>\n",
       "      <td>-0.616100</td>\n",
       "      <td>0.075614</td>\n",
       "      <td>-1.9527</td>\n",
       "      <td>...</td>\n",
       "      <td>0.214340</td>\n",
       "      <td>-0.442570</td>\n",
       "      <td>0.312890</td>\n",
       "      <td>-0.354330</td>\n",
       "      <td>-0.370190</td>\n",
       "      <td>0.392270</td>\n",
       "      <td>0.110520</td>\n",
       "      <td>-0.725560</td>\n",
       "      <td>-0.193000</td>\n",
       "      <td>0.227490</td>\n",
       "    </tr>\n",
       "    <tr>\n",
       "      <th>that</th>\n",
       "      <td>-0.182560</td>\n",
       "      <td>0.498510</td>\n",
       "      <td>-0.163900</td>\n",
       "      <td>-0.174430</td>\n",
       "      <td>-0.163820</td>\n",
       "      <td>-0.044109</td>\n",
       "      <td>0.279570</td>\n",
       "      <td>0.066851</td>\n",
       "      <td>0.122980</td>\n",
       "      <td>-2.4794</td>\n",
       "      <td>...</td>\n",
       "      <td>-0.082465</td>\n",
       "      <td>-0.232410</td>\n",
       "      <td>0.022031</td>\n",
       "      <td>0.354450</td>\n",
       "      <td>0.172210</td>\n",
       "      <td>0.018176</td>\n",
       "      <td>0.038145</td>\n",
       "      <td>-0.272240</td>\n",
       "      <td>-0.191070</td>\n",
       "      <td>-0.094104</td>\n",
       "    </tr>\n",
       "    <tr>\n",
       "      <th>on</th>\n",
       "      <td>0.127020</td>\n",
       "      <td>0.210620</td>\n",
       "      <td>-0.189830</td>\n",
       "      <td>0.176770</td>\n",
       "      <td>-0.117840</td>\n",
       "      <td>0.242630</td>\n",
       "      <td>-0.347250</td>\n",
       "      <td>-0.323260</td>\n",
       "      <td>0.081296</td>\n",
       "      <td>-1.7760</td>\n",
       "      <td>...</td>\n",
       "      <td>-0.319800</td>\n",
       "      <td>-0.084328</td>\n",
       "      <td>-0.385270</td>\n",
       "      <td>-0.141940</td>\n",
       "      <td>-0.530480</td>\n",
       "      <td>0.894120</td>\n",
       "      <td>-0.012956</td>\n",
       "      <td>-0.284870</td>\n",
       "      <td>-0.293710</td>\n",
       "      <td>0.243550</td>\n",
       "    </tr>\n",
       "    <tr>\n",
       "      <th>is</th>\n",
       "      <td>-0.174900</td>\n",
       "      <td>0.229560</td>\n",
       "      <td>0.249240</td>\n",
       "      <td>-0.205120</td>\n",
       "      <td>-0.122940</td>\n",
       "      <td>0.021297</td>\n",
       "      <td>-0.238150</td>\n",
       "      <td>0.137370</td>\n",
       "      <td>-0.089130</td>\n",
       "      <td>-2.0607</td>\n",
       "      <td>...</td>\n",
       "      <td>0.313570</td>\n",
       "      <td>-0.134070</td>\n",
       "      <td>0.184650</td>\n",
       "      <td>0.234260</td>\n",
       "      <td>0.076272</td>\n",
       "      <td>0.105020</td>\n",
       "      <td>0.215210</td>\n",
       "      <td>-0.241310</td>\n",
       "      <td>-0.404020</td>\n",
       "      <td>0.054744</td>\n",
       "    </tr>\n",
       "    <tr>\n",
       "      <th>was</th>\n",
       "      <td>0.065573</td>\n",
       "      <td>0.022011</td>\n",
       "      <td>-0.131820</td>\n",
       "      <td>-0.213300</td>\n",
       "      <td>-0.045275</td>\n",
       "      <td>-0.095786</td>\n",
       "      <td>-0.197060</td>\n",
       "      <td>0.008206</td>\n",
       "      <td>-0.292850</td>\n",
       "      <td>-1.8230</td>\n",
       "      <td>...</td>\n",
       "      <td>0.345770</td>\n",
       "      <td>-0.229280</td>\n",
       "      <td>0.243410</td>\n",
       "      <td>0.336540</td>\n",
       "      <td>0.297510</td>\n",
       "      <td>0.446170</td>\n",
       "      <td>0.300770</td>\n",
       "      <td>-0.219160</td>\n",
       "      <td>-0.431860</td>\n",
       "      <td>-0.080348</td>\n",
       "    </tr>\n",
       "    <tr>\n",
       "      <th>said</th>\n",
       "      <td>-0.241350</td>\n",
       "      <td>0.151320</td>\n",
       "      <td>0.016839</td>\n",
       "      <td>0.159620</td>\n",
       "      <td>0.206080</td>\n",
       "      <td>-0.690620</td>\n",
       "      <td>-0.116580</td>\n",
       "      <td>0.030419</td>\n",
       "      <td>-0.214220</td>\n",
       "      <td>-2.1960</td>\n",
       "      <td>...</td>\n",
       "      <td>-0.000300</td>\n",
       "      <td>-0.020985</td>\n",
       "      <td>0.487700</td>\n",
       "      <td>0.317460</td>\n",
       "      <td>0.088895</td>\n",
       "      <td>0.379950</td>\n",
       "      <td>-0.069730</td>\n",
       "      <td>0.443160</td>\n",
       "      <td>-0.934590</td>\n",
       "      <td>0.408020</td>\n",
       "    </tr>\n",
       "    <tr>\n",
       "      <th>with</th>\n",
       "      <td>-0.504250</td>\n",
       "      <td>0.310730</td>\n",
       "      <td>0.142800</td>\n",
       "      <td>-0.498150</td>\n",
       "      <td>-0.480620</td>\n",
       "      <td>0.046086</td>\n",
       "      <td>-0.436700</td>\n",
       "      <td>-0.204700</td>\n",
       "      <td>0.607270</td>\n",
       "      <td>-1.4841</td>\n",
       "      <td>...</td>\n",
       "      <td>-0.246560</td>\n",
       "      <td>-0.408200</td>\n",
       "      <td>-0.397880</td>\n",
       "      <td>-0.195090</td>\n",
       "      <td>0.129980</td>\n",
       "      <td>0.496430</td>\n",
       "      <td>0.285080</td>\n",
       "      <td>-0.441050</td>\n",
       "      <td>-0.008684</td>\n",
       "      <td>-0.226400</td>\n",
       "    </tr>\n",
       "    <tr>\n",
       "      <th>he</th>\n",
       "      <td>-0.520570</td>\n",
       "      <td>0.495620</td>\n",
       "      <td>0.032912</td>\n",
       "      <td>-0.060807</td>\n",
       "      <td>-0.099912</td>\n",
       "      <td>-0.299140</td>\n",
       "      <td>0.303760</td>\n",
       "      <td>-0.456520</td>\n",
       "      <td>-0.048426</td>\n",
       "      <td>-1.9277</td>\n",
       "      <td>...</td>\n",
       "      <td>-0.159450</td>\n",
       "      <td>0.160900</td>\n",
       "      <td>-0.095613</td>\n",
       "      <td>-0.255360</td>\n",
       "      <td>0.289030</td>\n",
       "      <td>0.023472</td>\n",
       "      <td>0.222590</td>\n",
       "      <td>-0.350600</td>\n",
       "      <td>-0.222040</td>\n",
       "      <td>0.142770</td>\n",
       "    </tr>\n",
       "    <tr>\n",
       "      <th>as</th>\n",
       "      <td>-0.056826</td>\n",
       "      <td>0.238630</td>\n",
       "      <td>0.445150</td>\n",
       "      <td>-0.014863</td>\n",
       "      <td>0.171300</td>\n",
       "      <td>-0.104570</td>\n",
       "      <td>0.045750</td>\n",
       "      <td>0.322090</td>\n",
       "      <td>-0.286110</td>\n",
       "      <td>-1.7106</td>\n",
       "      <td>...</td>\n",
       "      <td>-0.037092</td>\n",
       "      <td>0.029020</td>\n",
       "      <td>-0.194940</td>\n",
       "      <td>-0.191140</td>\n",
       "      <td>-0.022407</td>\n",
       "      <td>0.275120</td>\n",
       "      <td>-0.319880</td>\n",
       "      <td>-0.319110</td>\n",
       "      <td>-0.228300</td>\n",
       "      <td>0.150580</td>\n",
       "    </tr>\n",
       "    <tr>\n",
       "      <th>it</th>\n",
       "      <td>0.033284</td>\n",
       "      <td>-0.040754</td>\n",
       "      <td>-0.048377</td>\n",
       "      <td>0.120170</td>\n",
       "      <td>-0.139150</td>\n",
       "      <td>-0.176940</td>\n",
       "      <td>-0.062908</td>\n",
       "      <td>0.170560</td>\n",
       "      <td>0.200770</td>\n",
       "      <td>-2.4287</td>\n",
       "      <td>...</td>\n",
       "      <td>0.091222</td>\n",
       "      <td>-0.402000</td>\n",
       "      <td>0.154300</td>\n",
       "      <td>0.230990</td>\n",
       "      <td>0.086138</td>\n",
       "      <td>-0.002428</td>\n",
       "      <td>0.065196</td>\n",
       "      <td>-0.154080</td>\n",
       "      <td>0.178060</td>\n",
       "      <td>-0.196830</td>\n",
       "    </tr>\n",
       "    <tr>\n",
       "      <th>by</th>\n",
       "      <td>0.073515</td>\n",
       "      <td>0.257360</td>\n",
       "      <td>0.235900</td>\n",
       "      <td>0.192990</td>\n",
       "      <td>-0.296110</td>\n",
       "      <td>0.245250</td>\n",
       "      <td>0.281960</td>\n",
       "      <td>0.173370</td>\n",
       "      <td>0.175960</td>\n",
       "      <td>-1.9064</td>\n",
       "      <td>...</td>\n",
       "      <td>0.271710</td>\n",
       "      <td>-0.855450</td>\n",
       "      <td>-0.142550</td>\n",
       "      <td>0.478360</td>\n",
       "      <td>-0.055087</td>\n",
       "      <td>1.044800</td>\n",
       "      <td>0.156200</td>\n",
       "      <td>-0.401070</td>\n",
       "      <td>-0.568240</td>\n",
       "      <td>-0.468620</td>\n",
       "    </tr>\n",
       "    <tr>\n",
       "      <th>at</th>\n",
       "      <td>-0.368980</td>\n",
       "      <td>0.897030</td>\n",
       "      <td>0.347990</td>\n",
       "      <td>-0.062829</td>\n",
       "      <td>0.180460</td>\n",
       "      <td>-0.302970</td>\n",
       "      <td>0.360790</td>\n",
       "      <td>-0.013702</td>\n",
       "      <td>0.384340</td>\n",
       "      <td>-1.3094</td>\n",
       "      <td>...</td>\n",
       "      <td>-0.275950</td>\n",
       "      <td>-0.611380</td>\n",
       "      <td>-0.584630</td>\n",
       "      <td>-0.125720</td>\n",
       "      <td>0.423210</td>\n",
       "      <td>-0.011227</td>\n",
       "      <td>0.390720</td>\n",
       "      <td>-0.398750</td>\n",
       "      <td>-0.829920</td>\n",
       "      <td>0.175700</td>\n",
       "    </tr>\n",
       "    <tr>\n",
       "      <th>(</th>\n",
       "      <td>-0.168600</td>\n",
       "      <td>-0.195800</td>\n",
       "      <td>-0.202480</td>\n",
       "      <td>0.201370</td>\n",
       "      <td>0.284690</td>\n",
       "      <td>0.076806</td>\n",
       "      <td>-0.501870</td>\n",
       "      <td>0.657120</td>\n",
       "      <td>-0.091519</td>\n",
       "      <td>-1.3074</td>\n",
       "      <td>...</td>\n",
       "      <td>-0.146550</td>\n",
       "      <td>0.436780</td>\n",
       "      <td>0.311010</td>\n",
       "      <td>0.163060</td>\n",
       "      <td>-0.003486</td>\n",
       "      <td>0.146400</td>\n",
       "      <td>-0.055529</td>\n",
       "      <td>-0.498960</td>\n",
       "      <td>0.226500</td>\n",
       "      <td>-0.289930</td>\n",
       "    </tr>\n",
       "    <tr>\n",
       "      <th>)</th>\n",
       "      <td>-0.138770</td>\n",
       "      <td>-0.249460</td>\n",
       "      <td>-0.138960</td>\n",
       "      <td>0.105000</td>\n",
       "      <td>0.272100</td>\n",
       "      <td>0.072274</td>\n",
       "      <td>-0.483840</td>\n",
       "      <td>0.590490</td>\n",
       "      <td>-0.077599</td>\n",
       "      <td>-1.3830</td>\n",
       "      <td>...</td>\n",
       "      <td>-0.231100</td>\n",
       "      <td>0.509700</td>\n",
       "      <td>0.316730</td>\n",
       "      <td>0.200580</td>\n",
       "      <td>-0.081949</td>\n",
       "      <td>0.188150</td>\n",
       "      <td>-0.074958</td>\n",
       "      <td>-0.592050</td>\n",
       "      <td>0.336360</td>\n",
       "      <td>-0.337640</td>\n",
       "    </tr>\n",
       "    <tr>\n",
       "      <th>from</th>\n",
       "      <td>-0.185590</td>\n",
       "      <td>-0.417720</td>\n",
       "      <td>-0.019296</td>\n",
       "      <td>-0.065099</td>\n",
       "      <td>-0.413710</td>\n",
       "      <td>-0.035517</td>\n",
       "      <td>-0.461490</td>\n",
       "      <td>-0.291530</td>\n",
       "      <td>0.518580</td>\n",
       "      <td>-1.5441</td>\n",
       "      <td>...</td>\n",
       "      <td>0.128470</td>\n",
       "      <td>-0.039041</td>\n",
       "      <td>0.510960</td>\n",
       "      <td>0.265800</td>\n",
       "      <td>0.345630</td>\n",
       "      <td>0.055152</td>\n",
       "      <td>0.052018</td>\n",
       "      <td>-0.449120</td>\n",
       "      <td>0.171520</td>\n",
       "      <td>-0.075024</td>\n",
       "    </tr>\n",
       "    <tr>\n",
       "      <th>his</th>\n",
       "      <td>-0.221300</td>\n",
       "      <td>0.471390</td>\n",
       "      <td>-0.166580</td>\n",
       "      <td>-0.261280</td>\n",
       "      <td>0.040058</td>\n",
       "      <td>-0.105270</td>\n",
       "      <td>-0.195980</td>\n",
       "      <td>-0.572340</td>\n",
       "      <td>-0.136530</td>\n",
       "      <td>-1.7215</td>\n",
       "      <td>...</td>\n",
       "      <td>-0.412380</td>\n",
       "      <td>0.200060</td>\n",
       "      <td>0.061018</td>\n",
       "      <td>-0.407150</td>\n",
       "      <td>0.085916</td>\n",
       "      <td>0.533630</td>\n",
       "      <td>0.321460</td>\n",
       "      <td>-0.404410</td>\n",
       "      <td>-0.687770</td>\n",
       "      <td>0.039246</td>\n",
       "    </tr>\n",
       "    <tr>\n",
       "      <th>''</th>\n",
       "      <td>-0.325970</td>\n",
       "      <td>-0.341800</td>\n",
       "      <td>0.336240</td>\n",
       "      <td>0.017565</td>\n",
       "      <td>0.289900</td>\n",
       "      <td>0.010606</td>\n",
       "      <td>-0.622410</td>\n",
       "      <td>-0.038753</td>\n",
       "      <td>-0.059180</td>\n",
       "      <td>-1.5329</td>\n",
       "      <td>...</td>\n",
       "      <td>-0.431550</td>\n",
       "      <td>0.077688</td>\n",
       "      <td>0.291020</td>\n",
       "      <td>0.636300</td>\n",
       "      <td>0.039158</td>\n",
       "      <td>-0.119860</td>\n",
       "      <td>-0.039153</td>\n",
       "      <td>0.131960</td>\n",
       "      <td>-0.382270</td>\n",
       "      <td>0.392480</td>\n",
       "    </tr>\n",
       "    <tr>\n",
       "      <th>``</th>\n",
       "      <td>-0.222760</td>\n",
       "      <td>-0.304640</td>\n",
       "      <td>0.177280</td>\n",
       "      <td>-0.105140</td>\n",
       "      <td>0.161840</td>\n",
       "      <td>0.016862</td>\n",
       "      <td>-0.518810</td>\n",
       "      <td>-0.107200</td>\n",
       "      <td>-0.104020</td>\n",
       "      <td>-1.5912</td>\n",
       "      <td>...</td>\n",
       "      <td>-0.442220</td>\n",
       "      <td>-0.133410</td>\n",
       "      <td>0.105310</td>\n",
       "      <td>0.552920</td>\n",
       "      <td>0.149920</td>\n",
       "      <td>-0.352740</td>\n",
       "      <td>0.039996</td>\n",
       "      <td>-0.117620</td>\n",
       "      <td>-0.137540</td>\n",
       "      <td>0.329940</td>\n",
       "    </tr>\n",
       "    <tr>\n",
       "      <th>an</th>\n",
       "      <td>-0.320600</td>\n",
       "      <td>0.433160</td>\n",
       "      <td>-0.086867</td>\n",
       "      <td>0.301200</td>\n",
       "      <td>-0.093775</td>\n",
       "      <td>-0.409170</td>\n",
       "      <td>-0.155550</td>\n",
       "      <td>-0.583250</td>\n",
       "      <td>0.104480</td>\n",
       "      <td>-1.8751</td>\n",
       "      <td>...</td>\n",
       "      <td>-0.164130</td>\n",
       "      <td>-0.258150</td>\n",
       "      <td>0.025781</td>\n",
       "      <td>0.243240</td>\n",
       "      <td>0.366910</td>\n",
       "      <td>0.335820</td>\n",
       "      <td>0.405600</td>\n",
       "      <td>0.045966</td>\n",
       "      <td>-0.676930</td>\n",
       "      <td>-0.130180</td>\n",
       "    </tr>\n",
       "    <tr>\n",
       "      <th>be</th>\n",
       "      <td>-0.338480</td>\n",
       "      <td>0.428410</td>\n",
       "      <td>-0.102840</td>\n",
       "      <td>-0.220540</td>\n",
       "      <td>0.051708</td>\n",
       "      <td>0.271900</td>\n",
       "      <td>0.312810</td>\n",
       "      <td>0.209780</td>\n",
       "      <td>0.008459</td>\n",
       "      <td>-2.3119</td>\n",
       "      <td>...</td>\n",
       "      <td>0.173440</td>\n",
       "      <td>-0.402230</td>\n",
       "      <td>0.360240</td>\n",
       "      <td>0.282410</td>\n",
       "      <td>-0.041343</td>\n",
       "      <td>0.110200</td>\n",
       "      <td>0.049330</td>\n",
       "      <td>-0.798880</td>\n",
       "      <td>-0.419670</td>\n",
       "      <td>-0.140390</td>\n",
       "    </tr>\n",
       "    <tr>\n",
       "      <th>has</th>\n",
       "      <td>-0.210600</td>\n",
       "      <td>0.226770</td>\n",
       "      <td>0.063678</td>\n",
       "      <td>0.088348</td>\n",
       "      <td>0.258800</td>\n",
       "      <td>-0.405750</td>\n",
       "      <td>-0.104860</td>\n",
       "      <td>-0.309470</td>\n",
       "      <td>0.041187</td>\n",
       "      <td>-2.2853</td>\n",
       "      <td>...</td>\n",
       "      <td>-0.032843</td>\n",
       "      <td>0.136700</td>\n",
       "      <td>0.060401</td>\n",
       "      <td>0.372440</td>\n",
       "      <td>0.054906</td>\n",
       "      <td>0.641550</td>\n",
       "      <td>0.220330</td>\n",
       "      <td>-0.610450</td>\n",
       "      <td>-0.206930</td>\n",
       "      <td>-0.101330</td>\n",
       "    </tr>\n",
       "    <tr>\n",
       "      <th>are</th>\n",
       "      <td>-0.235890</td>\n",
       "      <td>0.383100</td>\n",
       "      <td>0.108340</td>\n",
       "      <td>-0.063118</td>\n",
       "      <td>0.031596</td>\n",
       "      <td>0.479190</td>\n",
       "      <td>-0.022569</td>\n",
       "      <td>0.767090</td>\n",
       "      <td>0.253370</td>\n",
       "      <td>-1.7607</td>\n",
       "      <td>...</td>\n",
       "      <td>0.089172</td>\n",
       "      <td>-0.481710</td>\n",
       "      <td>0.148210</td>\n",
       "      <td>-0.043882</td>\n",
       "      <td>-0.243150</td>\n",
       "      <td>0.076831</td>\n",
       "      <td>-0.092284</td>\n",
       "      <td>-0.791890</td>\n",
       "      <td>-0.085960</td>\n",
       "      <td>-0.146600</td>\n",
       "    </tr>\n",
       "    <tr>\n",
       "      <th>have</th>\n",
       "      <td>-0.195630</td>\n",
       "      <td>0.481270</td>\n",
       "      <td>-0.246700</td>\n",
       "      <td>0.127510</td>\n",
       "      <td>0.309970</td>\n",
       "      <td>-0.057585</td>\n",
       "      <td>0.196600</td>\n",
       "      <td>0.249470</td>\n",
       "      <td>0.144050</td>\n",
       "      <td>-2.1063</td>\n",
       "      <td>...</td>\n",
       "      <td>-0.117840</td>\n",
       "      <td>-0.472260</td>\n",
       "      <td>0.200110</td>\n",
       "      <td>0.038680</td>\n",
       "      <td>0.009629</td>\n",
       "      <td>0.178210</td>\n",
       "      <td>-0.020447</td>\n",
       "      <td>-0.871950</td>\n",
       "      <td>0.061883</td>\n",
       "      <td>-0.171800</td>\n",
       "    </tr>\n",
       "    <tr>\n",
       "      <th>but</th>\n",
       "      <td>-0.009360</td>\n",
       "      <td>0.227890</td>\n",
       "      <td>-0.102750</td>\n",
       "      <td>0.001089</td>\n",
       "      <td>0.212350</td>\n",
       "      <td>-0.072058</td>\n",
       "      <td>0.127270</td>\n",
       "      <td>0.124650</td>\n",
       "      <td>0.197660</td>\n",
       "      <td>-1.9928</td>\n",
       "      <td>...</td>\n",
       "      <td>-0.138640</td>\n",
       "      <td>-0.108930</td>\n",
       "      <td>0.335810</td>\n",
       "      <td>0.197180</td>\n",
       "      <td>0.153930</td>\n",
       "      <td>0.052746</td>\n",
       "      <td>-0.044352</td>\n",
       "      <td>-0.515680</td>\n",
       "      <td>-0.035701</td>\n",
       "      <td>0.007474</td>\n",
       "    </tr>\n",
       "    <tr>\n",
       "      <th>were</th>\n",
       "      <td>-0.169090</td>\n",
       "      <td>0.159690</td>\n",
       "      <td>-0.183850</td>\n",
       "      <td>-0.145280</td>\n",
       "      <td>-0.175650</td>\n",
       "      <td>0.207160</td>\n",
       "      <td>-0.150900</td>\n",
       "      <td>0.673050</td>\n",
       "      <td>0.258740</td>\n",
       "      <td>-1.4729</td>\n",
       "      <td>...</td>\n",
       "      <td>0.023347</td>\n",
       "      <td>-0.624570</td>\n",
       "      <td>0.384600</td>\n",
       "      <td>0.145160</td>\n",
       "      <td>-0.007680</td>\n",
       "      <td>0.237470</td>\n",
       "      <td>0.030901</td>\n",
       "      <td>-0.578300</td>\n",
       "      <td>-0.332220</td>\n",
       "      <td>-0.156860</td>\n",
       "    </tr>\n",
       "    <tr>\n",
       "      <th>not</th>\n",
       "      <td>0.008390</td>\n",
       "      <td>0.287690</td>\n",
       "      <td>-0.234660</td>\n",
       "      <td>-0.263430</td>\n",
       "      <td>-0.057230</td>\n",
       "      <td>0.285020</td>\n",
       "      <td>0.101190</td>\n",
       "      <td>0.200020</td>\n",
       "      <td>-0.024350</td>\n",
       "      <td>-2.3734</td>\n",
       "      <td>...</td>\n",
       "      <td>-0.093068</td>\n",
       "      <td>-0.435070</td>\n",
       "      <td>0.525990</td>\n",
       "      <td>-0.008951</td>\n",
       "      <td>0.135800</td>\n",
       "      <td>-0.128860</td>\n",
       "      <td>-0.041750</td>\n",
       "      <td>-0.664100</td>\n",
       "      <td>0.103030</td>\n",
       "      <td>0.121900</td>\n",
       "    </tr>\n",
       "    <tr>\n",
       "      <th>this</th>\n",
       "      <td>-0.204370</td>\n",
       "      <td>0.164310</td>\n",
       "      <td>0.041794</td>\n",
       "      <td>-0.137080</td>\n",
       "      <td>-0.297790</td>\n",
       "      <td>0.334400</td>\n",
       "      <td>-0.069955</td>\n",
       "      <td>-0.068036</td>\n",
       "      <td>0.106040</td>\n",
       "      <td>-2.0337</td>\n",
       "      <td>...</td>\n",
       "      <td>0.000924</td>\n",
       "      <td>-0.415470</td>\n",
       "      <td>-0.077672</td>\n",
       "      <td>0.505690</td>\n",
       "      <td>0.247250</td>\n",
       "      <td>0.241190</td>\n",
       "      <td>-0.134550</td>\n",
       "      <td>-0.340070</td>\n",
       "      <td>-0.077146</td>\n",
       "      <td>-0.084089</td>\n",
       "    </tr>\n",
       "    <tr>\n",
       "      <th>who</th>\n",
       "      <td>-0.528690</td>\n",
       "      <td>0.330110</td>\n",
       "      <td>0.185840</td>\n",
       "      <td>0.076365</td>\n",
       "      <td>0.232190</td>\n",
       "      <td>-0.079635</td>\n",
       "      <td>0.114380</td>\n",
       "      <td>-0.100830</td>\n",
       "      <td>0.008848</td>\n",
       "      <td>-1.0035</td>\n",
       "      <td>...</td>\n",
       "      <td>0.100910</td>\n",
       "      <td>-0.269060</td>\n",
       "      <td>-0.192730</td>\n",
       "      <td>0.012880</td>\n",
       "      <td>-0.014196</td>\n",
       "      <td>-0.035858</td>\n",
       "      <td>0.143800</td>\n",
       "      <td>-0.241830</td>\n",
       "      <td>-0.421030</td>\n",
       "      <td>0.308980</td>\n",
       "    </tr>\n",
       "    <tr>\n",
       "      <th>they</th>\n",
       "      <td>-0.266250</td>\n",
       "      <td>0.479640</td>\n",
       "      <td>-0.388180</td>\n",
       "      <td>0.039296</td>\n",
       "      <td>-0.020338</td>\n",
       "      <td>0.168600</td>\n",
       "      <td>0.315850</td>\n",
       "      <td>0.451740</td>\n",
       "      <td>0.288820</td>\n",
       "      <td>-1.8574</td>\n",
       "      <td>...</td>\n",
       "      <td>0.034971</td>\n",
       "      <td>-0.453540</td>\n",
       "      <td>0.031174</td>\n",
       "      <td>-0.100570</td>\n",
       "      <td>0.068828</td>\n",
       "      <td>-0.101530</td>\n",
       "      <td>-0.001232</td>\n",
       "      <td>-0.515610</td>\n",
       "      <td>0.010936</td>\n",
       "      <td>-0.004142</td>\n",
       "    </tr>\n",
       "    <tr>\n",
       "      <th>had</th>\n",
       "      <td>-0.326010</td>\n",
       "      <td>0.258290</td>\n",
       "      <td>-0.391000</td>\n",
       "      <td>-0.135650</td>\n",
       "      <td>-0.000744</td>\n",
       "      <td>-0.344830</td>\n",
       "      <td>0.072416</td>\n",
       "      <td>-0.094918</td>\n",
       "      <td>0.028678</td>\n",
       "      <td>-1.8500</td>\n",
       "      <td>...</td>\n",
       "      <td>-0.135440</td>\n",
       "      <td>-0.228670</td>\n",
       "      <td>0.214880</td>\n",
       "      <td>0.244450</td>\n",
       "      <td>0.201880</td>\n",
       "      <td>0.273490</td>\n",
       "      <td>0.195710</td>\n",
       "      <td>-0.582510</td>\n",
       "      <td>-0.333910</td>\n",
       "      <td>-0.057473</td>\n",
       "    </tr>\n",
       "    <tr>\n",
       "      <th>i</th>\n",
       "      <td>-0.132920</td>\n",
       "      <td>0.169850</td>\n",
       "      <td>-0.143600</td>\n",
       "      <td>-0.088722</td>\n",
       "      <td>0.079510</td>\n",
       "      <td>-0.142120</td>\n",
       "      <td>-0.024209</td>\n",
       "      <td>-0.262910</td>\n",
       "      <td>-0.074814</td>\n",
       "      <td>-2.3600</td>\n",
       "      <td>...</td>\n",
       "      <td>-0.001062</td>\n",
       "      <td>-0.392910</td>\n",
       "      <td>-0.177800</td>\n",
       "      <td>-0.121750</td>\n",
       "      <td>0.243350</td>\n",
       "      <td>-0.778350</td>\n",
       "      <td>0.395980</td>\n",
       "      <td>-0.237780</td>\n",
       "      <td>0.147660</td>\n",
       "      <td>0.629020</td>\n",
       "    </tr>\n",
       "    <tr>\n",
       "      <th>which</th>\n",
       "      <td>-0.222320</td>\n",
       "      <td>0.238560</td>\n",
       "      <td>-0.048047</td>\n",
       "      <td>-0.252480</td>\n",
       "      <td>-0.082310</td>\n",
       "      <td>0.109270</td>\n",
       "      <td>-0.015009</td>\n",
       "      <td>0.367360</td>\n",
       "      <td>0.097258</td>\n",
       "      <td>-2.1902</td>\n",
       "      <td>...</td>\n",
       "      <td>-0.138390</td>\n",
       "      <td>-0.370210</td>\n",
       "      <td>-0.030462</td>\n",
       "      <td>0.085685</td>\n",
       "      <td>0.134720</td>\n",
       "      <td>0.375190</td>\n",
       "      <td>0.281070</td>\n",
       "      <td>-0.327010</td>\n",
       "      <td>-0.053744</td>\n",
       "      <td>-0.418240</td>\n",
       "    </tr>\n",
       "    <tr>\n",
       "      <th>will</th>\n",
       "      <td>-0.345720</td>\n",
       "      <td>0.284780</td>\n",
       "      <td>-0.484780</td>\n",
       "      <td>-0.341180</td>\n",
       "      <td>0.054563</td>\n",
       "      <td>0.330980</td>\n",
       "      <td>0.042195</td>\n",
       "      <td>0.344640</td>\n",
       "      <td>0.188600</td>\n",
       "      <td>-1.8824</td>\n",
       "      <td>...</td>\n",
       "      <td>0.069517</td>\n",
       "      <td>-0.130540</td>\n",
       "      <td>0.254750</td>\n",
       "      <td>-0.100940</td>\n",
       "      <td>-0.144970</td>\n",
       "      <td>0.113860</td>\n",
       "      <td>0.001846</td>\n",
       "      <td>-0.481090</td>\n",
       "      <td>-0.311970</td>\n",
       "      <td>-0.068116</td>\n",
       "    </tr>\n",
       "    <tr>\n",
       "      <th>their</th>\n",
       "      <td>-0.070601</td>\n",
       "      <td>0.549090</td>\n",
       "      <td>-0.255360</td>\n",
       "      <td>-0.165440</td>\n",
       "      <td>-0.034464</td>\n",
       "      <td>0.291490</td>\n",
       "      <td>-0.123630</td>\n",
       "      <td>0.348080</td>\n",
       "      <td>0.124080</td>\n",
       "      <td>-1.7279</td>\n",
       "      <td>...</td>\n",
       "      <td>-0.411180</td>\n",
       "      <td>-0.310890</td>\n",
       "      <td>-0.043807</td>\n",
       "      <td>-0.324020</td>\n",
       "      <td>-0.077072</td>\n",
       "      <td>0.547740</td>\n",
       "      <td>-0.113390</td>\n",
       "      <td>-0.425400</td>\n",
       "      <td>-0.250390</td>\n",
       "      <td>-0.204360</td>\n",
       "    </tr>\n",
       "    <tr>\n",
       "      <th>:</th>\n",
       "      <td>0.096348</td>\n",
       "      <td>-0.214280</td>\n",
       "      <td>0.140320</td>\n",
       "      <td>-0.054121</td>\n",
       "      <td>0.707840</td>\n",
       "      <td>0.306850</td>\n",
       "      <td>-0.524860</td>\n",
       "      <td>-0.338330</td>\n",
       "      <td>-0.283870</td>\n",
       "      <td>-1.2774</td>\n",
       "      <td>...</td>\n",
       "      <td>-0.319450</td>\n",
       "      <td>-0.017775</td>\n",
       "      <td>-0.284940</td>\n",
       "      <td>0.064507</td>\n",
       "      <td>0.541790</td>\n",
       "      <td>-0.033904</td>\n",
       "      <td>-0.556260</td>\n",
       "      <td>-0.395710</td>\n",
       "      <td>-0.179350</td>\n",
       "      <td>0.593900</td>\n",
       "    </tr>\n",
       "    <tr>\n",
       "      <th>or</th>\n",
       "      <td>-0.262340</td>\n",
       "      <td>0.126330</td>\n",
       "      <td>-0.084185</td>\n",
       "      <td>-0.077551</td>\n",
       "      <td>-0.085090</td>\n",
       "      <td>-0.000946</td>\n",
       "      <td>-0.139920</td>\n",
       "      <td>0.300140</td>\n",
       "      <td>0.008917</td>\n",
       "      <td>-1.8248</td>\n",
       "      <td>...</td>\n",
       "      <td>0.139840</td>\n",
       "      <td>-0.636600</td>\n",
       "      <td>0.053208</td>\n",
       "      <td>-0.165250</td>\n",
       "      <td>0.164220</td>\n",
       "      <td>-0.249530</td>\n",
       "      <td>-0.119160</td>\n",
       "      <td>-0.668590</td>\n",
       "      <td>-0.226350</td>\n",
       "      <td>0.149950</td>\n",
       "    </tr>\n",
       "    <tr>\n",
       "      <th>its</th>\n",
       "      <td>0.325090</td>\n",
       "      <td>0.018380</td>\n",
       "      <td>-0.071966</td>\n",
       "      <td>-0.429530</td>\n",
       "      <td>-0.140650</td>\n",
       "      <td>-0.116320</td>\n",
       "      <td>-0.289240</td>\n",
       "      <td>0.375420</td>\n",
       "      <td>0.204800</td>\n",
       "      <td>-2.3538</td>\n",
       "      <td>...</td>\n",
       "      <td>-0.331540</td>\n",
       "      <td>-0.230480</td>\n",
       "      <td>0.167350</td>\n",
       "      <td>-0.085050</td>\n",
       "      <td>-0.026096</td>\n",
       "      <td>0.932450</td>\n",
       "      <td>-0.020103</td>\n",
       "      <td>-0.120370</td>\n",
       "      <td>-0.259520</td>\n",
       "      <td>-0.469260</td>\n",
       "    </tr>\n",
       "    <tr>\n",
       "      <th>one</th>\n",
       "      <td>-0.367560</td>\n",
       "      <td>0.395000</td>\n",
       "      <td>-0.270340</td>\n",
       "      <td>-0.148170</td>\n",
       "      <td>-0.026378</td>\n",
       "      <td>0.046775</td>\n",
       "      <td>-0.147500</td>\n",
       "      <td>-0.165310</td>\n",
       "      <td>-0.217180</td>\n",
       "      <td>-1.3651</td>\n",
       "      <td>...</td>\n",
       "      <td>-0.137330</td>\n",
       "      <td>-0.264290</td>\n",
       "      <td>-0.061159</td>\n",
       "      <td>-0.147840</td>\n",
       "      <td>0.183390</td>\n",
       "      <td>0.161370</td>\n",
       "      <td>-0.058419</td>\n",
       "      <td>-0.372520</td>\n",
       "      <td>-0.389900</td>\n",
       "      <td>0.031491</td>\n",
       "    </tr>\n",
       "    <tr>\n",
       "      <th>after</th>\n",
       "      <td>0.289570</td>\n",
       "      <td>0.017282</td>\n",
       "      <td>0.118790</td>\n",
       "      <td>-0.055838</td>\n",
       "      <td>0.237300</td>\n",
       "      <td>-0.213660</td>\n",
       "      <td>-0.276230</td>\n",
       "      <td>-0.118710</td>\n",
       "      <td>0.336820</td>\n",
       "      <td>-1.5118</td>\n",
       "      <td>...</td>\n",
       "      <td>-0.120780</td>\n",
       "      <td>-0.392240</td>\n",
       "      <td>-0.024101</td>\n",
       "      <td>-0.130950</td>\n",
       "      <td>0.121180</td>\n",
       "      <td>0.637920</td>\n",
       "      <td>0.039345</td>\n",
       "      <td>-0.572920</td>\n",
       "      <td>-0.165700</td>\n",
       "      <td>-0.128000</td>\n",
       "    </tr>\n",
       "  </tbody>\n",
       "</table>\n",
       "<p>50 rows × 300 columns</p>\n",
       "</div>"
      ],
      "text/plain": [
       "            0         1         2         3         4         5         6    \\\n",
       "the    0.046560  0.213180 -0.007436 -0.458540 -0.035639  0.236430 -0.288360   \n",
       ",     -0.255390 -0.257230  0.131690 -0.042688  0.218170 -0.022702 -0.178540   \n",
       ".     -0.125590  0.013630  0.103060 -0.101230  0.098128  0.136270 -0.107210   \n",
       "of    -0.076947 -0.021211  0.212710 -0.722320 -0.139880 -0.122340 -0.175210   \n",
       "to    -0.257560 -0.057132 -0.671900 -0.380820 -0.364210 -0.082155 -0.010955   \n",
       "and    0.038466 -0.039792  0.082747 -0.389230 -0.214310  0.170200 -0.025657   \n",
       "in    -0.443990  0.128170 -0.252470 -0.185820 -0.166140  0.259090 -0.226780   \n",
       "a     -0.297120  0.094049 -0.096662 -0.344000 -0.184830 -0.123290 -0.116560   \n",
       "\"      0.694700  0.221840  0.105260  0.012382 -0.255800 -0.326450 -0.482870   \n",
       "'s    -0.001272  0.365140 -0.077363 -0.265590  0.179870  0.153470 -0.153380   \n",
       "for   -0.241320  0.120630  0.191900 -0.266920  0.061076 -0.022878  0.580170   \n",
       "-      0.040598 -0.028364  0.250090 -0.265260  0.431970  0.741720  0.088018   \n",
       "that  -0.182560  0.498510 -0.163900 -0.174430 -0.163820 -0.044109  0.279570   \n",
       "on     0.127020  0.210620 -0.189830  0.176770 -0.117840  0.242630 -0.347250   \n",
       "is    -0.174900  0.229560  0.249240 -0.205120 -0.122940  0.021297 -0.238150   \n",
       "was    0.065573  0.022011 -0.131820 -0.213300 -0.045275 -0.095786 -0.197060   \n",
       "said  -0.241350  0.151320  0.016839  0.159620  0.206080 -0.690620 -0.116580   \n",
       "with  -0.504250  0.310730  0.142800 -0.498150 -0.480620  0.046086 -0.436700   \n",
       "he    -0.520570  0.495620  0.032912 -0.060807 -0.099912 -0.299140  0.303760   \n",
       "as    -0.056826  0.238630  0.445150 -0.014863  0.171300 -0.104570  0.045750   \n",
       "it     0.033284 -0.040754 -0.048377  0.120170 -0.139150 -0.176940 -0.062908   \n",
       "by     0.073515  0.257360  0.235900  0.192990 -0.296110  0.245250  0.281960   \n",
       "at    -0.368980  0.897030  0.347990 -0.062829  0.180460 -0.302970  0.360790   \n",
       "(     -0.168600 -0.195800 -0.202480  0.201370  0.284690  0.076806 -0.501870   \n",
       ")     -0.138770 -0.249460 -0.138960  0.105000  0.272100  0.072274 -0.483840   \n",
       "from  -0.185590 -0.417720 -0.019296 -0.065099 -0.413710 -0.035517 -0.461490   \n",
       "his   -0.221300  0.471390 -0.166580 -0.261280  0.040058 -0.105270 -0.195980   \n",
       "''    -0.325970 -0.341800  0.336240  0.017565  0.289900  0.010606 -0.622410   \n",
       "``    -0.222760 -0.304640  0.177280 -0.105140  0.161840  0.016862 -0.518810   \n",
       "an    -0.320600  0.433160 -0.086867  0.301200 -0.093775 -0.409170 -0.155550   \n",
       "be    -0.338480  0.428410 -0.102840 -0.220540  0.051708  0.271900  0.312810   \n",
       "has   -0.210600  0.226770  0.063678  0.088348  0.258800 -0.405750 -0.104860   \n",
       "are   -0.235890  0.383100  0.108340 -0.063118  0.031596  0.479190 -0.022569   \n",
       "have  -0.195630  0.481270 -0.246700  0.127510  0.309970 -0.057585  0.196600   \n",
       "but   -0.009360  0.227890 -0.102750  0.001089  0.212350 -0.072058  0.127270   \n",
       "were  -0.169090  0.159690 -0.183850 -0.145280 -0.175650  0.207160 -0.150900   \n",
       "not    0.008390  0.287690 -0.234660 -0.263430 -0.057230  0.285020  0.101190   \n",
       "this  -0.204370  0.164310  0.041794 -0.137080 -0.297790  0.334400 -0.069955   \n",
       "who   -0.528690  0.330110  0.185840  0.076365  0.232190 -0.079635  0.114380   \n",
       "they  -0.266250  0.479640 -0.388180  0.039296 -0.020338  0.168600  0.315850   \n",
       "had   -0.326010  0.258290 -0.391000 -0.135650 -0.000744 -0.344830  0.072416   \n",
       "i     -0.132920  0.169850 -0.143600 -0.088722  0.079510 -0.142120 -0.024209   \n",
       "which -0.222320  0.238560 -0.048047 -0.252480 -0.082310  0.109270 -0.015009   \n",
       "will  -0.345720  0.284780 -0.484780 -0.341180  0.054563  0.330980  0.042195   \n",
       "their -0.070601  0.549090 -0.255360 -0.165440 -0.034464  0.291490 -0.123630   \n",
       ":      0.096348 -0.214280  0.140320 -0.054121  0.707840  0.306850 -0.524860   \n",
       "or    -0.262340  0.126330 -0.084185 -0.077551 -0.085090 -0.000946 -0.139920   \n",
       "its    0.325090  0.018380 -0.071966 -0.429530 -0.140650 -0.116320 -0.289240   \n",
       "one   -0.367560  0.395000 -0.270340 -0.148170 -0.026378  0.046775 -0.147500   \n",
       "after  0.289570  0.017282  0.118790 -0.055838  0.237300 -0.213660 -0.276230   \n",
       "\n",
       "            7         8       9    ...       290       291       292  \\\n",
       "the    0.215210 -0.134860 -1.6413  ... -0.013064 -0.296860 -0.079913   \n",
       ",      0.107560  0.058936 -1.3854  ...  0.075968 -0.014359 -0.073794   \n",
       ".      0.236970  0.328700 -1.6785  ...  0.060148 -0.156190 -0.119490   \n",
       "of     0.121370 -0.070866 -1.5721  ... -0.366730 -0.386030  0.302900   \n",
       "to    -0.082047  0.460560 -1.8477  ... -0.012806 -0.597070  0.317340   \n",
       "and    0.095780  0.238600 -1.6342  ...  0.045194 -0.204050 -0.210970   \n",
       "in    -0.069229 -0.077204 -1.5814  ... -0.274500 -0.037237  0.101040   \n",
       "a     -0.099692  0.172650 -1.6386  ...  0.075972 -0.424260 -0.396700   \n",
       "\"      0.517550 -0.087200 -2.0289  ... -0.324010 -0.397910 -0.354750   \n",
       "'s     0.432670 -0.133640 -1.7160  ... -0.322950  0.016040  0.273900   \n",
       "for   -0.225330 -0.206440 -1.6361  ... -0.319260 -0.179750  0.220930   \n",
       "-     -0.616100  0.075614 -1.9527  ...  0.214340 -0.442570  0.312890   \n",
       "that   0.066851  0.122980 -2.4794  ... -0.082465 -0.232410  0.022031   \n",
       "on    -0.323260  0.081296 -1.7760  ... -0.319800 -0.084328 -0.385270   \n",
       "is     0.137370 -0.089130 -2.0607  ...  0.313570 -0.134070  0.184650   \n",
       "was    0.008206 -0.292850 -1.8230  ...  0.345770 -0.229280  0.243410   \n",
       "said   0.030419 -0.214220 -2.1960  ... -0.000300 -0.020985  0.487700   \n",
       "with  -0.204700  0.607270 -1.4841  ... -0.246560 -0.408200 -0.397880   \n",
       "he    -0.456520 -0.048426 -1.9277  ... -0.159450  0.160900 -0.095613   \n",
       "as     0.322090 -0.286110 -1.7106  ... -0.037092  0.029020 -0.194940   \n",
       "it     0.170560  0.200770 -2.4287  ...  0.091222 -0.402000  0.154300   \n",
       "by     0.173370  0.175960 -1.9064  ...  0.271710 -0.855450 -0.142550   \n",
       "at    -0.013702  0.384340 -1.3094  ... -0.275950 -0.611380 -0.584630   \n",
       "(      0.657120 -0.091519 -1.3074  ... -0.146550  0.436780  0.311010   \n",
       ")      0.590490 -0.077599 -1.3830  ... -0.231100  0.509700  0.316730   \n",
       "from  -0.291530  0.518580 -1.5441  ...  0.128470 -0.039041  0.510960   \n",
       "his   -0.572340 -0.136530 -1.7215  ... -0.412380  0.200060  0.061018   \n",
       "''    -0.038753 -0.059180 -1.5329  ... -0.431550  0.077688  0.291020   \n",
       "``    -0.107200 -0.104020 -1.5912  ... -0.442220 -0.133410  0.105310   \n",
       "an    -0.583250  0.104480 -1.8751  ... -0.164130 -0.258150  0.025781   \n",
       "be     0.209780  0.008459 -2.3119  ...  0.173440 -0.402230  0.360240   \n",
       "has   -0.309470  0.041187 -2.2853  ... -0.032843  0.136700  0.060401   \n",
       "are    0.767090  0.253370 -1.7607  ...  0.089172 -0.481710  0.148210   \n",
       "have   0.249470  0.144050 -2.1063  ... -0.117840 -0.472260  0.200110   \n",
       "but    0.124650  0.197660 -1.9928  ... -0.138640 -0.108930  0.335810   \n",
       "were   0.673050  0.258740 -1.4729  ...  0.023347 -0.624570  0.384600   \n",
       "not    0.200020 -0.024350 -2.3734  ... -0.093068 -0.435070  0.525990   \n",
       "this  -0.068036  0.106040 -2.0337  ...  0.000924 -0.415470 -0.077672   \n",
       "who   -0.100830  0.008848 -1.0035  ...  0.100910 -0.269060 -0.192730   \n",
       "they   0.451740  0.288820 -1.8574  ...  0.034971 -0.453540  0.031174   \n",
       "had   -0.094918  0.028678 -1.8500  ... -0.135440 -0.228670  0.214880   \n",
       "i     -0.262910 -0.074814 -2.3600  ... -0.001062 -0.392910 -0.177800   \n",
       "which  0.367360  0.097258 -2.1902  ... -0.138390 -0.370210 -0.030462   \n",
       "will   0.344640  0.188600 -1.8824  ...  0.069517 -0.130540  0.254750   \n",
       "their  0.348080  0.124080 -1.7279  ... -0.411180 -0.310890 -0.043807   \n",
       ":     -0.338330 -0.283870 -1.2774  ... -0.319450 -0.017775 -0.284940   \n",
       "or     0.300140  0.008917 -1.8248  ...  0.139840 -0.636600  0.053208   \n",
       "its    0.375420  0.204800 -2.3538  ... -0.331540 -0.230480  0.167350   \n",
       "one   -0.165310 -0.217180 -1.3651  ... -0.137330 -0.264290 -0.061159   \n",
       "after -0.118710  0.336820 -1.5118  ... -0.120780 -0.392240 -0.024101   \n",
       "\n",
       "            293       294       295       296       297       298       299  \n",
       "the    0.195000  0.031549  0.285060 -0.087461  0.009061 -0.209890  0.053913  \n",
       ",      0.221760  0.146520  0.566860  0.053307 -0.232900 -0.122260  0.354990  \n",
       ".      0.234450  0.081367  0.246180 -0.152420 -0.342240 -0.022394  0.136840  \n",
       "of     0.015747  0.340360  0.478410  0.068617  0.183510 -0.291830 -0.046533  \n",
       "to    -0.252670  0.543840  0.063007 -0.049795 -0.160430  0.046744 -0.070621  \n",
       "and   -0.110250  0.021766  0.441290  0.327970 -0.334270  0.011807  0.059703  \n",
       "in     0.107980  0.377270  0.879770  0.335830 -0.200430 -0.082191 -0.062550  \n",
       "a      0.326830  0.620490  0.347190  0.269520  0.059717 -0.228530  0.296020  \n",
       "\"     -0.064987 -0.359590  0.274070  0.283260  0.348710 -0.630790  0.380890  \n",
       "'s     0.046497  0.220020  0.501640  0.633240 -0.183610 -0.765180  0.392060  \n",
       "for    0.229990  0.186520  0.212080 -0.141430 -0.063158 -0.328370  0.155070  \n",
       "-     -0.354330 -0.370190  0.392270  0.110520 -0.725560 -0.193000  0.227490  \n",
       "that   0.354450  0.172210  0.018176  0.038145 -0.272240 -0.191070 -0.094104  \n",
       "on    -0.141940 -0.530480  0.894120 -0.012956 -0.284870 -0.293710  0.243550  \n",
       "is     0.234260  0.076272  0.105020  0.215210 -0.241310 -0.404020  0.054744  \n",
       "was    0.336540  0.297510  0.446170  0.300770 -0.219160 -0.431860 -0.080348  \n",
       "said   0.317460  0.088895  0.379950 -0.069730  0.443160 -0.934590  0.408020  \n",
       "with  -0.195090  0.129980  0.496430  0.285080 -0.441050 -0.008684 -0.226400  \n",
       "he    -0.255360  0.289030  0.023472  0.222590 -0.350600 -0.222040  0.142770  \n",
       "as    -0.191140 -0.022407  0.275120 -0.319880 -0.319110 -0.228300  0.150580  \n",
       "it     0.230990  0.086138 -0.002428  0.065196 -0.154080  0.178060 -0.196830  \n",
       "by     0.478360 -0.055087  1.044800  0.156200 -0.401070 -0.568240 -0.468620  \n",
       "at    -0.125720  0.423210 -0.011227  0.390720 -0.398750 -0.829920  0.175700  \n",
       "(      0.163060 -0.003486  0.146400 -0.055529 -0.498960  0.226500 -0.289930  \n",
       ")      0.200580 -0.081949  0.188150 -0.074958 -0.592050  0.336360 -0.337640  \n",
       "from   0.265800  0.345630  0.055152  0.052018 -0.449120  0.171520 -0.075024  \n",
       "his   -0.407150  0.085916  0.533630  0.321460 -0.404410 -0.687770  0.039246  \n",
       "''     0.636300  0.039158 -0.119860 -0.039153  0.131960 -0.382270  0.392480  \n",
       "``     0.552920  0.149920 -0.352740  0.039996 -0.117620 -0.137540  0.329940  \n",
       "an     0.243240  0.366910  0.335820  0.405600  0.045966 -0.676930 -0.130180  \n",
       "be     0.282410 -0.041343  0.110200  0.049330 -0.798880 -0.419670 -0.140390  \n",
       "has    0.372440  0.054906  0.641550  0.220330 -0.610450 -0.206930 -0.101330  \n",
       "are   -0.043882 -0.243150  0.076831 -0.092284 -0.791890 -0.085960 -0.146600  \n",
       "have   0.038680  0.009629  0.178210 -0.020447 -0.871950  0.061883 -0.171800  \n",
       "but    0.197180  0.153930  0.052746 -0.044352 -0.515680 -0.035701  0.007474  \n",
       "were   0.145160 -0.007680  0.237470  0.030901 -0.578300 -0.332220 -0.156860  \n",
       "not   -0.008951  0.135800 -0.128860 -0.041750 -0.664100  0.103030  0.121900  \n",
       "this   0.505690  0.247250  0.241190 -0.134550 -0.340070 -0.077146 -0.084089  \n",
       "who    0.012880 -0.014196 -0.035858  0.143800 -0.241830 -0.421030  0.308980  \n",
       "they  -0.100570  0.068828 -0.101530 -0.001232 -0.515610  0.010936 -0.004142  \n",
       "had    0.244450  0.201880  0.273490  0.195710 -0.582510 -0.333910 -0.057473  \n",
       "i     -0.121750  0.243350 -0.778350  0.395980 -0.237780  0.147660  0.629020  \n",
       "which  0.085685  0.134720  0.375190  0.281070 -0.327010 -0.053744 -0.418240  \n",
       "will  -0.100940 -0.144970  0.113860  0.001846 -0.481090 -0.311970 -0.068116  \n",
       "their -0.324020 -0.077072  0.547740 -0.113390 -0.425400 -0.250390 -0.204360  \n",
       ":      0.064507  0.541790 -0.033904 -0.556260 -0.395710 -0.179350  0.593900  \n",
       "or    -0.165250  0.164220 -0.249530 -0.119160 -0.668590 -0.226350  0.149950  \n",
       "its   -0.085050 -0.026096  0.932450 -0.020103 -0.120370 -0.259520 -0.469260  \n",
       "one   -0.147840  0.183390  0.161370 -0.058419 -0.372520 -0.389900  0.031491  \n",
       "after -0.130950  0.121180  0.637920  0.039345 -0.572920 -0.165700 -0.128000  \n",
       "\n",
       "[50 rows x 300 columns]"
      ]
     },
     "execution_count": 10,
     "metadata": {},
     "output_type": "execute_result"
    }
   ],
   "source": [
    "X[0:50]"
   ]
  },
  {
   "cell_type": "code",
   "execution_count": 11,
   "metadata": {},
   "outputs": [
    {
     "data": {
      "image/png": "[encoded data removed]",
      "text/plain": [
       "<Figure size 2500x600 with 2 Axes>"
      ]
     },
     "metadata": {},
     "output_type": "display_data"
    }
   ],
   "source": [
    "# Visualización de los vectores de las palabas elegidas\n",
    "fig = plt.figure(figsize=(25, 6))\n",
    "ax = sns.heatmap(X.sample(20), center=0)"
   ]
  },
  {
   "cell_type": "markdown",
   "metadata": {},
   "source": [
    "Vamos a chequear si una palabra aparece en el modelo:"
   ]
  },
  {
   "cell_type": "code",
   "execution_count": 12,
   "metadata": {},
   "outputs": [
    {
     "name": "stdout",
     "output_type": "stream",
     "text": [
      "La palabra 'embeddings' aparece en el modelo\n"
     ]
    }
   ],
   "source": [
    "word = \"embeddings\"\n",
    "try:\n",
    "    word_vector = model[word]\n",
    "    print(f\"La palabra '{word}' aparece en el modelo\")\n",
    "except KeyError:\n",
    "    print(f\"La palabra '{word}' no aparece en este modelo\")"
   ]
  },
  {
   "cell_type": "code",
   "execution_count": 13,
   "metadata": {},
   "outputs": [
    {
     "name": "stdout",
     "output_type": "stream",
     "text": [
      "La palabra 'Bourbaki' no aparece en este modelo\n"
     ]
    }
   ],
   "source": [
    "word = \"Bourbaki\"\n",
    "try:\n",
    "    word_vector = model[word]\n",
    "    print(f\"La palabra '{word}' aparece en el modelo\")\n",
    "except KeyError:\n",
    "    print(f\"La palabra '{word}' no aparece en este modelo\")"
   ]
  },
  {
   "cell_type": "markdown",
   "metadata": {},
   "source": [
    "Veamos la similutud entre dos palabras:"
   ]
  },
  {
   "cell_type": "markdown",
   "metadata": {},
   "source": [
    "Vamos a imprimir un top 5 de similitudes:"
   ]
  },
  {
   "cell_type": "code",
   "execution_count": 14,
   "metadata": {},
   "outputs": [
    {
     "name": "stdout",
     "output_type": "stream",
     "text": [
      "[('computers', 0.8248152732849121), ('software', 0.7334420084953308), ('pc', 0.6240139603614807), ('technology', 0.6198545098304749), ('computing', 0.6178765296936035)]\n"
     ]
    }
   ],
   "source": [
    "print(model.most_similar(positive=[\"computer\"], topn=5))"
   ]
  },
  {
   "cell_type": "markdown",
   "metadata": {},
   "source": [
    "Veamos otras similitudes:"
   ]
  },
  {
   "cell_type": "code",
   "execution_count": 15,
   "metadata": {},
   "outputs": [
    {
     "data": {
      "text/plain": [
       "0.6336469"
      ]
     },
     "execution_count": 15,
     "metadata": {},
     "output_type": "execute_result"
    }
   ],
   "source": [
    "model.similarity(\"king\", \"queen\")\n"
   ]
  },
  {
   "cell_type": "code",
   "execution_count": 16,
   "metadata": {},
   "outputs": [
    {
     "data": {
      "text/plain": [
       "0.33313724"
      ]
     },
     "execution_count": 16,
     "metadata": {},
     "output_type": "execute_result"
    }
   ],
   "source": [
    "model.similarity(\"king\", \"man\")"
   ]
  },
  {
   "cell_type": "code",
   "execution_count": 17,
   "metadata": {},
   "outputs": [
    {
     "data": {
      "text/plain": [
       "0.12202809"
      ]
     },
     "execution_count": 17,
     "metadata": {},
     "output_type": "execute_result"
    }
   ],
   "source": [
    "model.similarity(\"king\", \"potato\")"
   ]
  },
  {
   "cell_type": "code",
   "execution_count": 18,
   "metadata": {},
   "outputs": [
    {
     "data": {
      "text/plain": [
       "1.0"
      ]
     },
     "execution_count": 18,
     "metadata": {},
     "output_type": "execute_result"
    }
   ],
   "source": [
    "model.similarity(\"king\", \"king\")"
   ]
  },
  {
   "cell_type": "markdown",
   "metadata": {},
   "source": [
    "Vamos a imprimir un top 5 para el par rey-reina:"
   ]
  },
  {
   "cell_type": "code",
   "execution_count": 19,
   "metadata": {},
   "outputs": [
    {
     "data": {
      "text/plain": [
       "[('monarch', 0.6480432748794556),\n",
       " ('prince', 0.6121769547462463),\n",
       " ('elizabeth', 0.5973594784736633),\n",
       " ('princess', 0.594935417175293),\n",
       " ('throne', 0.5921548008918762)]"
      ]
     },
     "execution_count": 19,
     "metadata": {},
     "output_type": "execute_result"
    }
   ],
   "source": [
    "model.most_similar([\"king\", \"queen\"], topn=5)"
   ]
  },
  {
   "cell_type": "markdown",
   "metadata": {},
   "source": [
    "Vamos a imprimir un top 5 para el par tomate-zanahoria"
   ]
  },
  {
   "cell_type": "code",
   "execution_count": 20,
   "metadata": {},
   "outputs": [
    {
     "data": {
      "text/plain": [
       "[('onion', 0.7208420038223267),\n",
       " ('carrots', 0.6934049725532532),\n",
       " ('cucumber', 0.6927439570426941),\n",
       " ('celery', 0.6803164482116699),\n",
       " ('garlic', 0.653205931186676)]"
      ]
     },
     "execution_count": 20,
     "metadata": {},
     "output_type": "execute_result"
    }
   ],
   "source": [
    "model.most_similar([\"tomato\", \"carrot\"], topn=5)"
   ]
  },
  {
   "cell_type": "markdown",
   "metadata": {},
   "source": [
    "Pero incluso puedes hacer cosas interesantes como ver qué palabra no corresponde a una lista."
   ]
  },
  {
   "cell_type": "code",
   "execution_count": 21,
   "metadata": {},
   "outputs": [
    {
     "data": {
      "text/plain": [
       "'air'"
      ]
     },
     "execution_count": 21,
     "metadata": {},
     "output_type": "execute_result"
    }
   ],
   "source": [
    "model.doesnt_match([\"summer\", \"fall\", \"spring\", \"air\"])"
   ]
  },
  {
   "cell_type": "markdown",
   "metadata": {},
   "source": [
    "Hagamos un ranking de las siguientes 15 palabras según su similitud con las palabras “man” y “woman”. Para cada par, veamos su similitud."
   ]
  },
  {
   "cell_type": "code",
   "execution_count": 22,
   "metadata": {},
   "outputs": [],
   "source": [
    "words = [\n",
    "\"wife\",\n",
    "\"husband\",\n",
    "\"child\",\n",
    "\"queen\",\n",
    "\"king\",\n",
    "\"man\",\n",
    "\"woman\",\n",
    "\"birth\",\n",
    "\"doctor\",\n",
    "\"nurse\",\n",
    "\"teacher\",\n",
    "\"professor\",\n",
    "\"engineer\",\n",
    "\"scientist\",\n",
    "\"president\"]"
   ]
  },
  {
   "cell_type": "code",
   "execution_count": 23,
   "metadata": {},
   "outputs": [
    {
     "name": "stdout",
     "output_type": "stream",
     "text": [
      "wife: 0.4170531630516052\n",
      "husband: 0.4309835731983185\n",
      "child: 0.37217551469802856\n",
      "queen: 0.22408132255077362\n",
      "king: 0.33313724398612976\n",
      "man: 1.0000001192092896\n",
      "woman: 0.6998662948608398\n",
      "birth: 0.24757003784179688\n",
      "doctor: 0.4012426435947418\n",
      "nurse: 0.237300306558609\n",
      "teacher: 0.30423852801322937\n",
      "professor: 0.20771588385105133\n",
      "engineer: 0.28749069571495056\n",
      "scientist: 0.2852986752986908\n",
      "president: 0.23620198667049408\n"
     ]
    }
   ],
   "source": [
    "for word in words:\n",
    "    print(f\"{word}: {model.similarity('man', word)}\")"
   ]
  },
  {
   "cell_type": "code",
   "execution_count": 24,
   "metadata": {},
   "outputs": [
    {
     "name": "stdout",
     "output_type": "stream",
     "text": [
      "wife: 0.5986992716789246\n",
      "husband: 0.5462620258331299\n",
      "child: 0.5336180925369263\n",
      "queen: 0.3786052465438843\n",
      "king: 0.22219783067703247\n",
      "man: 0.6998662948608398\n",
      "woman: 0.9999999403953552\n",
      "birth: 0.4110337495803833\n",
      "doctor: 0.46908095479011536\n",
      "nurse: 0.44963565468788147\n",
      "teacher: 0.42721056938171387\n",
      "professor: 0.2204643189907074\n",
      "engineer: 0.20360063016414642\n",
      "scientist: 0.27530816197395325\n",
      "president: 0.20134904980659485\n"
     ]
    }
   ],
   "source": [
    "for word in words:\n",
    "    print(f\"{word}: {model.similarity('woman', word)}\")"
   ]
  },
  {
   "cell_type": "markdown",
   "metadata": {},
   "source": [
    "¿Nuestro subespacio vectorial de palabras tiene propiedades aritméticas?\n",
    "\n",
    "Podemos resolver analogías como “A es a B como C es a _” haciendo C + B - A."
   ]
  },
  {
   "cell_type": "markdown",
   "metadata": {},
   "source": [
    " Veamos el siguiente ejemplo famoso :"
   ]
  },
  {
   "cell_type": "code",
   "execution_count": 25,
   "metadata": {},
   "outputs": [
    {
     "data": {
      "text/plain": [
       "[('queen', 0.6713277101516724)]"
      ]
     },
     "execution_count": 25,
     "metadata": {},
     "output_type": "execute_result"
    }
   ],
   "source": [
    "# man is to woman as king is to ___?\n",
    "model.most_similar(positive=[\"king\", \"woman\"], negative=[\"man\"], topn=1)"
   ]
  },
  {
   "cell_type": "markdown",
   "metadata": {},
   "source": [
    "En este ejemplo la propiedad aritmética es la realeza"
   ]
  },
  {
   "cell_type": "markdown",
   "metadata": {},
   "source": [
    "Veamos otro:"
   ]
  },
  {
   "cell_type": "code",
   "execution_count": 36,
   "metadata": {},
   "outputs": [
    {
     "data": {
      "text/plain": [
       "[('europe', 0.5533686280250549)]"
      ]
     },
     "execution_count": 36,
     "metadata": {},
     "output_type": "execute_result"
    }
   ],
   "source": [
    "#brazil is to america as italy is to ___?\n",
    "model.most_similar(positive=[\"italy\", \"america\"], negative=['brazil'], topn=1)"
   ]
  },
  {
   "cell_type": "markdown",
   "metadata": {},
   "source": [
    "### Visualización de los encajes"
   ]
  },
  {
   "cell_type": "markdown",
   "metadata": {},
   "source": [
    "Los encajes realizados por el modelo pueden visualizarse reduciendo la dimensionalidad de las palabras a 2 dimensiones mediante tSNE (o algun otro método como PCA).\n",
    "\n",
    "Las visualizaciones pueden utilizarse para detectar tendencias semánticas y sintácticas en los datos.\n",
    "\n",
    "Por ejemplo:\n",
    "\n",
    "* **Semántica:** palabras como gato, perro, vaca, etc. tienden a estar cerca.\n",
    "\n",
    "* **Sintácticas:** palabras como correr, corriendo o cortar, cortando están muy juntas."
   ]
  },
  {
   "cell_type": "code",
   "execution_count": 73,
   "metadata": {},
   "outputs": [],
   "source": [
    "words = ['zombie', 'zombies', 'creature', 'creatures', 'monster', 'monsters', 'vampire', 'dragon', 'body', 'bodies', 'soldier', 'soldiers', 'man', 'men', 'woman', 'women']\n",
    "vectors = np.array([model[word] for word in words if word in model])"
   ]
  },
  {
   "cell_type": "code",
   "execution_count": 74,
   "metadata": {},
   "outputs": [],
   "source": [
    "tsne = TSNE(n_components=2, perplexity=1)\n",
    "vectors_reduced = tsne.fit_transform(vectors)"
   ]
  },
  {
   "cell_type": "code",
   "execution_count": 75,
   "metadata": {},
   "outputs": [],
   "source": [
    "# Define connections\n",
    "connections = [\n",
    "    ('zombies', 'zombie'), ('zombie', 'creatures'), ('creatures', 'body'), \n",
    "    ('body', 'monsters'), ('monsters', 'vampires'), ('vampires', 'creature'), \n",
    "    ('creature', 'monster'), ('monster', 'vampire'), ('vampire', 'dragon'), \n",
    "    ('soldiers', 'bodies'), ('bodies', 'soldier'), ('soldier', 'women'), \n",
    "    ('women', 'men'), ('men', 'woman'), ('woman', 'man')\n",
    "]"
   ]
  },
  {
   "cell_type": "code",
   "execution_count": 76,
   "metadata": {},
   "outputs": [
    {
     "data": {
      "application/vnd.plotly.v1+json": {
       "config": {
        "plotlyServerURL": "https://plot.ly"
       },
       "data": [
        {
         "marker": {
          "color": "LightSkyBlue",
          "line": {
           "color": "DarkSlateGrey",
           "width": 2
          },
          "size": 10
         },
         "mode": "markers+text",
         "text": [
          "zombie",
          "zombies",
          "creature",
          "creatures",
          "monster",
          "monsters",
          "vampire",
          "dragon",
          "body",
          "bodies",
          "soldier",
          "soldiers",
          "man",
          "men",
          "woman",
          "women"
         ],
         "textposition": "top center",
         "type": "scatter",
         "x": [
          56.78903579711914,
          58.717472076416016,
          10.011758804321289,
          7.600961685180664,
          -0.6570117473602295,
          3.3529434204101562,
          53.75164031982422,
          -4.305443286895752,
          -98.87676239013672,
          -97.95838928222656,
          150.5585174560547,
          148.61997985839844,
          -9.602776527404785,
          -221.1639862060547,
          -12.349486351013184,
          -222.03890991210938
         ],
         "y": [
          -112.20735931396484,
          -110.09980773925781,
          129.65853881835938,
          128.0973358154297,
          122.74803924560547,
          125.3479232788086,
          -115.52703094482422,
          120.38098907470703,
          -104.46910858154297,
          -107.05889129638672,
          25.35295295715332,
          23.407960891723633,
          -7.732726573944092,
          -63.57986831665039,
          -7.770387649536133,
          -66.18355560302734
         ]
        },
        {
         "line": {
          "color": "black",
          "width": 1
         },
         "mode": "lines",
         "type": "scatter",
         "x": [
          56.78903579711914,
          58.717472076416016
         ],
         "y": [
          -112.20735931396484,
          -110.09980773925781
         ]
        },
        {
         "line": {
          "color": "black",
          "width": 1
         },
         "mode": "lines",
         "type": "scatter",
         "x": [
          10.011758804321289,
          7.600961685180664
         ],
         "y": [
          129.65853881835938,
          128.0973358154297
         ]
        },
        {
         "line": {
          "color": "black",
          "width": 1
         },
         "mode": "lines",
         "type": "scatter",
         "x": [
          -0.6570117473602295,
          3.3529434204101562
         ],
         "y": [
          122.74803924560547,
          125.3479232788086
         ]
        },
        {
         "line": {
          "color": "black",
          "width": 1
         },
         "mode": "lines",
         "type": "scatter",
         "x": [
          -9.602776527404785,
          -221.1639862060547
         ],
         "y": [
          -7.732726573944092,
          -63.57986831665039
         ]
        },
        {
         "line": {
          "color": "black",
          "width": 1
         },
         "mode": "lines",
         "type": "scatter",
         "x": [
          -12.349486351013184,
          -222.03890991210938
         ],
         "y": [
          -7.770387649536133,
          -66.18355560302734
         ]
        },
        {
         "line": {
          "color": "black",
          "width": 1
         },
         "mode": "lines",
         "type": "scatter",
         "x": [
          150.5585174560547,
          148.61997985839844
         ],
         "y": [
          25.35295295715332,
          23.407960891723633
         ]
        }
       ],
       "layout": {
        "showlegend": false,
        "template": {
         "data": {
          "bar": [
           {
            "error_x": {
             "color": "#2a3f5f"
            },
            "error_y": {
             "color": "#2a3f5f"
            },
            "marker": {
             "line": {
              "color": "#E5ECF6",
              "width": 0.5
             },
             "pattern": {
              "fillmode": "overlay",
              "size": 10,
              "solidity": 0.2
             }
            },
            "type": "bar"
           }
          ],
          "barpolar": [
           {
            "marker": {
             "line": {
              "color": "#E5ECF6",
              "width": 0.5
             },
             "pattern": {
              "fillmode": "overlay",
              "size": 10,
              "solidity": 0.2
             }
            },
            "type": "barpolar"
           }
          ],
          "carpet": [
           {
            "aaxis": {
             "endlinecolor": "#2a3f5f",
             "gridcolor": "white",
             "linecolor": "white",
             "minorgridcolor": "white",
             "startlinecolor": "#2a3f5f"
            },
            "baxis": {
             "endlinecolor": "#2a3f5f",
             "gridcolor": "white",
             "linecolor": "white",
             "minorgridcolor": "white",
             "startlinecolor": "#2a3f5f"
            },
            "type": "carpet"
           }
          ],
          "choropleth": [
           {
            "colorbar": {
             "outlinewidth": 0,
             "ticks": ""
            },
            "type": "choropleth"
           }
          ],
          "contour": [
           {
            "colorbar": {
             "outlinewidth": 0,
             "ticks": ""
            },
            "colorscale": [
             [
              0,
              "#0d0887"
             ],
             [
              0.1111111111111111,
              "#46039f"
             ],
             [
              0.2222222222222222,
              "#7201a8"
             ],
             [
              0.3333333333333333,
              "#9c179e"
             ],
             [
              0.4444444444444444,
              "#bd3786"
             ],
             [
              0.5555555555555556,
              "#d8576b"
             ],
             [
              0.6666666666666666,
              "#ed7953"
             ],
             [
              0.7777777777777778,
              "#fb9f3a"
             ],
             [
              0.8888888888888888,
              "#fdca26"
             ],
             [
              1,
              "#f0f921"
             ]
            ],
            "type": "contour"
           }
          ],
          "contourcarpet": [
           {
            "colorbar": {
             "outlinewidth": 0,
             "ticks": ""
            },
            "type": "contourcarpet"
           }
          ],
          "heatmap": [
           {
            "colorbar": {
             "outlinewidth": 0,
             "ticks": ""
            },
            "colorscale": [
             [
              0,
              "#0d0887"
             ],
             [
              0.1111111111111111,
              "#46039f"
             ],
             [
              0.2222222222222222,
              "#7201a8"
             ],
             [
              0.3333333333333333,
              "#9c179e"
             ],
             [
              0.4444444444444444,
              "#bd3786"
             ],
             [
              0.5555555555555556,
              "#d8576b"
             ],
             [
              0.6666666666666666,
              "#ed7953"
             ],
             [
              0.7777777777777778,
              "#fb9f3a"
             ],
             [
              0.8888888888888888,
              "#fdca26"
             ],
             [
              1,
              "#f0f921"
             ]
            ],
            "type": "heatmap"
           }
          ],
          "heatmapgl": [
           {
            "colorbar": {
             "outlinewidth": 0,
             "ticks": ""
            },
            "colorscale": [
             [
              0,
              "#0d0887"
             ],
             [
              0.1111111111111111,
              "#46039f"
             ],
             [
              0.2222222222222222,
              "#7201a8"
             ],
             [
              0.3333333333333333,
              "#9c179e"
             ],
             [
              0.4444444444444444,
              "#bd3786"
             ],
             [
              0.5555555555555556,
              "#d8576b"
             ],
             [
              0.6666666666666666,
              "#ed7953"
             ],
             [
              0.7777777777777778,
              "#fb9f3a"
             ],
             [
              0.8888888888888888,
              "#fdca26"
             ],
             [
              1,
              "#f0f921"
             ]
            ],
            "type": "heatmapgl"
           }
          ],
          "histogram": [
           {
            "marker": {
             "pattern": {
              "fillmode": "overlay",
              "size": 10,
              "solidity": 0.2
             }
            },
            "type": "histogram"
           }
          ],
          "histogram2d": [
           {
            "colorbar": {
             "outlinewidth": 0,
             "ticks": ""
            },
            "colorscale": [
             [
              0,
              "#0d0887"
             ],
             [
              0.1111111111111111,
              "#46039f"
             ],
             [
              0.2222222222222222,
              "#7201a8"
             ],
             [
              0.3333333333333333,
              "#9c179e"
             ],
             [
              0.4444444444444444,
              "#bd3786"
             ],
             [
              0.5555555555555556,
              "#d8576b"
             ],
             [
              0.6666666666666666,
              "#ed7953"
             ],
             [
              0.7777777777777778,
              "#fb9f3a"
             ],
             [
              0.8888888888888888,
              "#fdca26"
             ],
             [
              1,
              "#f0f921"
             ]
            ],
            "type": "histogram2d"
           }
          ],
          "histogram2dcontour": [
           {
            "colorbar": {
             "outlinewidth": 0,
             "ticks": ""
            },
            "colorscale": [
             [
              0,
              "#0d0887"
             ],
             [
              0.1111111111111111,
              "#46039f"
             ],
             [
              0.2222222222222222,
              "#7201a8"
             ],
             [
              0.3333333333333333,
              "#9c179e"
             ],
             [
              0.4444444444444444,
              "#bd3786"
             ],
             [
              0.5555555555555556,
              "#d8576b"
             ],
             [
              0.6666666666666666,
              "#ed7953"
             ],
             [
              0.7777777777777778,
              "#fb9f3a"
             ],
             [
              0.8888888888888888,
              "#fdca26"
             ],
             [
              1,
              "#f0f921"
             ]
            ],
            "type": "histogram2dcontour"
           }
          ],
          "mesh3d": [
           {
            "colorbar": {
             "outlinewidth": 0,
             "ticks": ""
            },
            "type": "mesh3d"
           }
          ],
          "parcoords": [
           {
            "line": {
             "colorbar": {
              "outlinewidth": 0,
              "ticks": ""
             }
            },
            "type": "parcoords"
           }
          ],
          "pie": [
           {
            "automargin": true,
            "type": "pie"
           }
          ],
          "scatter": [
           {
            "fillpattern": {
             "fillmode": "overlay",
             "size": 10,
             "solidity": 0.2
            },
            "type": "scatter"
           }
          ],
          "scatter3d": [
           {
            "line": {
             "colorbar": {
              "outlinewidth": 0,
              "ticks": ""
             }
            },
            "marker": {
             "colorbar": {
              "outlinewidth": 0,
              "ticks": ""
             }
            },
            "type": "scatter3d"
           }
          ],
          "scattercarpet": [
           {
            "marker": {
             "colorbar": {
              "outlinewidth": 0,
              "ticks": ""
             }
            },
            "type": "scattercarpet"
           }
          ],
          "scattergeo": [
           {
            "marker": {
             "colorbar": {
              "outlinewidth": 0,
              "ticks": ""
             }
            },
            "type": "scattergeo"
           }
          ],
          "scattergl": [
           {
            "marker": {
             "colorbar": {
              "outlinewidth": 0,
              "ticks": ""
             }
            },
            "type": "scattergl"
           }
          ],
          "scattermapbox": [
           {
            "marker": {
             "colorbar": {
              "outlinewidth": 0,
              "ticks": ""
             }
            },
            "type": "scattermapbox"
           }
          ],
          "scatterpolar": [
           {
            "marker": {
             "colorbar": {
              "outlinewidth": 0,
              "ticks": ""
             }
            },
            "type": "scatterpolar"
           }
          ],
          "scatterpolargl": [
           {
            "marker": {
             "colorbar": {
              "outlinewidth": 0,
              "ticks": ""
             }
            },
            "type": "scatterpolargl"
           }
          ],
          "scatterternary": [
           {
            "marker": {
             "colorbar": {
              "outlinewidth": 0,
              "ticks": ""
             }
            },
            "type": "scatterternary"
           }
          ],
          "surface": [
           {
            "colorbar": {
             "outlinewidth": 0,
             "ticks": ""
            },
            "colorscale": [
             [
              0,
              "#0d0887"
             ],
             [
              0.1111111111111111,
              "#46039f"
             ],
             [
              0.2222222222222222,
              "#7201a8"
             ],
             [
              0.3333333333333333,
              "#9c179e"
             ],
             [
              0.4444444444444444,
              "#bd3786"
             ],
             [
              0.5555555555555556,
              "#d8576b"
             ],
             [
              0.6666666666666666,
              "#ed7953"
             ],
             [
              0.7777777777777778,
              "#fb9f3a"
             ],
             [
              0.8888888888888888,
              "#fdca26"
             ],
             [
              1,
              "#f0f921"
             ]
            ],
            "type": "surface"
           }
          ],
          "table": [
           {
            "cells": {
             "fill": {
              "color": "#EBF0F8"
             },
             "line": {
              "color": "white"
             }
            },
            "header": {
             "fill": {
              "color": "#C8D4E3"
             },
             "line": {
              "color": "white"
             }
            },
            "type": "table"
           }
          ]
         },
         "layout": {
          "annotationdefaults": {
           "arrowcolor": "#2a3f5f",
           "arrowhead": 0,
           "arrowwidth": 1
          },
          "autotypenumbers": "strict",
          "coloraxis": {
           "colorbar": {
            "outlinewidth": 0,
            "ticks": ""
           }
          },
          "colorscale": {
           "diverging": [
            [
             0,
             "#8e0152"
            ],
            [
             0.1,
             "#c51b7d"
            ],
            [
             0.2,
             "#de77ae"
            ],
            [
             0.3,
             "#f1b6da"
            ],
            [
             0.4,
             "#fde0ef"
            ],
            [
             0.5,
             "#f7f7f7"
            ],
            [
             0.6,
             "#e6f5d0"
            ],
            [
             0.7,
             "#b8e186"
            ],
            [
             0.8,
             "#7fbc41"
            ],
            [
             0.9,
             "#4d9221"
            ],
            [
             1,
             "#276419"
            ]
           ],
           "sequential": [
            [
             0,
             "#0d0887"
            ],
            [
             0.1111111111111111,
             "#46039f"
            ],
            [
             0.2222222222222222,
             "#7201a8"
            ],
            [
             0.3333333333333333,
             "#9c179e"
            ],
            [
             0.4444444444444444,
             "#bd3786"
            ],
            [
             0.5555555555555556,
             "#d8576b"
            ],
            [
             0.6666666666666666,
             "#ed7953"
            ],
            [
             0.7777777777777778,
             "#fb9f3a"
            ],
            [
             0.8888888888888888,
             "#fdca26"
            ],
            [
             1,
             "#f0f921"
            ]
           ],
           "sequentialminus": [
            [
             0,
             "#0d0887"
            ],
            [
             0.1111111111111111,
             "#46039f"
            ],
            [
             0.2222222222222222,
             "#7201a8"
            ],
            [
             0.3333333333333333,
             "#9c179e"
            ],
            [
             0.4444444444444444,
             "#bd3786"
            ],
            [
             0.5555555555555556,
             "#d8576b"
            ],
            [
             0.6666666666666666,
             "#ed7953"
            ],
            [
             0.7777777777777778,
             "#fb9f3a"
            ],
            [
             0.8888888888888888,
             "#fdca26"
            ],
            [
             1,
             "#f0f921"
            ]
           ]
          },
          "colorway": [
           "#636efa",
           "#EF553B",
           "#00cc96",
           "#ab63fa",
           "#FFA15A",
           "#19d3f3",
           "#FF6692",
           "#B6E880",
           "#FF97FF",
           "#FECB52"
          ],
          "font": {
           "color": "#2a3f5f"
          },
          "geo": {
           "bgcolor": "white",
           "lakecolor": "white",
           "landcolor": "#E5ECF6",
           "showlakes": true,
           "showland": true,
           "subunitcolor": "white"
          },
          "hoverlabel": {
           "align": "left"
          },
          "hovermode": "closest",
          "mapbox": {
           "style": "light"
          },
          "paper_bgcolor": "white",
          "plot_bgcolor": "#E5ECF6",
          "polar": {
           "angularaxis": {
            "gridcolor": "white",
            "linecolor": "white",
            "ticks": ""
           },
           "bgcolor": "#E5ECF6",
           "radialaxis": {
            "gridcolor": "white",
            "linecolor": "white",
            "ticks": ""
           }
          },
          "scene": {
           "xaxis": {
            "backgroundcolor": "#E5ECF6",
            "gridcolor": "white",
            "gridwidth": 2,
            "linecolor": "white",
            "showbackground": true,
            "ticks": "",
            "zerolinecolor": "white"
           },
           "yaxis": {
            "backgroundcolor": "#E5ECF6",
            "gridcolor": "white",
            "gridwidth": 2,
            "linecolor": "white",
            "showbackground": true,
            "ticks": "",
            "zerolinecolor": "white"
           },
           "zaxis": {
            "backgroundcolor": "#E5ECF6",
            "gridcolor": "white",
            "gridwidth": 2,
            "linecolor": "white",
            "showbackground": true,
            "ticks": "",
            "zerolinecolor": "white"
           }
          },
          "shapedefaults": {
           "line": {
            "color": "#2a3f5f"
           }
          },
          "ternary": {
           "aaxis": {
            "gridcolor": "white",
            "linecolor": "white",
            "ticks": ""
           },
           "baxis": {
            "gridcolor": "white",
            "linecolor": "white",
            "ticks": ""
           },
           "bgcolor": "#E5ECF6",
           "caxis": {
            "gridcolor": "white",
            "linecolor": "white",
            "ticks": ""
           }
          },
          "title": {
           "x": 0.05
          },
          "xaxis": {
           "automargin": true,
           "gridcolor": "white",
           "linecolor": "white",
           "ticks": "",
           "title": {
            "standoff": 15
           },
           "zerolinecolor": "white",
           "zerolinewidth": 2
          },
          "yaxis": {
           "automargin": true,
           "gridcolor": "white",
           "linecolor": "white",
           "ticks": "",
           "title": {
            "standoff": 15
           },
           "zerolinecolor": "white",
           "zerolinewidth": 2
          }
         }
        },
        "title": {
         "text": "Word Embeddings Visualization"
        },
        "xaxis": {
         "title": {
          "text": "Component 1"
         }
        },
        "yaxis": {
         "title": {
          "text": "Component 2"
         }
        }
       }
      },
      "text/html": [
       "<div>                            <div id=\"15f4cfb2-f59d-435a-8f9e-30538f0bd727\" class=\"plotly-graph-div\" style=\"height:525px; width:100%;\"></div>            <script type=\"text/javascript\">                require([\"plotly\"], function(Plotly) {                    window.PLOTLYENV=window.PLOTLYENV || {};                                    if (document.getElementById(\"15f4cfb2-f59d-435a-8f9e-30538f0bd727\")) {                    Plotly.newPlot(                        \"15f4cfb2-f59d-435a-8f9e-30538f0bd727\",                        [{\"marker\":{\"color\":\"LightSkyBlue\",\"line\":{\"color\":\"DarkSlateGrey\",\"width\":2},\"size\":10},\"mode\":\"markers+text\",\"text\":[\"zombie\",\"zombies\",\"creature\",\"creatures\",\"monster\",\"monsters\",\"vampire\",\"dragon\",\"body\",\"bodies\",\"soldier\",\"soldiers\",\"man\",\"men\",\"woman\",\"women\"],\"textposition\":\"top center\",\"x\":[56.78903579711914,58.717472076416016,10.011758804321289,7.600961685180664,-0.6570117473602295,3.3529434204101562,53.75164031982422,-4.305443286895752,-98.87676239013672,-97.95838928222656,150.5585174560547,148.61997985839844,-9.602776527404785,-221.1639862060547,-12.349486351013184,-222.03890991210938],\"y\":[-112.20735931396484,-110.09980773925781,129.65853881835938,128.0973358154297,122.74803924560547,125.3479232788086,-115.52703094482422,120.38098907470703,-104.46910858154297,-107.05889129638672,25.35295295715332,23.407960891723633,-7.732726573944092,-63.57986831665039,-7.770387649536133,-66.18355560302734],\"type\":\"scatter\"},{\"line\":{\"color\":\"black\",\"width\":1},\"mode\":\"lines\",\"x\":[56.78903579711914,58.717472076416016],\"y\":[-112.20735931396484,-110.09980773925781],\"type\":\"scatter\"},{\"line\":{\"color\":\"black\",\"width\":1},\"mode\":\"lines\",\"x\":[10.011758804321289,7.600961685180664],\"y\":[129.65853881835938,128.0973358154297],\"type\":\"scatter\"},{\"line\":{\"color\":\"black\",\"width\":1},\"mode\":\"lines\",\"x\":[-0.6570117473602295,3.3529434204101562],\"y\":[122.74803924560547,125.3479232788086],\"type\":\"scatter\"},{\"line\":{\"color\":\"black\",\"width\":1},\"mode\":\"lines\",\"x\":[-9.602776527404785,-221.1639862060547],\"y\":[-7.732726573944092,-63.57986831665039],\"type\":\"scatter\"},{\"line\":{\"color\":\"black\",\"width\":1},\"mode\":\"lines\",\"x\":[-12.349486351013184,-222.03890991210938],\"y\":[-7.770387649536133,-66.18355560302734],\"type\":\"scatter\"},{\"line\":{\"color\":\"black\",\"width\":1},\"mode\":\"lines\",\"x\":[150.5585174560547,148.61997985839844],\"y\":[25.35295295715332,23.407960891723633],\"type\":\"scatter\"}],                        {\"template\":{\"data\":{\"histogram2dcontour\":[{\"type\":\"histogram2dcontour\",\"colorbar\":{\"outlinewidth\":0,\"ticks\":\"\"},\"colorscale\":[[0.0,\"#0d0887\"],[0.1111111111111111,\"#46039f\"],[0.2222222222222222,\"#7201a8\"],[0.3333333333333333,\"#9c179e\"],[0.4444444444444444,\"#bd3786\"],[0.5555555555555556,\"#d8576b\"],[0.6666666666666666,\"#ed7953\"],[0.7777777777777778,\"#fb9f3a\"],[0.8888888888888888,\"#fdca26\"],[1.0,\"#f0f921\"]]}],\"choropleth\":[{\"type\":\"choropleth\",\"colorbar\":{\"outlinewidth\":0,\"ticks\":\"\"}}],\"histogram2d\":[{\"type\":\"histogram2d\",\"colorbar\":{\"outlinewidth\":0,\"ticks\":\"\"},\"colorscale\":[[0.0,\"#0d0887\"],[0.1111111111111111,\"#46039f\"],[0.2222222222222222,\"#7201a8\"],[0.3333333333333333,\"#9c179e\"],[0.4444444444444444,\"#bd3786\"],[0.5555555555555556,\"#d8576b\"],[0.6666666666666666,\"#ed7953\"],[0.7777777777777778,\"#fb9f3a\"],[0.8888888888888888,\"#fdca26\"],[1.0,\"#f0f921\"]]}],\"heatmap\":[{\"type\":\"heatmap\",\"colorbar\":{\"outlinewidth\":0,\"ticks\":\"\"},\"colorscale\":[[0.0,\"#0d0887\"],[0.1111111111111111,\"#46039f\"],[0.2222222222222222,\"#7201a8\"],[0.3333333333333333,\"#9c179e\"],[0.4444444444444444,\"#bd3786\"],[0.5555555555555556,\"#d8576b\"],[0.6666666666666666,\"#ed7953\"],[0.7777777777777778,\"#fb9f3a\"],[0.8888888888888888,\"#fdca26\"],[1.0,\"#f0f921\"]]}],\"heatmapgl\":[{\"type\":\"heatmapgl\",\"colorbar\":{\"outlinewidth\":0,\"ticks\":\"\"},\"colorscale\":[[0.0,\"#0d0887\"],[0.1111111111111111,\"#46039f\"],[0.2222222222222222,\"#7201a8\"],[0.3333333333333333,\"#9c179e\"],[0.4444444444444444,\"#bd3786\"],[0.5555555555555556,\"#d8576b\"],[0.6666666666666666,\"#ed7953\"],[0.7777777777777778,\"#fb9f3a\"],[0.8888888888888888,\"#fdca26\"],[1.0,\"#f0f921\"]]}],\"contourcarpet\":[{\"type\":\"contourcarpet\",\"colorbar\":{\"outlinewidth\":0,\"ticks\":\"\"}}],\"contour\":[{\"type\":\"contour\",\"colorbar\":{\"outlinewidth\":0,\"ticks\":\"\"},\"colorscale\":[[0.0,\"#0d0887\"],[0.1111111111111111,\"#46039f\"],[0.2222222222222222,\"#7201a8\"],[0.3333333333333333,\"#9c179e\"],[0.4444444444444444,\"#bd3786\"],[0.5555555555555556,\"#d8576b\"],[0.6666666666666666,\"#ed7953\"],[0.7777777777777778,\"#fb9f3a\"],[0.8888888888888888,\"#fdca26\"],[1.0,\"#f0f921\"]]}],\"surface\":[{\"type\":\"surface\",\"colorbar\":{\"outlinewidth\":0,\"ticks\":\"\"},\"colorscale\":[[0.0,\"#0d0887\"],[0.1111111111111111,\"#46039f\"],[0.2222222222222222,\"#7201a8\"],[0.3333333333333333,\"#9c179e\"],[0.4444444444444444,\"#bd3786\"],[0.5555555555555556,\"#d8576b\"],[0.6666666666666666,\"#ed7953\"],[0.7777777777777778,\"#fb9f3a\"],[0.8888888888888888,\"#fdca26\"],[1.0,\"#f0f921\"]]}],\"mesh3d\":[{\"type\":\"mesh3d\",\"colorbar\":{\"outlinewidth\":0,\"ticks\":\"\"}}],\"scatter\":[{\"fillpattern\":{\"fillmode\":\"overlay\",\"size\":10,\"solidity\":0.2},\"type\":\"scatter\"}],\"parcoords\":[{\"type\":\"parcoords\",\"line\":{\"colorbar\":{\"outlinewidth\":0,\"ticks\":\"\"}}}],\"scatterpolargl\":[{\"type\":\"scatterpolargl\",\"marker\":{\"colorbar\":{\"outlinewidth\":0,\"ticks\":\"\"}}}],\"bar\":[{\"error_x\":{\"color\":\"#2a3f5f\"},\"error_y\":{\"color\":\"#2a3f5f\"},\"marker\":{\"line\":{\"color\":\"#E5ECF6\",\"width\":0.5},\"pattern\":{\"fillmode\":\"overlay\",\"size\":10,\"solidity\":0.2}},\"type\":\"bar\"}],\"scattergeo\":[{\"type\":\"scattergeo\",\"marker\":{\"colorbar\":{\"outlinewidth\":0,\"ticks\":\"\"}}}],\"scatterpolar\":[{\"type\":\"scatterpolar\",\"marker\":{\"colorbar\":{\"outlinewidth\":0,\"ticks\":\"\"}}}],\"histogram\":[{\"marker\":{\"pattern\":{\"fillmode\":\"overlay\",\"size\":10,\"solidity\":0.2}},\"type\":\"histogram\"}],\"scattergl\":[{\"type\":\"scattergl\",\"marker\":{\"colorbar\":{\"outlinewidth\":0,\"ticks\":\"\"}}}],\"scatter3d\":[{\"type\":\"scatter3d\",\"line\":{\"colorbar\":{\"outlinewidth\":0,\"ticks\":\"\"}},\"marker\":{\"colorbar\":{\"outlinewidth\":0,\"ticks\":\"\"}}}],\"scattermapbox\":[{\"type\":\"scattermapbox\",\"marker\":{\"colorbar\":{\"outlinewidth\":0,\"ticks\":\"\"}}}],\"scatterternary\":[{\"type\":\"scatterternary\",\"marker\":{\"colorbar\":{\"outlinewidth\":0,\"ticks\":\"\"}}}],\"scattercarpet\":[{\"type\":\"scattercarpet\",\"marker\":{\"colorbar\":{\"outlinewidth\":0,\"ticks\":\"\"}}}],\"carpet\":[{\"aaxis\":{\"endlinecolor\":\"#2a3f5f\",\"gridcolor\":\"white\",\"linecolor\":\"white\",\"minorgridcolor\":\"white\",\"startlinecolor\":\"#2a3f5f\"},\"baxis\":{\"endlinecolor\":\"#2a3f5f\",\"gridcolor\":\"white\",\"linecolor\":\"white\",\"minorgridcolor\":\"white\",\"startlinecolor\":\"#2a3f5f\"},\"type\":\"carpet\"}],\"table\":[{\"cells\":{\"fill\":{\"color\":\"#EBF0F8\"},\"line\":{\"color\":\"white\"}},\"header\":{\"fill\":{\"color\":\"#C8D4E3\"},\"line\":{\"color\":\"white\"}},\"type\":\"table\"}],\"barpolar\":[{\"marker\":{\"line\":{\"color\":\"#E5ECF6\",\"width\":0.5},\"pattern\":{\"fillmode\":\"overlay\",\"size\":10,\"solidity\":0.2}},\"type\":\"barpolar\"}],\"pie\":[{\"automargin\":true,\"type\":\"pie\"}]},\"layout\":{\"autotypenumbers\":\"strict\",\"colorway\":[\"#636efa\",\"#EF553B\",\"#00cc96\",\"#ab63fa\",\"#FFA15A\",\"#19d3f3\",\"#FF6692\",\"#B6E880\",\"#FF97FF\",\"#FECB52\"],\"font\":{\"color\":\"#2a3f5f\"},\"hovermode\":\"closest\",\"hoverlabel\":{\"align\":\"left\"},\"paper_bgcolor\":\"white\",\"plot_bgcolor\":\"#E5ECF6\",\"polar\":{\"bgcolor\":\"#E5ECF6\",\"angularaxis\":{\"gridcolor\":\"white\",\"linecolor\":\"white\",\"ticks\":\"\"},\"radialaxis\":{\"gridcolor\":\"white\",\"linecolor\":\"white\",\"ticks\":\"\"}},\"ternary\":{\"bgcolor\":\"#E5ECF6\",\"aaxis\":{\"gridcolor\":\"white\",\"linecolor\":\"white\",\"ticks\":\"\"},\"baxis\":{\"gridcolor\":\"white\",\"linecolor\":\"white\",\"ticks\":\"\"},\"caxis\":{\"gridcolor\":\"white\",\"linecolor\":\"white\",\"ticks\":\"\"}},\"coloraxis\":{\"colorbar\":{\"outlinewidth\":0,\"ticks\":\"\"}},\"colorscale\":{\"sequential\":[[0.0,\"#0d0887\"],[0.1111111111111111,\"#46039f\"],[0.2222222222222222,\"#7201a8\"],[0.3333333333333333,\"#9c179e\"],[0.4444444444444444,\"#bd3786\"],[0.5555555555555556,\"#d8576b\"],[0.6666666666666666,\"#ed7953\"],[0.7777777777777778,\"#fb9f3a\"],[0.8888888888888888,\"#fdca26\"],[1.0,\"#f0f921\"]],\"sequentialminus\":[[0.0,\"#0d0887\"],[0.1111111111111111,\"#46039f\"],[0.2222222222222222,\"#7201a8\"],[0.3333333333333333,\"#9c179e\"],[0.4444444444444444,\"#bd3786\"],[0.5555555555555556,\"#d8576b\"],[0.6666666666666666,\"#ed7953\"],[0.7777777777777778,\"#fb9f3a\"],[0.8888888888888888,\"#fdca26\"],[1.0,\"#f0f921\"]],\"diverging\":[[0,\"#8e0152\"],[0.1,\"#c51b7d\"],[0.2,\"#de77ae\"],[0.3,\"#f1b6da\"],[0.4,\"#fde0ef\"],[0.5,\"#f7f7f7\"],[0.6,\"#e6f5d0\"],[0.7,\"#b8e186\"],[0.8,\"#7fbc41\"],[0.9,\"#4d9221\"],[1,\"#276419\"]]},\"xaxis\":{\"gridcolor\":\"white\",\"linecolor\":\"white\",\"ticks\":\"\",\"title\":{\"standoff\":15},\"zerolinecolor\":\"white\",\"automargin\":true,\"zerolinewidth\":2},\"yaxis\":{\"gridcolor\":\"white\",\"linecolor\":\"white\",\"ticks\":\"\",\"title\":{\"standoff\":15},\"zerolinecolor\":\"white\",\"automargin\":true,\"zerolinewidth\":2},\"scene\":{\"xaxis\":{\"backgroundcolor\":\"#E5ECF6\",\"gridcolor\":\"white\",\"linecolor\":\"white\",\"showbackground\":true,\"ticks\":\"\",\"zerolinecolor\":\"white\",\"gridwidth\":2},\"yaxis\":{\"backgroundcolor\":\"#E5ECF6\",\"gridcolor\":\"white\",\"linecolor\":\"white\",\"showbackground\":true,\"ticks\":\"\",\"zerolinecolor\":\"white\",\"gridwidth\":2},\"zaxis\":{\"backgroundcolor\":\"#E5ECF6\",\"gridcolor\":\"white\",\"linecolor\":\"white\",\"showbackground\":true,\"ticks\":\"\",\"zerolinecolor\":\"white\",\"gridwidth\":2}},\"shapedefaults\":{\"line\":{\"color\":\"#2a3f5f\"}},\"annotationdefaults\":{\"arrowcolor\":\"#2a3f5f\",\"arrowhead\":0,\"arrowwidth\":1},\"geo\":{\"bgcolor\":\"white\",\"landcolor\":\"#E5ECF6\",\"subunitcolor\":\"white\",\"showland\":true,\"showlakes\":true,\"lakecolor\":\"white\"},\"title\":{\"x\":0.05},\"mapbox\":{\"style\":\"light\"}}},\"title\":{\"text\":\"Word Embeddings Visualization\"},\"xaxis\":{\"title\":{\"text\":\"Component 1\"}},\"yaxis\":{\"title\":{\"text\":\"Component 2\"}},\"showlegend\":false},                        {\"responsive\": true}                    ).then(function(){\n",
       "                            \n",
       "var gd = document.getElementById('15f4cfb2-f59d-435a-8f9e-30538f0bd727');\n",
       "var x = new MutationObserver(function (mutations, observer) {{\n",
       "        var display = window.getComputedStyle(gd).display;\n",
       "        if (!display || display === 'none') {{\n",
       "            console.log([gd, 'removed!']);\n",
       "            Plotly.purge(gd);\n",
       "            observer.disconnect();\n",
       "        }}\n",
       "}});\n",
       "\n",
       "// Listen for the removal of the full notebook cells\n",
       "var notebookContainer = gd.closest('#notebook-container');\n",
       "if (notebookContainer) {{\n",
       "    x.observe(notebookContainer, {childList: true});\n",
       "}}\n",
       "\n",
       "// Listen for the clearing of the current output cell\n",
       "var outputEl = gd.closest('.output');\n",
       "if (outputEl) {{\n",
       "    x.observe(outputEl, {childList: true});\n",
       "}}\n",
       "\n",
       "                        })                };                });            </script>        </div>"
      ]
     },
     "metadata": {},
     "output_type": "display_data"
    }
   ],
   "source": [
    "fig = go.Figure()\n",
    "\n",
    "fig.add_trace(go.Scatter(\n",
    "    x=vectors_reduced[:, 0],\n",
    "    y=vectors_reduced[:, 1],\n",
    "    mode='markers+text',\n",
    "    text=words,\n",
    "    marker=dict(size=10, color='LightSkyBlue', line=dict(width=2, color='DarkSlateGrey')),\n",
    "    textposition=\"top center\"\n",
    "))\n",
    "\n",
    "# Optionally, draw lines between related words\n",
    "lines = [('zombie', 'zombies'), ('creature', 'creatures'), ('monster', 'monsters'), ('man', 'men'), ('woman', 'women'), ('soldier', 'soldiers')]\n",
    "for line in lines:\n",
    "    if line[0] in model.key_to_index and line[1] in model.key_to_index:\n",
    "        idx1, idx2 = words.index(line[0]), words.index(line[1])\n",
    "        fig.add_trace(go.Scatter(\n",
    "            x=[vectors_reduced[idx1, 0], vectors_reduced[idx2, 0]],\n",
    "            y=[vectors_reduced[idx1, 1], vectors_reduced[idx2, 1]],\n",
    "            mode='lines',\n",
    "            line=dict(color='black', width=1)\n",
    "        ))\n",
    "\n",
    "# Update layout for better visualization\n",
    "fig.update_layout(\n",
    "    title='Word Embeddings Visualization',\n",
    "    xaxis_title='Component 1',\n",
    "    yaxis_title='Component 2',\n",
    "    showlegend=False\n",
    ")\n",
    "\n",
    "fig.show()"
   ]
  },
  {
   "cell_type": "markdown",
   "metadata": {},
   "source": [
    "**Memoria**\n",
    "\n",
    "En su núcleo, los parámetros del modelo word2vec se almacenan como matrices (arreglos NumPy). Cada matriz es **vocabulario** (controlado por el parámetro min_count) veces el tamaño del vector (el parámetro vector_size) de floats (single precision).\n",
    "\n",
    "En la RAM se guardan tres de estas matrices (se está trabajando para reducir ese número a dos, o incluso a una). Así que si nuestra entrada contiene 100000 palabras únicas, y pedimos que la capa vector_size sea igual a 200, el modelo requerirá aprox. 100.000*200*4*3 bytes = ~229MB.\n",
    "\n",
    "Se necesita un poco más de memoria para almacenar el árbol del vocabulario (100.000 palabras ocuparían unos pocos megabytes), pero a menos que las palabras sean cadenas extremadamente largas, la huella de memoria estará dominada por las tres matrices anteriores."
   ]
  },
  {
   "cell_type": "markdown",
   "metadata": {},
   "source": [
    "Ejercicios:\n",
    "\n",
    "1) **El modelo Word2Vec es supervisado o no supervisado? Explique**\n",
    "\n",
    "2) Definición Básica:\n",
    "¿Qué es Word2Vec y cuál es su propósito principal en procesamiento de lenguaje natural?\n",
    "\n",
    "3) Arquitecturas:\n",
    "Explica las dos arquitecturas principales en Word2Vec: Skip-Gram y CBOW. ¿En qué se diferencian y cuándo podrías preferir una sobre la otra?\n",
    "\n",
    "4) Entrenamiento del Modelo:\n",
    "Describe brevemente el proceso de entrenamiento de un modelo Word2Vec. ¿Cómo se generan los vectores de palabras durante este proceso?\n",
    "\n",
    "5) Similitud de Palabras:\n",
    "¿Cómo se determina la similitud entre palabras utilizando los vectores generados por Word2Vec?\n",
    "\n",
    "6) Operaciones Vectoriales:\n",
    "Explica el concepto de operaciones vectoriales en Word2Vec. ¿Por qué la analogía \"vector('rey') - vector('hombre') + vector('mujer')\" tiene sentido?\n",
    "\n",
    "7) Tamaño del Vocabulario:\n",
    "¿Cómo afecta el tamaño del vocabulario al rendimiento y la eficiencia de un modelo Word2Vec?\n",
    "\n",
    "8) **Overfitting y Underfitting:**\n",
    "**¿Qué implicaciones podría tener un modelo Word2Vec que esté sobreajustado o subajustado?**\n",
    "\n",
    "9) Preprocesamiento de Texto:\n",
    "¿Por qué es importante realizar un preprocesamiento de texto adecuado antes de entrenar un modelo Word2Vec? Menciona al menos dos técnicas comunes de preprocesamiento.\n",
    "\n",
    "10) Evaluación del Modelo:\n",
    "¿Cómo podrías evaluar la calidad de los vectores generados por un modelo Word2Vec? Menciona al menos una métrica comúnmente utilizada.\n",
    "\n",
    "11) **Uso Práctico:**\n",
    "**De ser posible, entrenar un modelo Word2Vec con un corpus más extenso. Investigar cual podrían usar (Google News, Wikipedia, etc...)**"
   ]
  },
  {
   "cell_type": "markdown",
   "metadata": {},
   "source": [
    "Referencias:\n",
    "\n",
    "* Google Code Archive: https://code.google.com/archive/p/word2vec/\n",
    "\n",
    "* Word Embeddings using Word2Vec: https://www.geeksforgeeks.org/python-word-embedding-using-word2vec/:\n",
    "\n",
    "* Word2Vec Tutorial: https://radimrehurek.com/gensim/auto_examples/tutorials/run_word2vec.html#sphx-glr-auto-examples-tutorials-run-word2vec-py"
   ]
  },
  {
   "cell_type": "markdown",
   "metadata": {},
   "source": [
    "![Colegio Bourbaki](./Images/Matematicas.png)"
   ]
  },
  {
   "cell_type": "markdown",
   "metadata": {},
   "source": [
    "![Colegio Bourbaki](./Images/Contacto.png)"
   ]
  }
 ],
 "metadata": {
  "kernelspec": {
   "display_name": "Python 3",
   "language": "python",
   "name": "python3"
  },
  "language_info": {
   "codemirror_mode": {
    "name": "ipython",
    "version": 3
   },
   "file_extension": ".py",
   "mimetype": "text/x-python",
   "name": "python",
   "nbconvert_exporter": "python",
   "pygments_lexer": "ipython3",
   "version": "3.11.8"
  }
 },
 "nbformat": 4,
 "nbformat_minor": 2
}
