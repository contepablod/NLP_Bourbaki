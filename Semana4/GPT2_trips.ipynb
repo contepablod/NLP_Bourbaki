{
 "cells": [
  {
   "cell_type": "markdown",
   "metadata": {},
   "source": [
    "![Colegio Bourbaki](./Images/Bourbaki.png)"
   ]
  },
  {
   "cell_type": "markdown",
   "metadata": {},
   "source": [
    "## Procesamiento de Lenguaje Natural"
   ]
  },
  {
   "cell_type": "markdown",
   "metadata": {},
   "source": [
    "### LLM Fine Tuning"
   ]
  },
  {
   "cell_type": "markdown",
   "metadata": {},
   "source": [
    "### Contexto"
   ]
  },
  {
   "cell_type": "markdown",
   "metadata": {},
   "source": [
    "Conjunto de datos **TravelPlanner**:\n",
    "\n",
    "TravelPlanner es un punto de referencia elaborado para evaluar a los agentes lingüísticos en el uso de herramientas y la planificación compleja dentro de múltiples restricciones. Paper: https://arxiv.org/pdf/2402.01622.pdf\n",
    "\n",
    "Introducción\n",
    "\n",
    "En TravelPlanner, para una consulta determinada, se espera que los agentes lingüísticos formulen un plan completo que incluya transporte, comidas diarias, atracciones y alojamiento para cada día.\n",
    "\n",
    "TravelPlanner comprende 1.225 consultas en total. El número de días y las restricciones duras se han diseñado para poner a prueba las capacidades de los agentes tanto en la amplitud como en la profundidad de una planificación compleja.\n",
    "\n",
    "Conjunto de entrenamiento: 5 consultas con sus correspondientes planes anotados por humanos para cada grupo, lo que da un total de 45 pares de consulta-plan. Este conjunto proporciona los planes anotados por humanos como demostraciones para el aprendizaje en contexto.\n",
    "\n",
    "Conjunto de validación: 20 consultas de cada grupo, lo que supone un total de 180 consultas. En este conjunto no hay ningún plan anotado por humanos.\n",
    "\n",
    "Conjunto de prueba: 1.000 consultas distribuidas aleatoriamente. Para evitar la contaminación de los datos, sólo proporcionamos el nivel, los días y los campos de consulta en lenguaje natural."
   ]
  },
  {
   "cell_type": "markdown",
   "metadata": {},
   "source": [
    "Schema:\n",
    "\n",
    "    \"org\": The city from where the journey begins.\n",
    "    \"dest\": The destination city.\n",
    "    \"days\": The number of days planned for the trip.\n",
    "    \"visiting_city_number\": The total number of cities included in the itinerary.\n",
    "    \"date\": The specific date when the travel is scheduled.\n",
    "    \"people_number\": The total number of people involved in the travel.\n",
    "    \"local_constraint\": The local hard constraint, including house rule, cuisine, room type and transportation.\n",
    "    \"query\": A natural language description or request related to the travel plan.\n",
    "    \"level\": The difficulty level, which is determined by the number of hard constraints.\n",
    "    \"annotated_plan\": A detailed travel plan annotated by a human, ensuring compliance with all common sense requirements and specific hard constraints.\n",
    "    \"reference_information\": Reference information for \"sole-planning\" mode.\n"
   ]
  },
  {
   "cell_type": "code",
   "execution_count": null,
   "metadata": {},
   "outputs": [],
   "source": [
    "!pip install datasets, ast, transformers"
   ]
  },
  {
   "cell_type": "markdown",
   "metadata": {},
   "source": [
    "### Librerías"
   ]
  },
  {
   "cell_type": "code",
   "execution_count": 1,
   "metadata": {},
   "outputs": [],
   "source": [
    "#Hugging Face Datasets\n",
    "from datasets import load_dataset\n",
    "\n",
    "#Torch\n",
    "import torch\n",
    "from torch.utils.data import Dataset, DataLoader\n",
    "from torch.nn.utils.rnn import pad_sequence\n",
    "\n",
    "# Text Processing\n",
    "import ast\n",
    "from transformers import GPT2Tokenizer, GPT2LMHeadModel\n",
    "\n",
    "#Utils\n",
    "import matplotlib.pyplot as plt\n",
    "import numpy as np\n",
    "import os\n",
    "import re\n",
    "import sys\n",
    "from tqdm.notebook import tqdm  # Display progress bar"
   ]
  },
  {
   "cell_type": "code",
   "execution_count": 2,
   "metadata": {},
   "outputs": [],
   "source": [
    "import warnings\n",
    "warnings.filterwarnings(\"ignore\")"
   ]
  },
  {
   "cell_type": "markdown",
   "metadata": {},
   "source": [
    "## Configuraciones"
   ]
  },
  {
   "cell_type": "code",
   "execution_count": 3,
   "metadata": {},
   "outputs": [],
   "source": [
    "# Set seed for random generators\n",
    "seed = 42\n",
    "torch.manual_seed(seed)\n",
    "torch.cuda.manual_seed(seed)\n",
    "np.random.seed(seed)"
   ]
  },
  {
   "cell_type": "code",
   "execution_count": 4,
   "metadata": {},
   "outputs": [],
   "source": [
    "os.environ[\"CUDA_LAUNCH_BLOCKING\"] = \"1\"\n",
    "!set 'PYTORCH_CUDA_ALLOC_CONF=max_split_size_mb:2'\n",
    "torch.cuda.empty_cache()\n",
    "torch.backends.cudnn.enabled = True\n",
    "torch.backends.cudnn.benchmark = False"
   ]
  },
  {
   "cell_type": "code",
   "execution_count": 5,
   "metadata": {},
   "outputs": [],
   "source": [
    "device = \"cuda:0\" if torch.cuda.is_available() else \"cpu\""
   ]
  },
  {
   "cell_type": "code",
   "execution_count": 6,
   "metadata": {},
   "outputs": [
    {
     "data": {
      "text/plain": [
       "'cuda:0'"
      ]
     },
     "execution_count": 6,
     "metadata": {},
     "output_type": "execute_result"
    }
   ],
   "source": [
    "device"
   ]
  },
  {
   "cell_type": "code",
   "execution_count": 7,
   "metadata": {},
   "outputs": [
    {
     "name": "stdout",
     "output_type": "stream",
     "text": [
      "__Python VERSION: 3.11.7 (main, Dec 29 2023, 12:40:11) [GCC 11.4.0]\n",
      "__pyTorch VERSION: 2.1.2+cu121\n",
      "\n",
      "__CUDNN VERSION: 8902\n",
      "__Number CUDA Devices: 1\n",
      "__Devices:\n",
      "Active CUDA Device: GPU 0\n",
      "Available devices  1\n",
      "Current cuda device  0\n"
     ]
    }
   ],
   "source": [
    "print(\"__Python VERSION:\", sys.version)\n",
    "print(\"__pyTorch VERSION:\", torch.__version__, end=\"\\n\\n\")\n",
    "\n",
    "if torch.cuda.is_available():\n",
    "    #print(\"__CUDA VERSION\")\n",
    "    #! nvcc --version\n",
    "    print(\"__CUDNN VERSION:\", torch.backends.cudnn.version())\n",
    "    print(\"__Number CUDA Devices:\", torch.cuda.device_count())\n",
    "    print(\"__Devices:\")\n",
    "    print(\"Active CUDA Device: GPU\", torch.cuda.current_device())\n",
    "    print(\"Available devices \", torch.cuda.device_count())\n",
    "    print(\"Current cuda device \", torch.cuda.current_device())\n",
    "    #! nvidia-smi"
   ]
  },
  {
   "cell_type": "code",
   "execution_count": 8,
   "metadata": {},
   "outputs": [],
   "source": [
    "data_train = load_dataset('osunlp/TravelPlanner', 'train', trust_remote_code=True)\n",
    "data_val = load_dataset('osunlp/TravelPlanner', 'validation', trust_remote_code=True)\n",
    "data_test = load_dataset('osunlp/TravelPlanner', 'test', trust_remote_code=True)"
   ]
  },
  {
   "cell_type": "code",
   "execution_count": 9,
   "metadata": {},
   "outputs": [
    {
     "data": {
      "text/plain": [
       "DatasetDict({\n",
       "    train: Dataset({\n",
       "        features: ['org', 'dest', 'days', 'visiting_city_number', 'date', 'people_number', 'local_constraint', 'budget', 'query', 'level', 'annotated_plan', 'reference_information'],\n",
       "        num_rows: 45\n",
       "    })\n",
       "})"
      ]
     },
     "execution_count": 9,
     "metadata": {},
     "output_type": "execute_result"
    }
   ],
   "source": [
    "data_train"
   ]
  },
  {
   "cell_type": "code",
   "execution_count": 10,
   "metadata": {},
   "outputs": [
    {
     "data": {
      "text/plain": [
       "DatasetDict({\n",
       "    validation: Dataset({\n",
       "        features: ['org', 'dest', 'days', 'visiting_city_number', 'date', 'people_number', 'local_constraint', 'budget', 'query', 'level', 'reference_information'],\n",
       "        num_rows: 180\n",
       "    })\n",
       "})"
      ]
     },
     "execution_count": 10,
     "metadata": {},
     "output_type": "execute_result"
    }
   ],
   "source": [
    "data_val"
   ]
  },
  {
   "cell_type": "code",
   "execution_count": 11,
   "metadata": {},
   "outputs": [
    {
     "data": {
      "text/plain": [
       "DatasetDict({\n",
       "    test: Dataset({\n",
       "        features: ['days', 'level', 'query', 'reference_information'],\n",
       "        num_rows: 1000\n",
       "    })\n",
       "})"
      ]
     },
     "execution_count": 11,
     "metadata": {},
     "output_type": "execute_result"
    }
   ],
   "source": [
    "data_test"
   ]
  },
  {
   "cell_type": "code",
   "execution_count": 12,
   "metadata": {},
   "outputs": [],
   "source": [
    "df_train = data_train['train'].to_pandas()\n",
    "df_val = data_val['validation'].to_pandas()\n",
    "df_test = data_test['test'].to_pandas()"
   ]
  },
  {
   "cell_type": "code",
   "execution_count": 13,
   "metadata": {},
   "outputs": [
    {
     "data": {
      "text/html": [
       "<div>\n",
       "<style scoped>\n",
       "    .dataframe tbody tr th:only-of-type {\n",
       "        vertical-align: middle;\n",
       "    }\n",
       "\n",
       "    .dataframe tbody tr th {\n",
       "        vertical-align: top;\n",
       "    }\n",
       "\n",
       "    .dataframe thead th {\n",
       "        text-align: right;\n",
       "    }\n",
       "</style>\n",
       "<table border=\"1\" class=\"dataframe\">\n",
       "  <thead>\n",
       "    <tr style=\"text-align: right;\">\n",
       "      <th></th>\n",
       "      <th>org</th>\n",
       "      <th>dest</th>\n",
       "      <th>days</th>\n",
       "      <th>visiting_city_number</th>\n",
       "      <th>date</th>\n",
       "      <th>people_number</th>\n",
       "      <th>local_constraint</th>\n",
       "      <th>budget</th>\n",
       "      <th>query</th>\n",
       "      <th>level</th>\n",
       "      <th>annotated_plan</th>\n",
       "      <th>reference_information</th>\n",
       "    </tr>\n",
       "  </thead>\n",
       "  <tbody>\n",
       "    <tr>\n",
       "      <th>0</th>\n",
       "      <td>St. Petersburg</td>\n",
       "      <td>Rockford</td>\n",
       "      <td>3</td>\n",
       "      <td>1</td>\n",
       "      <td>['2022-03-16', '2022-03-17', '2022-03-18']</td>\n",
       "      <td>1</td>\n",
       "      <td>{'house rule': None, 'cuisine': None, 'room ty...</td>\n",
       "      <td>1700</td>\n",
       "      <td>Please help me plan a trip from St. Petersburg...</td>\n",
       "      <td>easy</td>\n",
       "      <td>[{'org': 'St. Petersburg', 'dest': 'Rockford',...</td>\n",
       "      <td>[{'Description': 'Attractions in Rockford', 'C...</td>\n",
       "    </tr>\n",
       "    <tr>\n",
       "      <th>1</th>\n",
       "      <td>Kansas City</td>\n",
       "      <td>Pensacola</td>\n",
       "      <td>3</td>\n",
       "      <td>1</td>\n",
       "      <td>['2022-03-27', '2022-03-28', '2022-03-29']</td>\n",
       "      <td>1</td>\n",
       "      <td>{'house rule': None, 'cuisine': None, 'room ty...</td>\n",
       "      <td>900</td>\n",
       "      <td>Can you provide a travel plan for 1 person dep...</td>\n",
       "      <td>easy</td>\n",
       "      <td>[{'org': 'Kansas City', 'dest': 'Pensacola', '...</td>\n",
       "      <td>[{'Description': 'Attractions in Pensacola', '...</td>\n",
       "    </tr>\n",
       "    <tr>\n",
       "      <th>2</th>\n",
       "      <td>Las Vegas</td>\n",
       "      <td>Stockton</td>\n",
       "      <td>3</td>\n",
       "      <td>1</td>\n",
       "      <td>['2022-03-03', '2022-03-04', '2022-03-05']</td>\n",
       "      <td>1</td>\n",
       "      <td>{'house rule': None, 'cuisine': None, 'room ty...</td>\n",
       "      <td>1400</td>\n",
       "      <td>Please design a travel plan departing from Las...</td>\n",
       "      <td>easy</td>\n",
       "      <td>[{'org': 'Las Vegas', 'dest': 'Stockton', 'day...</td>\n",
       "      <td>[{'Description': 'Attractions in Stockton', 'C...</td>\n",
       "    </tr>\n",
       "    <tr>\n",
       "      <th>3</th>\n",
       "      <td>New Orleans</td>\n",
       "      <td>Louisville</td>\n",
       "      <td>3</td>\n",
       "      <td>1</td>\n",
       "      <td>['2022-03-12', '2022-03-13', '2022-03-14']</td>\n",
       "      <td>1</td>\n",
       "      <td>{'house rule': None, 'cuisine': None, 'room ty...</td>\n",
       "      <td>1900</td>\n",
       "      <td>Craft a travel plan for me to depart from New ...</td>\n",
       "      <td>easy</td>\n",
       "      <td>[{'org': 'New Orleans', 'dest': 'Louisville', ...</td>\n",
       "      <td>[{'Description': 'Attractions in Louisville', ...</td>\n",
       "    </tr>\n",
       "    <tr>\n",
       "      <th>4</th>\n",
       "      <td>Las Vegas</td>\n",
       "      <td>Denver</td>\n",
       "      <td>3</td>\n",
       "      <td>1</td>\n",
       "      <td>['2022-03-12', '2022-03-13', '2022-03-14']</td>\n",
       "      <td>1</td>\n",
       "      <td>{'house rule': None, 'cuisine': None, 'room ty...</td>\n",
       "      <td>1600</td>\n",
       "      <td>Please provide me with a travel plan that depa...</td>\n",
       "      <td>easy</td>\n",
       "      <td>[{'org': 'Las Vegas', 'dest': 'Denver', 'days'...</td>\n",
       "      <td>[{'Description': 'Attractions in Denver', 'Con...</td>\n",
       "    </tr>\n",
       "  </tbody>\n",
       "</table>\n",
       "</div>"
      ],
      "text/plain": [
       "              org        dest  days  visiting_city_number  \\\n",
       "0  St. Petersburg    Rockford     3                     1   \n",
       "1     Kansas City   Pensacola     3                     1   \n",
       "2       Las Vegas    Stockton     3                     1   \n",
       "3     New Orleans  Louisville     3                     1   \n",
       "4       Las Vegas      Denver     3                     1   \n",
       "\n",
       "                                         date  people_number  \\\n",
       "0  ['2022-03-16', '2022-03-17', '2022-03-18']              1   \n",
       "1  ['2022-03-27', '2022-03-28', '2022-03-29']              1   \n",
       "2  ['2022-03-03', '2022-03-04', '2022-03-05']              1   \n",
       "3  ['2022-03-12', '2022-03-13', '2022-03-14']              1   \n",
       "4  ['2022-03-12', '2022-03-13', '2022-03-14']              1   \n",
       "\n",
       "                                    local_constraint  budget  \\\n",
       "0  {'house rule': None, 'cuisine': None, 'room ty...    1700   \n",
       "1  {'house rule': None, 'cuisine': None, 'room ty...     900   \n",
       "2  {'house rule': None, 'cuisine': None, 'room ty...    1400   \n",
       "3  {'house rule': None, 'cuisine': None, 'room ty...    1900   \n",
       "4  {'house rule': None, 'cuisine': None, 'room ty...    1600   \n",
       "\n",
       "                                               query level  \\\n",
       "0  Please help me plan a trip from St. Petersburg...  easy   \n",
       "1  Can you provide a travel plan for 1 person dep...  easy   \n",
       "2  Please design a travel plan departing from Las...  easy   \n",
       "3  Craft a travel plan for me to depart from New ...  easy   \n",
       "4  Please provide me with a travel plan that depa...  easy   \n",
       "\n",
       "                                      annotated_plan  \\\n",
       "0  [{'org': 'St. Petersburg', 'dest': 'Rockford',...   \n",
       "1  [{'org': 'Kansas City', 'dest': 'Pensacola', '...   \n",
       "2  [{'org': 'Las Vegas', 'dest': 'Stockton', 'day...   \n",
       "3  [{'org': 'New Orleans', 'dest': 'Louisville', ...   \n",
       "4  [{'org': 'Las Vegas', 'dest': 'Denver', 'days'...   \n",
       "\n",
       "                               reference_information  \n",
       "0  [{'Description': 'Attractions in Rockford', 'C...  \n",
       "1  [{'Description': 'Attractions in Pensacola', '...  \n",
       "2  [{'Description': 'Attractions in Stockton', 'C...  \n",
       "3  [{'Description': 'Attractions in Louisville', ...  \n",
       "4  [{'Description': 'Attractions in Denver', 'Con...  "
      ]
     },
     "execution_count": 13,
     "metadata": {},
     "output_type": "execute_result"
    }
   ],
   "source": [
    "df_train.head()"
   ]
  },
  {
   "cell_type": "code",
   "execution_count": 14,
   "metadata": {},
   "outputs": [
    {
     "name": "stdout",
     "output_type": "stream",
     "text": [
      "<class 'pandas.core.frame.DataFrame'>\n",
      "RangeIndex: 45 entries, 0 to 44\n",
      "Data columns (total 12 columns):\n",
      " #   Column                 Non-Null Count  Dtype \n",
      "---  ------                 --------------  ----- \n",
      " 0   org                    45 non-null     object\n",
      " 1   dest                   45 non-null     object\n",
      " 2   days                   45 non-null     int64 \n",
      " 3   visiting_city_number   45 non-null     int64 \n",
      " 4   date                   45 non-null     object\n",
      " 5   people_number          45 non-null     int64 \n",
      " 6   local_constraint       45 non-null     object\n",
      " 7   budget                 45 non-null     int64 \n",
      " 8   query                  45 non-null     object\n",
      " 9   level                  45 non-null     object\n",
      " 10  annotated_plan         45 non-null     object\n",
      " 11  reference_information  45 non-null     object\n",
      "dtypes: int64(4), object(8)\n",
      "memory usage: 4.3+ KB\n"
     ]
    }
   ],
   "source": [
    "df_train.info()"
   ]
  },
  {
   "cell_type": "code",
   "execution_count": 15,
   "metadata": {},
   "outputs": [
    {
     "data": {
      "text/plain": [
       "[{'Description': 'Attractions in Rockford',\n",
       "  'Content': \"                                   Name  Latitude  Longitude                                                          Address          Phone                                                                 Website     City\\n       Burpee Museum of Natural History 42.277324 -89.088142                           737 N Main St, Rockford, IL 61103, USA (815) 965-3433                                                  http://www.burpee.org/ Rockford\\n                  Midway Village Museum 42.280499 -88.984640                        6799 Guilford Rd, Rockford, IL 61107, USA (815) 397-9112                                          https://www.midwayvillage.com/ Rockford\\n                Discovery Center Museum 42.277105 -89.089430                           711 N Main St, Rockford, IL 61103, USA (815) 963-6769                                   http://www.discoverycentermuseum.org/ Rockford\\nTinker Swiss Cottage Museum and Gardens 42.264110 -89.102796                             411 Kent St, Rockford, IL 61102, USA (815) 964-2424                                           http://www.tinkercottage.com/ Rockford\\n              Anderson Japanese Gardens 42.290054 -89.057795                     318 Spring Creek Rd, Rockford, IL 61107, USA (815) 229-9390                                             http://andersongardens.org/ Rockford\\n        Nicholas Conservatory & Gardens 42.282293 -89.070704                           1354 N 2nd St, Rockford, IL 61107, USA (815) 987-8858                                    http://www.nicholasconservatory.com/ Rockford\\n                   Erlander Home Museum 42.264098 -89.088693                            404 S 3rd St, Rockford, IL 61104, USA (815) 963-5559                                       http://www.swedishhistorical.org/ Rockford\\n                 Ethnic Heritage Museum 42.261100 -89.100915                          1129 S Main St, Rockford, IL 61101, USA (815) 962-7402                                   https://www.ethnicheritagemuseum.org/ Rockford\\n                       Sinnissippi Park 42.282729 -89.064116                           1401 N 2nd St, Rockford, IL 61107, USA (815) 987-8858                                     http://rockfordparkdistrict.org/ncg Rockford\\n       Klehm Arboretum & Botanic Garden 42.244452 -89.112540                          2715 S Main St, Rockford, IL 61102, USA (815) 965-8146                                                   http://www.klehm.org/ Rockford\\n         Davis Park at Founders Landing 42.268250 -89.095379                          320 S Wyman St, Rockford, IL 61101, USA (815) 968-5600 https://www.gorockford.com/listings/davis-park-at-founders-landing/275/ Rockford\\n     Frank Lloyd Wright's Laurent House 42.299833 -89.024362                    4646 Spring Brook Rd, Rockford, IL 61114, USA (815) 877-2952                                            http://www.laurenthouse.com/ Rockford\\n                    Sinnissippi Gardens 42.284031 -89.067901                           1354 N 2nd St, Rockford, IL 61107, USA (815) 987-8858                                       https://nicholasconservatory.com/ Rockford\\n                 Riverfront Museum Park 42.276843 -89.088859                    Ste 3, 711 N Main St, Rockford, IL 61103, USA (815) 962-0105                                                                 Unknown Rockford\\n                            Searls Park 42.300685 -89.124144                         4950 Safford Rd, Rockford, IL 61101, USA (815) 987-8800                                        http://rockfordparkdistrict.org/ Rockford\\n                      La Paloma Gardens 42.293671 -89.034617                       3622 Brookview Rd, Rockford, IL 61107, USA (815) 399-0324                                         http://www.lapalomagardens.com/ Rockford\\n                 Rockford Park District 42.268422 -89.097234                           401 S Main St, Rockford, IL 61101, USA (815) 987-8800                                       https://rockfordparkdistrict.org/ Rockford\\n                            Aldeen Park 42.274060 -89.022769                         623 N Alpine Rd, Rockford, IL 61107, USA        Unknown                                   https://www.rockfordparkdistrict.org/ Rockford\\n      Blackhawk Springs Forest Preserve 42.204694 -88.991636 5360 Mulford Road &, 5801 Perryville Rd, Rockford, IL 61109, USA (815) 877-6100                 http://winnebagoforest.org/preserves/blackhawk-springs/ Rockford\\n              Ingersoll Centennial Park 42.266298 -89.091439                            315 S 1st St, Rockford, IL 61104, USA (815) 987-8800                                        http://rockfordparkdistrict.org/ Rockford\"},\n",
       " {'Description': 'Restaurants in Rockford',\n",
       "  'Content': \"                                           Name  Average Cost                                            Cuisines  Aggregate Rating      City\\n39                                   Coco Bambu            72                      Tea, French, Bakery, BBQ, Cafe               4.9  Rockford\\n251                                Flying Mango            20                              American, BBQ, Seafood               4.5  Rockford\\n2470                           Gajalee Sea Food            49                                         Bakery, BBQ               3.9  Rockford\\n2861                 Shree Balaji Chaat Bhandar            97                        French, Bakery, BBQ, Italian               3.2  Rockford\\n3052                              Moets Arabica            43                      Tea, Bakery, Indian, Fast Food               3.5  Rockford\\n3163                            Cafe Coffee Day            28       Chinese, Desserts, Pizza, Cafe, Mediterranean               0.0  Rockford\\n3700                                Nutri Punch            34                        Tea, Chinese, Cafe, Desserts               4.0  Rockford\\n4319                              Cafe Southall            56                     Seafood, Pizza, Cafe, Fast Food               4.2  Rockford\\n4348  Eggspectation - Jaypee Vasant Continental            77                         Tea, Mediterranean, Seafood               3.6  Rockford\\n4542                           Aroma Rest O Bar            58       Bakery, Fast Food, Chinese, American, Seafood               3.6  Rockford\\n4735                             Advance Bakery           100  Desserts, Pizza, Mexican, Bakery, Chinese, Seafood               2.9  Rockford\\n4789                                Dial A Cake            29             Cafe, American, Mediterranean, Desserts               0.0  Rockford\\n5309                                     U Like            32                               Tea, French, Desserts               0.0  Rockford\\n5459                                     Subway            42                                 Tea, Chinese, Pizza               3.4  Rockford\\n5661                      Aggarwal Sweet Centre            81                Desserts, Tea, Italian, Bakery, Cafe               0.0  Rockford\\n6078                     Aggarwal Sweets Centre            73                    Fast Food, Chinese, BBQ, Italian               0.0  Rockford\\n6313      Giri Momos Centre & Chinese Fast Food            44                               Cafe, Indian, Seafood               2.4  Rockford\\n6388       Mr. Confectioner - Pride Plaza Hotel            74                                    Bakery, Desserts               0.0  Rockford\\n6507                                    Faaso's            98                           Bakery, Desserts, Seafood               0.0  Rockford\\n6796            Hangchuaa's Chinese Food Corner            64                                   Tea, BBQ, Seafood               3.1  Rockford\\n7295         Grappa - Shangri-La's - Eros Hotel            21                           Bakery, Desserts, Italian               3.4  Rockford\\n7955                        New Bhappe Di Hatti            76                    Seafood, Mexican, BBQ, Fast Food               0.0  Rockford\\n8095                             Dunkin' Donuts            24                          Cafe, Bakery, BBQ, Seafood               0.0  Rockford\\n8455                                     Subway            26                        Bakery, Pizza, BBQ, Desserts               3.8  Rockford\\n8821                          The Gourmet Shack            77                       Tea, Pizza, Indian, Fast Food               3.3  Rockford\\n8844                                Mirchievous            64                      American, Indian, BBQ, Seafood               3.1  Rockford\\n9340                                 Chaophraya            74                      Chinese, Pizza, Cafe, Desserts               3.9  Rockford\"},\n",
       " {'Description': 'Accommodations in Rockford',\n",
       "  'Content': '                                              NAME  price       room type                                  house_rules  minimum nights  maximum occupancy  review rate number     city\\n                     Spacious 3BDR Prime Location! 1030.0 Entire home/apt                                   No smoking             2.0                  9                 2.0 Rockford\\n                Private Room in a two bedroom apt.  210.0    Private room                     No visitors & No smoking             1.0                  2                 4.0 Rockford\\n              Private rooms And Matchless Location 1075.0    Private room                         No pets & No parties             2.0                  2                 2.0 Rockford\\nPark Side Zen Home - Terrace & next to CentralPark  250.0 Entire home/apt                         No children under 10             3.0                  3                 3.0 Rockford\\n        Lux 2 Bedroom NYC Apt on the Hudson River!  737.0 Entire home/apt                                   No smoking            30.0                  4                 5.0 Rockford\\n             Modern 1-bedroom apartment in Fordham  377.0 Entire home/apt                                      No pets             7.0                  2                 5.0 Rockford\\n                       Private bedroom in BedStuy! 1107.0    Private room                                   No smoking            10.0                  1                 4.0 Rockford\\n   Pure luxury one bdrm + sofa bed on Central Park  243.0 Entire home/apt                      No smoking & No parties             2.0                  3                 3.0 Rockford\\n           Charming studio in the heart of Astoria  519.0 Entire home/apt                                   No parties             4.0                  4                 4.0 Rockford\\n                             The heart of Brooklyn  154.0 Entire home/apt No children under 10 & No visitors & No pets            30.0                  3                 2.0 Rockford\\n           Private Stuyvesant Bedroom Madison 1R-2  395.0    Private room            No parties & No children under 10            30.0                  2                 3.0 Rockford\\n Sunny big bedroom in lively Brooklyn neighborhood  440.0    Private room                         No pets & No smoking            14.0                  2                 3.0 Rockford\\n    Midtown 2 Bed United Nations Loc, Full Kitchen  245.0 Entire home/apt                                  No visitors             3.0                  3                 4.0 Rockford'},\n",
       " {'Description': 'Flight from St. Petersburg to Rockford on 2022-03-16',\n",
       "  'Content': 'Flight Number  Price DepTime ArrTime  ActualElapsedTime FlightDate OriginCityName DestCityName  Distance\\n     F3573659    474   15:40   17:04 2 hours 24 minutes 2022-03-16 St. Petersburg     Rockford    1049.0'},\n",
       " {'Description': 'Self-driving from St. Petersburg to Rockford',\n",
       "  'Content': 'No valid information.'},\n",
       " {'Description': 'Taxi from St. Petersburg to Rockford',\n",
       "  'Content': 'No valid information.'},\n",
       " {'Description': 'Flight from Rockford to St. Petersburg on 2022-03-18',\n",
       "  'Content': 'Flight Number  Price DepTime ArrTime  ActualElapsedTime FlightDate OriginCityName   DestCityName  Distance\\n     F3573120    346   19:00   22:43 2 hours 43 minutes 2022-03-18       Rockford St. Petersburg    1049.0'},\n",
       " {'Description': 'Self-driving from Rockford to St. Petersburg',\n",
       "  'Content': 'No valid information.'},\n",
       " {'Description': 'Taxi from Rockford to St. Petersburg',\n",
       "  'Content': 'No valid information.'}]"
      ]
     },
     "execution_count": 15,
     "metadata": {},
     "output_type": "execute_result"
    }
   ],
   "source": [
    "data_str = df_train['reference_information'][0]\n",
    "data = ast.literal_eval(data_str) \n",
    "data"
   ]
  },
  {
   "cell_type": "code",
   "execution_count": 16,
   "metadata": {},
   "outputs": [],
   "source": [
    "df_train['formatted_reference_information'] = df_train['reference_information'].apply(lambda x: ast.literal_eval(x))\n",
    "df_train['formatted_annotated_plan'] = df_train['annotated_plan'].apply(lambda x: ast.literal_eval(x))"
   ]
  },
  {
   "cell_type": "code",
   "execution_count": 17,
   "metadata": {},
   "outputs": [
    {
     "data": {
      "text/html": [
       "<div>\n",
       "<style scoped>\n",
       "    .dataframe tbody tr th:only-of-type {\n",
       "        vertical-align: middle;\n",
       "    }\n",
       "\n",
       "    .dataframe tbody tr th {\n",
       "        vertical-align: top;\n",
       "    }\n",
       "\n",
       "    .dataframe thead th {\n",
       "        text-align: right;\n",
       "    }\n",
       "</style>\n",
       "<table border=\"1\" class=\"dataframe\">\n",
       "  <thead>\n",
       "    <tr style=\"text-align: right;\">\n",
       "      <th></th>\n",
       "      <th>org</th>\n",
       "      <th>dest</th>\n",
       "      <th>days</th>\n",
       "      <th>visiting_city_number</th>\n",
       "      <th>date</th>\n",
       "      <th>people_number</th>\n",
       "      <th>local_constraint</th>\n",
       "      <th>budget</th>\n",
       "      <th>query</th>\n",
       "      <th>level</th>\n",
       "      <th>annotated_plan</th>\n",
       "      <th>reference_information</th>\n",
       "      <th>formatted_reference_information</th>\n",
       "      <th>formatted_annotated_plan</th>\n",
       "    </tr>\n",
       "  </thead>\n",
       "  <tbody>\n",
       "    <tr>\n",
       "      <th>0</th>\n",
       "      <td>St. Petersburg</td>\n",
       "      <td>Rockford</td>\n",
       "      <td>3</td>\n",
       "      <td>1</td>\n",
       "      <td>['2022-03-16', '2022-03-17', '2022-03-18']</td>\n",
       "      <td>1</td>\n",
       "      <td>{'house rule': None, 'cuisine': None, 'room ty...</td>\n",
       "      <td>1700</td>\n",
       "      <td>Please help me plan a trip from St. Petersburg...</td>\n",
       "      <td>easy</td>\n",
       "      <td>[{'org': 'St. Petersburg', 'dest': 'Rockford',...</td>\n",
       "      <td>[{'Description': 'Attractions in Rockford', 'C...</td>\n",
       "      <td>[{'Description': 'Attractions in Rockford', 'C...</td>\n",
       "      <td>[{'org': 'St. Petersburg', 'dest': 'Rockford',...</td>\n",
       "    </tr>\n",
       "    <tr>\n",
       "      <th>1</th>\n",
       "      <td>Kansas City</td>\n",
       "      <td>Pensacola</td>\n",
       "      <td>3</td>\n",
       "      <td>1</td>\n",
       "      <td>['2022-03-27', '2022-03-28', '2022-03-29']</td>\n",
       "      <td>1</td>\n",
       "      <td>{'house rule': None, 'cuisine': None, 'room ty...</td>\n",
       "      <td>900</td>\n",
       "      <td>Can you provide a travel plan for 1 person dep...</td>\n",
       "      <td>easy</td>\n",
       "      <td>[{'org': 'Kansas City', 'dest': 'Pensacola', '...</td>\n",
       "      <td>[{'Description': 'Attractions in Pensacola', '...</td>\n",
       "      <td>[{'Description': 'Attractions in Pensacola', '...</td>\n",
       "      <td>[{'org': 'Kansas City', 'dest': 'Pensacola', '...</td>\n",
       "    </tr>\n",
       "    <tr>\n",
       "      <th>2</th>\n",
       "      <td>Las Vegas</td>\n",
       "      <td>Stockton</td>\n",
       "      <td>3</td>\n",
       "      <td>1</td>\n",
       "      <td>['2022-03-03', '2022-03-04', '2022-03-05']</td>\n",
       "      <td>1</td>\n",
       "      <td>{'house rule': None, 'cuisine': None, 'room ty...</td>\n",
       "      <td>1400</td>\n",
       "      <td>Please design a travel plan departing from Las...</td>\n",
       "      <td>easy</td>\n",
       "      <td>[{'org': 'Las Vegas', 'dest': 'Stockton', 'day...</td>\n",
       "      <td>[{'Description': 'Attractions in Stockton', 'C...</td>\n",
       "      <td>[{'Description': 'Attractions in Stockton', 'C...</td>\n",
       "      <td>[{'org': 'Las Vegas', 'dest': 'Stockton', 'day...</td>\n",
       "    </tr>\n",
       "    <tr>\n",
       "      <th>3</th>\n",
       "      <td>New Orleans</td>\n",
       "      <td>Louisville</td>\n",
       "      <td>3</td>\n",
       "      <td>1</td>\n",
       "      <td>['2022-03-12', '2022-03-13', '2022-03-14']</td>\n",
       "      <td>1</td>\n",
       "      <td>{'house rule': None, 'cuisine': None, 'room ty...</td>\n",
       "      <td>1900</td>\n",
       "      <td>Craft a travel plan for me to depart from New ...</td>\n",
       "      <td>easy</td>\n",
       "      <td>[{'org': 'New Orleans', 'dest': 'Louisville', ...</td>\n",
       "      <td>[{'Description': 'Attractions in Louisville', ...</td>\n",
       "      <td>[{'Description': 'Attractions in Louisville', ...</td>\n",
       "      <td>[{'org': 'New Orleans', 'dest': 'Louisville', ...</td>\n",
       "    </tr>\n",
       "    <tr>\n",
       "      <th>4</th>\n",
       "      <td>Las Vegas</td>\n",
       "      <td>Denver</td>\n",
       "      <td>3</td>\n",
       "      <td>1</td>\n",
       "      <td>['2022-03-12', '2022-03-13', '2022-03-14']</td>\n",
       "      <td>1</td>\n",
       "      <td>{'house rule': None, 'cuisine': None, 'room ty...</td>\n",
       "      <td>1600</td>\n",
       "      <td>Please provide me with a travel plan that depa...</td>\n",
       "      <td>easy</td>\n",
       "      <td>[{'org': 'Las Vegas', 'dest': 'Denver', 'days'...</td>\n",
       "      <td>[{'Description': 'Attractions in Denver', 'Con...</td>\n",
       "      <td>[{'Description': 'Attractions in Denver', 'Con...</td>\n",
       "      <td>[{'org': 'Las Vegas', 'dest': 'Denver', 'days'...</td>\n",
       "    </tr>\n",
       "  </tbody>\n",
       "</table>\n",
       "</div>"
      ],
      "text/plain": [
       "              org        dest  days  visiting_city_number  \\\n",
       "0  St. Petersburg    Rockford     3                     1   \n",
       "1     Kansas City   Pensacola     3                     1   \n",
       "2       Las Vegas    Stockton     3                     1   \n",
       "3     New Orleans  Louisville     3                     1   \n",
       "4       Las Vegas      Denver     3                     1   \n",
       "\n",
       "                                         date  people_number  \\\n",
       "0  ['2022-03-16', '2022-03-17', '2022-03-18']              1   \n",
       "1  ['2022-03-27', '2022-03-28', '2022-03-29']              1   \n",
       "2  ['2022-03-03', '2022-03-04', '2022-03-05']              1   \n",
       "3  ['2022-03-12', '2022-03-13', '2022-03-14']              1   \n",
       "4  ['2022-03-12', '2022-03-13', '2022-03-14']              1   \n",
       "\n",
       "                                    local_constraint  budget  \\\n",
       "0  {'house rule': None, 'cuisine': None, 'room ty...    1700   \n",
       "1  {'house rule': None, 'cuisine': None, 'room ty...     900   \n",
       "2  {'house rule': None, 'cuisine': None, 'room ty...    1400   \n",
       "3  {'house rule': None, 'cuisine': None, 'room ty...    1900   \n",
       "4  {'house rule': None, 'cuisine': None, 'room ty...    1600   \n",
       "\n",
       "                                               query level  \\\n",
       "0  Please help me plan a trip from St. Petersburg...  easy   \n",
       "1  Can you provide a travel plan for 1 person dep...  easy   \n",
       "2  Please design a travel plan departing from Las...  easy   \n",
       "3  Craft a travel plan for me to depart from New ...  easy   \n",
       "4  Please provide me with a travel plan that depa...  easy   \n",
       "\n",
       "                                      annotated_plan  \\\n",
       "0  [{'org': 'St. Petersburg', 'dest': 'Rockford',...   \n",
       "1  [{'org': 'Kansas City', 'dest': 'Pensacola', '...   \n",
       "2  [{'org': 'Las Vegas', 'dest': 'Stockton', 'day...   \n",
       "3  [{'org': 'New Orleans', 'dest': 'Louisville', ...   \n",
       "4  [{'org': 'Las Vegas', 'dest': 'Denver', 'days'...   \n",
       "\n",
       "                               reference_information  \\\n",
       "0  [{'Description': 'Attractions in Rockford', 'C...   \n",
       "1  [{'Description': 'Attractions in Pensacola', '...   \n",
       "2  [{'Description': 'Attractions in Stockton', 'C...   \n",
       "3  [{'Description': 'Attractions in Louisville', ...   \n",
       "4  [{'Description': 'Attractions in Denver', 'Con...   \n",
       "\n",
       "                     formatted_reference_information  \\\n",
       "0  [{'Description': 'Attractions in Rockford', 'C...   \n",
       "1  [{'Description': 'Attractions in Pensacola', '...   \n",
       "2  [{'Description': 'Attractions in Stockton', 'C...   \n",
       "3  [{'Description': 'Attractions in Louisville', ...   \n",
       "4  [{'Description': 'Attractions in Denver', 'Con...   \n",
       "\n",
       "                            formatted_annotated_plan  \n",
       "0  [{'org': 'St. Petersburg', 'dest': 'Rockford',...  \n",
       "1  [{'org': 'Kansas City', 'dest': 'Pensacola', '...  \n",
       "2  [{'org': 'Las Vegas', 'dest': 'Stockton', 'day...  \n",
       "3  [{'org': 'New Orleans', 'dest': 'Louisville', ...  \n",
       "4  [{'org': 'Las Vegas', 'dest': 'Denver', 'days'...  "
      ]
     },
     "execution_count": 17,
     "metadata": {},
     "output_type": "execute_result"
    }
   ],
   "source": [
    "df_train.head()"
   ]
  },
  {
   "cell_type": "code",
   "execution_count": 18,
   "metadata": {},
   "outputs": [
    {
     "data": {
      "text/plain": [
       "[{'org': 'St. Petersburg',\n",
       "  'dest': 'Rockford',\n",
       "  'days': 3,\n",
       "  'visiting_city_number': 1,\n",
       "  'date': ['2022-03-16', '2022-03-17', '2022-03-18'],\n",
       "  'people_number': 1,\n",
       "  'local_constraint': {'house rule': None,\n",
       "   'cuisine': None,\n",
       "   'room type': None,\n",
       "   'transportation': None},\n",
       "  'budget': 1700,\n",
       "  'query': 'Please help me plan a trip from St. Petersburg to Rockford spanning 3 days from March 16th to March 18th, 2022. The travel should be planned for a single person with a budget of $1,700.',\n",
       "  'level': 'easy'},\n",
       " [{'days': 1,\n",
       "   'current_city': 'from St. Petersburg to Rockford',\n",
       "   'transportation': 'Flight Number: F3573659, from St. Petersburg to Rockford, Departure Time: 15:40, Arrival Time: 17:04',\n",
       "   'breakfast': '-',\n",
       "   'attraction': '-',\n",
       "   'lunch': '-',\n",
       "   'dinner': 'Coco Bambu, Rockford',\n",
       "   'accommodation': 'Pure luxury one bdrm + sofa bed on Central Park, Rockford'},\n",
       "  {'days': 2,\n",
       "   'current_city': 'Rockford',\n",
       "   'transportation': '-',\n",
       "   'breakfast': 'Dial A Cake, Rockford',\n",
       "   'attraction': 'Burpee Museum of Natural History, Rockford;Midway Village Museum, Rockford;Discovery Center Museum, Rockford;',\n",
       "   'lunch': 'Flying Mango, Rockford',\n",
       "   'dinner': 'Cafe Southall, Rockford',\n",
       "   'accommodation': 'Pure luxury one bdrm + sofa bed on Central Park, Rockford'},\n",
       "  {'days': 3,\n",
       "   'current_city': 'from Rockford to St. Petersburg',\n",
       "   'transportation': 'Flight Number: F3573120, from Rockford to St. Petersburg, Departure Time: 19:00, Arrival Time: 22:43',\n",
       "   'breakfast': 'Subway, Rockford',\n",
       "   'attraction': 'Klehm Arboretum & Botanic Garden, Rockford;Sinnissippi Park, Rockford;',\n",
       "   'lunch': 'Gajalee Sea Food, Rockford',\n",
       "   'dinner': 'Nutri Punch, Rockford',\n",
       "   'accommodation': '-'},\n",
       "  {},\n",
       "  {},\n",
       "  {},\n",
       "  {}]]"
      ]
     },
     "execution_count": 18,
     "metadata": {},
     "output_type": "execute_result"
    }
   ],
   "source": [
    "df_train['formatted_annotated_plan'][0]"
   ]
  },
  {
   "cell_type": "code",
   "execution_count": 19,
   "metadata": {},
   "outputs": [],
   "source": [
    "def parse_info(data):\n",
    "    parsed_lines = []\n",
    "\n",
    "    for item in data:\n",
    "        description = item['Description']\n",
    "        content = item['Content'].strip()\n",
    "\n",
    "        # For content that spans multiple lines, you might want to replace newlines with a specific delimiter or space\n",
    "        # If the content is 'No valid information.', keep it as is\n",
    "        if 'No valid information.' not in content:\n",
    "            # This replaces newlines and excessive whitespace with a single space\n",
    "            formatted_content = re.sub(r'\\s+', ' ', content)\n",
    "        else:\n",
    "            formatted_content = content\n",
    "\n",
    "        # Concatenate description and content\n",
    "        line = f\"{description}: {formatted_content}\"\n",
    "        parsed_lines.append(line)\n",
    "\n",
    "    return ' '.join(parsed_lines)"
   ]
  },
  {
   "cell_type": "code",
   "execution_count": 21,
   "metadata": {},
   "outputs": [],
   "source": [
    "def parse_travel_plan(data):\n",
    "    # Initialize an empty string to accumulate the parsed information\n",
    "    parsed_info = \"\"\n",
    "    \n",
    "    # Process the first item (trip summary)\n",
    "    trip_summary = data[0]\n",
    "    parsed_info += f\"Trip Summary:\\nOrigin: {trip_summary['org']}\\nDestination: {trip_summary['dest']}\\nDays: {trip_summary['days']}\\nDates: {', '.join(trip_summary['date'])}\\nPeople: {trip_summary['people_number']}\\nBudget: ${trip_summary['budget']}\\n\\n\"\n",
    "    \n",
    "    # Process each day's plan\n",
    "    day_plans = data[1]  # Assuming the day plans start from the second item in the list\n",
    "    for day_plan in day_plans:\n",
    "        if not day_plan:  # Skip empty dictionaries\n",
    "            continue\n",
    "        parsed_info += f\"Day {day_plan['days']} in {day_plan['current_city']}:\\n\"\n",
    "        if day_plan['transportation'] != '-':\n",
    "            parsed_info += f\"  Transportation: {day_plan['transportation']}\\n\"\n",
    "        if day_plan['breakfast'] != '-':\n",
    "            parsed_info += f\"  Breakfast: {day_plan['breakfast']}\\n\"\n",
    "        if day_plan['attraction'] != '-':\n",
    "            parsed_info += f\"  Attraction: {day_plan['attraction']}\\n\"\n",
    "        if day_plan['lunch'] != '-':\n",
    "            parsed_info += f\"  Lunch: {day_plan['lunch']}\\n\"\n",
    "        if day_plan['dinner'] != '-':\n",
    "            parsed_info += f\"  Dinner: {day_plan['dinner']}\\n\"\n",
    "        if day_plan['accommodation'] != '-':\n",
    "            parsed_info += f\"  Accommodation: {day_plan['accommodation']}\\n\"\n",
    "        parsed_info += \"\\n\"  # Add an extra newline for spacing between days\n",
    "    \n",
    "    return parsed_info"
   ]
  },
  {
   "cell_type": "code",
   "execution_count": 22,
   "metadata": {},
   "outputs": [],
   "source": [
    "df_train['parsed_reference'] = df_train['formatted_reference_information'].apply(parse_info)\n",
    "df_train['parsed_plan'] = df_train['formatted_annotated_plan'].apply(parse_travel_plan)"
   ]
  },
  {
   "cell_type": "code",
   "execution_count": 23,
   "metadata": {},
   "outputs": [
    {
     "data": {
      "text/plain": [
       "'Trip Summary:\\nOrigin: St. Petersburg\\nDestination: Rockford\\nDays: 3\\nDates: 2022-03-16, 2022-03-17, 2022-03-18\\nPeople: 1\\nBudget: $1700\\n\\nDay 1 in from St. Petersburg to Rockford:\\n  Transportation: Flight Number: F3573659, from St. Petersburg to Rockford, Departure Time: 15:40, Arrival Time: 17:04\\n  Dinner: Coco Bambu, Rockford\\n  Accommodation: Pure luxury one bdrm + sofa bed on Central Park, Rockford\\n\\nDay 2 in Rockford:\\n  Breakfast: Dial A Cake, Rockford\\n  Attraction: Burpee Museum of Natural History, Rockford;Midway Village Museum, Rockford;Discovery Center Museum, Rockford;\\n  Lunch: Flying Mango, Rockford\\n  Dinner: Cafe Southall, Rockford\\n  Accommodation: Pure luxury one bdrm + sofa bed on Central Park, Rockford\\n\\nDay 3 in from Rockford to St. Petersburg:\\n  Transportation: Flight Number: F3573120, from Rockford to St. Petersburg, Departure Time: 19:00, Arrival Time: 22:43\\n  Breakfast: Subway, Rockford\\n  Attraction: Klehm Arboretum & Botanic Garden, Rockford;Sinnissippi Park, Rockford;\\n  Lunch: Gajalee Sea Food, Rockford\\n  Dinner: Nutri Punch, Rockford\\n\\n'"
      ]
     },
     "execution_count": 23,
     "metadata": {},
     "output_type": "execute_result"
    }
   ],
   "source": [
    "df_train['parsed_plan'][0]"
   ]
  },
  {
   "cell_type": "code",
   "execution_count": 24,
   "metadata": {},
   "outputs": [],
   "source": [
    "df_train['input_text'] = df_train['query']"
   ]
  },
  {
   "cell_type": "code",
   "execution_count": 25,
   "metadata": {},
   "outputs": [],
   "source": [
    "#df_train['target_text'] = df_train['parsed_plan'] + \" \" + df_train['parsed_reference']\n",
    "df_train['target_text'] = df_train['parsed_plan']"
   ]
  },
  {
   "cell_type": "code",
   "execution_count": 26,
   "metadata": {},
   "outputs": [],
   "source": [
    "# Count the number of words in 'input_text'\n",
    "df_train['input_text_word_count'] = df_train['input_text'].apply(lambda x: len(x.split()))\n",
    "\n",
    "# Count the number of words in 'target_text'\n",
    "df_train['target_text_word_count'] = df_train['target_text'].apply(lambda x: len(x.split()))"
   ]
  },
  {
   "cell_type": "code",
   "execution_count": 27,
   "metadata": {},
   "outputs": [
    {
     "data": {
      "text/plain": [
       "count    45.000000\n",
       "mean     51.644444\n",
       "std      13.846817\n",
       "min      30.000000\n",
       "25%      40.000000\n",
       "50%      51.000000\n",
       "75%      60.000000\n",
       "max      80.000000\n",
       "Name: input_text_word_count, dtype: float64"
      ]
     },
     "execution_count": 27,
     "metadata": {},
     "output_type": "execute_result"
    }
   ],
   "source": [
    "df_train['input_text_word_count'].describe()"
   ]
  },
  {
   "cell_type": "code",
   "execution_count": 28,
   "metadata": {},
   "outputs": [
    {
     "data": {
      "text/plain": [
       "count     45.000000\n",
       "mean     224.444444\n",
       "std       79.525455\n",
       "min      114.000000\n",
       "25%      142.000000\n",
       "50%      217.000000\n",
       "75%      304.000000\n",
       "max      364.000000\n",
       "Name: target_text_word_count, dtype: float64"
      ]
     },
     "execution_count": 28,
     "metadata": {},
     "output_type": "execute_result"
    }
   ],
   "source": [
    "df_train['target_text_word_count'].describe()"
   ]
  },
  {
   "cell_type": "code",
   "execution_count": 29,
   "metadata": {},
   "outputs": [],
   "source": [
    "max_length=364"
   ]
  },
  {
   "cell_type": "code",
   "execution_count": 30,
   "metadata": {},
   "outputs": [],
   "source": [
    "model_name = \"gpt2\""
   ]
  },
  {
   "cell_type": "code",
   "execution_count": 31,
   "metadata": {},
   "outputs": [],
   "source": [
    "tokenizer = GPT2Tokenizer.from_pretrained(\n",
    "    model_name, \n",
    ")\n",
    "tokenizer.pad_token = tokenizer.eos_token"
   ]
  },
  {
   "cell_type": "code",
   "execution_count": 32,
   "metadata": {},
   "outputs": [],
   "source": [
    "class QueryReferenceDataset(Dataset):\n",
    "    def __init__(self, input_texts, target_texts, tokenizer, max_length):\n",
    "        self.input_texts = input_texts\n",
    "        self.target_texts = target_texts\n",
    "        self.tokenizer = tokenizer\n",
    "        self.max_length = max_length\n",
    " \n",
    "    def __len__(self):\n",
    "        return len(self.input_texts)\n",
    "    \n",
    "    def __getitem__(self, idx):\n",
    "        input_text = self.input_texts[idx]\n",
    "        target_text = self.target_texts[idx]\n",
    "        \n",
    "        # Encode the concatenated input text\n",
    "        input_encoded = self.tokenizer(input_text, max_length=self.max_length, padding='max_length', return_tensors=\"pt\")\n",
    "        \n",
    "        # Encode the target text\n",
    "        target_encoded = self.tokenizer(target_text, max_length=self.max_length, padding='max_length', return_tensors=\"pt\")\n",
    "\n",
    "        input_ids = input_encoded['input_ids'].squeeze()\n",
    "        target_ids = target_encoded['input_ids'].squeeze()\n",
    "        return {\"input_ids\": input_ids, \"labels\": target_ids}"
   ]
  },
  {
   "cell_type": "code",
   "execution_count": 33,
   "metadata": {},
   "outputs": [],
   "source": [
    "#Hiperparámetros\n",
    "EPOCHS = 20\n",
    "BATCH_SIZE = 1\n",
    "LR = 0.0001"
   ]
  },
  {
   "cell_type": "code",
   "execution_count": 34,
   "metadata": {},
   "outputs": [],
   "source": [
    "dataset = QueryReferenceDataset(df_train['input_text'], df_train['target_text'], tokenizer, max_length=max_length)"
   ]
  },
  {
   "cell_type": "markdown",
   "metadata": {},
   "source": [
    "Si el DataLoader se está implementado correctamente pero se observan longitudes de tensores variables, consideren la posibilidad de implementar una función de intercalación personalizada que aplique explícitamente el requisito de longitud de etiqueta/target/label. Esta función puede truncar o rellenar las etiquetas a la longitud deseada al formar un batch."
   ]
  },
  {
   "cell_type": "code",
   "execution_count": 35,
   "metadata": {},
   "outputs": [],
   "source": [
    "def custom_collate(batch):\n",
    "    input_ids = [item['input_ids'] for item in batch]\n",
    "    labels = [item['labels'] for item in batch]\n",
    "    \n",
    "    # Pad input_ids and labels to have the same length within a batch\n",
    "    input_ids_padded = pad_sequence(input_ids, batch_first=True, padding_value=tokenizer.pad_token_id)\n",
    "    \n",
    "    # Ensure labels are padded/truncated to 440\n",
    "    labels_padded = pad_sequence(labels, batch_first=True, padding_value=tokenizer.pad_token_id)\n",
    "    labels_padded = labels_padded[:, :max_length]  # Truncate to 440 if longer\n",
    "    \n",
    "    return {'input_ids': input_ids_padded, 'labels': labels_padded}"
   ]
  },
  {
   "cell_type": "code",
   "execution_count": 36,
   "metadata": {},
   "outputs": [],
   "source": [
    "data_loader = DataLoader(dataset, batch_size=BATCH_SIZE, shuffle=True, collate_fn=custom_collate)"
   ]
  },
  {
   "cell_type": "code",
   "execution_count": 38,
   "metadata": {},
   "outputs": [],
   "source": [
    "model = GPT2LMHeadModel.from_pretrained('gpt2')\n",
    "model.to(device)\n",
    "optimizer = torch.optim.AdamW(model.parameters(), lr=LR, amsgrad=True, weight_decay=LR*0.1)"
   ]
  },
  {
   "cell_type": "code",
   "execution_count": 39,
   "metadata": {},
   "outputs": [
    {
     "data": {
      "text/plain": [
       "GPT2LMHeadModel(\n",
       "  (transformer): GPT2Model(\n",
       "    (wte): Embedding(50257, 768)\n",
       "    (wpe): Embedding(1024, 768)\n",
       "    (drop): Dropout(p=0.1, inplace=False)\n",
       "    (h): ModuleList(\n",
       "      (0-11): 12 x GPT2Block(\n",
       "        (ln_1): LayerNorm((768,), eps=1e-05, elementwise_affine=True)\n",
       "        (attn): GPT2Attention(\n",
       "          (c_attn): Conv1D()\n",
       "          (c_proj): Conv1D()\n",
       "          (attn_dropout): Dropout(p=0.1, inplace=False)\n",
       "          (resid_dropout): Dropout(p=0.1, inplace=False)\n",
       "        )\n",
       "        (ln_2): LayerNorm((768,), eps=1e-05, elementwise_affine=True)\n",
       "        (mlp): GPT2MLP(\n",
       "          (c_fc): Conv1D()\n",
       "          (c_proj): Conv1D()\n",
       "          (act): NewGELUActivation()\n",
       "          (dropout): Dropout(p=0.1, inplace=False)\n",
       "        )\n",
       "      )\n",
       "    )\n",
       "    (ln_f): LayerNorm((768,), eps=1e-05, elementwise_affine=True)\n",
       "  )\n",
       "  (lm_head): Linear(in_features=768, out_features=50257, bias=False)\n",
       ")"
      ]
     },
     "execution_count": 39,
     "metadata": {},
     "output_type": "execute_result"
    }
   ],
   "source": [
    "model"
   ]
  },
  {
   "cell_type": "code",
   "execution_count": 40,
   "metadata": {},
   "outputs": [
    {
     "data": {
      "application/vnd.jupyter.widget-view+json": {
       "model_id": "1a80fca417ee4f74a4eeed09018e3731",
       "version_major": 2,
       "version_minor": 0
      },
      "text/plain": [
       "Epoch_Train:   0%|          | 0/45 [00:00<?, ?it/s]"
      ]
     },
     "metadata": {},
     "output_type": "display_data"
    },
    {
     "name": "stdout",
     "output_type": "stream",
     "text": [
      "Epoch: 0, Loss: 6.5066375732421875\n"
     ]
    },
    {
     "data": {
      "application/vnd.jupyter.widget-view+json": {
       "model_id": "576265f6c6d74b36b5ec50172d0313b5",
       "version_major": 2,
       "version_minor": 0
      },
      "text/plain": [
       "Epoch_Train:   0%|          | 0/45 [00:00<?, ?it/s]"
      ]
     },
     "metadata": {},
     "output_type": "display_data"
    },
    {
     "name": "stdout",
     "output_type": "stream",
     "text": [
      "Epoch: 1, Loss: 5.777624977959527\n"
     ]
    },
    {
     "data": {
      "application/vnd.jupyter.widget-view+json": {
       "model_id": "88979317e466414bade2fcc60145940b",
       "version_major": 2,
       "version_minor": 0
      },
      "text/plain": [
       "Epoch_Train:   0%|          | 0/45 [00:00<?, ?it/s]"
      ]
     },
     "metadata": {},
     "output_type": "display_data"
    },
    {
     "name": "stdout",
     "output_type": "stream",
     "text": [
      "Epoch: 2, Loss: 5.438877639064082\n"
     ]
    },
    {
     "data": {
      "application/vnd.jupyter.widget-view+json": {
       "model_id": "bb480dea35654cd490b99f7aa9b801d4",
       "version_major": 2,
       "version_minor": 0
      },
      "text/plain": [
       "Epoch_Train:   0%|          | 0/45 [00:00<?, ?it/s]"
      ]
     },
     "metadata": {},
     "output_type": "display_data"
    },
    {
     "name": "stdout",
     "output_type": "stream",
     "text": [
      "Epoch: 3, Loss: 5.220293373531765\n"
     ]
    },
    {
     "data": {
      "application/vnd.jupyter.widget-view+json": {
       "model_id": "ce17119b9c174b5e88e43450249769e9",
       "version_major": 2,
       "version_minor": 0
      },
      "text/plain": [
       "Epoch_Train:   0%|          | 0/45 [00:00<?, ?it/s]"
      ]
     },
     "metadata": {},
     "output_type": "display_data"
    },
    {
     "name": "stdout",
     "output_type": "stream",
     "text": [
      "Epoch: 4, Loss: 5.070314331054687\n"
     ]
    },
    {
     "data": {
      "application/vnd.jupyter.widget-view+json": {
       "model_id": "767e3b4038ec42359e9daf913e1e1900",
       "version_major": 2,
       "version_minor": 0
      },
      "text/plain": [
       "Epoch_Train:   0%|          | 0/45 [00:00<?, ?it/s]"
      ]
     },
     "metadata": {},
     "output_type": "display_data"
    },
    {
     "name": "stdout",
     "output_type": "stream",
     "text": [
      "Epoch: 5, Loss: 4.954490952138547\n"
     ]
    },
    {
     "data": {
      "application/vnd.jupyter.widget-view+json": {
       "model_id": "3ff2271005b1414abac2ed0094e0fac9",
       "version_major": 2,
       "version_minor": 0
      },
      "text/plain": [
       "Epoch_Train:   0%|          | 0/45 [00:00<?, ?it/s]"
      ]
     },
     "metadata": {},
     "output_type": "display_data"
    },
    {
     "name": "stdout",
     "output_type": "stream",
     "text": [
      "Epoch: 6, Loss: 4.8547523498535154\n"
     ]
    },
    {
     "data": {
      "application/vnd.jupyter.widget-view+json": {
       "model_id": "f0a0a1b7be5a4ec3a0d517a1f887c80a",
       "version_major": 2,
       "version_minor": 0
      },
      "text/plain": [
       "Epoch_Train:   0%|          | 0/45 [00:00<?, ?it/s]"
      ]
     },
     "metadata": {},
     "output_type": "display_data"
    },
    {
     "name": "stdout",
     "output_type": "stream",
     "text": [
      "Epoch: 7, Loss: 4.774033224582672\n"
     ]
    },
    {
     "data": {
      "application/vnd.jupyter.widget-view+json": {
       "model_id": "a718677ba0874410877ffeb82bf3a184",
       "version_major": 2,
       "version_minor": 0
      },
      "text/plain": [
       "Epoch_Train:   0%|          | 0/45 [00:00<?, ?it/s]"
      ]
     },
     "metadata": {},
     "output_type": "display_data"
    },
    {
     "name": "stdout",
     "output_type": "stream",
     "text": [
      "Epoch: 8, Loss: 4.705023714348122\n"
     ]
    },
    {
     "data": {
      "application/vnd.jupyter.widget-view+json": {
       "model_id": "50a2b71a88414bfea972931cf14a4659",
       "version_major": 2,
       "version_minor": 0
      },
      "text/plain": [
       "Epoch_Train:   0%|          | 0/45 [00:00<?, ?it/s]"
      ]
     },
     "metadata": {},
     "output_type": "display_data"
    },
    {
     "name": "stdout",
     "output_type": "stream",
     "text": [
      "Epoch: 9, Loss: 4.641601371235318\n"
     ]
    },
    {
     "data": {
      "application/vnd.jupyter.widget-view+json": {
       "model_id": "215bbcd5a6c349fb9220c9dc38b6ffd3",
       "version_major": 2,
       "version_minor": 0
      },
      "text/plain": [
       "Epoch_Train:   0%|          | 0/45 [00:00<?, ?it/s]"
      ]
     },
     "metadata": {},
     "output_type": "display_data"
    },
    {
     "name": "stdout",
     "output_type": "stream",
     "text": [
      "Epoch: 10, Loss: 4.5817773973098905\n"
     ]
    },
    {
     "data": {
      "application/vnd.jupyter.widget-view+json": {
       "model_id": "7378af3ab5214552a89f1e4c275e942b",
       "version_major": 2,
       "version_minor": 0
      },
      "text/plain": [
       "Epoch_Train:   0%|          | 0/45 [00:00<?, ?it/s]"
      ]
     },
     "metadata": {},
     "output_type": "display_data"
    },
    {
     "name": "stdout",
     "output_type": "stream",
     "text": [
      "Epoch: 11, Loss: 4.526871344336757\n"
     ]
    },
    {
     "data": {
      "application/vnd.jupyter.widget-view+json": {
       "model_id": "b3930850a3d44258afcd67d9a7e25188",
       "version_major": 2,
       "version_minor": 0
      },
      "text/plain": [
       "Epoch_Train:   0%|          | 0/45 [00:00<?, ?it/s]"
      ]
     },
     "metadata": {},
     "output_type": "display_data"
    },
    {
     "name": "stdout",
     "output_type": "stream",
     "text": [
      "Epoch: 12, Loss: 4.478126028664092\n"
     ]
    },
    {
     "data": {
      "application/vnd.jupyter.widget-view+json": {
       "model_id": "9bd057cd2f844e3abda6c1aebad225e7",
       "version_major": 2,
       "version_minor": 0
      },
      "text/plain": [
       "Epoch_Train:   0%|          | 0/45 [00:00<?, ?it/s]"
      ]
     },
     "metadata": {},
     "output_type": "display_data"
    },
    {
     "name": "stdout",
     "output_type": "stream",
     "text": [
      "Epoch: 13, Loss: 4.433885378686209\n"
     ]
    },
    {
     "data": {
      "application/vnd.jupyter.widget-view+json": {
       "model_id": "f2475f07c60648f0ab402b3ad4b65e8a",
       "version_major": 2,
       "version_minor": 0
      },
      "text/plain": [
       "Epoch_Train:   0%|          | 0/45 [00:00<?, ?it/s]"
      ]
     },
     "metadata": {},
     "output_type": "display_data"
    },
    {
     "name": "stdout",
     "output_type": "stream",
     "text": [
      "Epoch: 14, Loss: 4.38855514243797\n"
     ]
    },
    {
     "data": {
      "application/vnd.jupyter.widget-view+json": {
       "model_id": "6ac328bd56734c5595248e493071d05b",
       "version_major": 2,
       "version_minor": 0
      },
      "text/plain": [
       "Epoch_Train:   0%|          | 0/45 [00:00<?, ?it/s]"
      ]
     },
     "metadata": {},
     "output_type": "display_data"
    },
    {
     "name": "stdout",
     "output_type": "stream",
     "text": [
      "Epoch: 15, Loss: 4.3432354006502365\n"
     ]
    },
    {
     "data": {
      "application/vnd.jupyter.widget-view+json": {
       "model_id": "147c4480e4714206bb802ab5bce22c51",
       "version_major": 2,
       "version_minor": 0
      },
      "text/plain": [
       "Epoch_Train:   0%|          | 0/45 [00:00<?, ?it/s]"
      ]
     },
     "metadata": {},
     "output_type": "display_data"
    },
    {
     "name": "stdout",
     "output_type": "stream",
     "text": [
      "Epoch: 16, Loss: 4.3010293458801465\n"
     ]
    },
    {
     "data": {
      "application/vnd.jupyter.widget-view+json": {
       "model_id": "b0207954763a4db59d27ef234afbca84",
       "version_major": 2,
       "version_minor": 0
      },
      "text/plain": [
       "Epoch_Train:   0%|          | 0/45 [00:00<?, ?it/s]"
      ]
     },
     "metadata": {},
     "output_type": "display_data"
    },
    {
     "name": "stdout",
     "output_type": "stream",
     "text": [
      "Epoch: 17, Loss: 4.259969039022186\n"
     ]
    },
    {
     "data": {
      "application/vnd.jupyter.widget-view+json": {
       "model_id": "bc1436339aa3405a85f15ecbd83a205c",
       "version_major": 2,
       "version_minor": 0
      },
      "text/plain": [
       "Epoch_Train:   0%|          | 0/45 [00:00<?, ?it/s]"
      ]
     },
     "metadata": {},
     "output_type": "display_data"
    },
    {
     "name": "stdout",
     "output_type": "stream",
     "text": [
      "Epoch: 18, Loss: 4.222049290952627\n"
     ]
    },
    {
     "data": {
      "application/vnd.jupyter.widget-view+json": {
       "model_id": "09acab145cf842e3ab2a77ba7b0321fb",
       "version_major": 2,
       "version_minor": 0
      },
      "text/plain": [
       "Epoch_Train:   0%|          | 0/45 [00:00<?, ?it/s]"
      ]
     },
     "metadata": {},
     "output_type": "display_data"
    },
    {
     "name": "stdout",
     "output_type": "stream",
     "text": [
      "Epoch: 19, Loss: 4.186952341397603\n"
     ]
    }
   ],
   "source": [
    "model.train()\n",
    "loss_train = []\n",
    "total_loss_train = []\n",
    "\n",
    "for epoch in range(EPOCHS):\n",
    "    for batch_idx, batch in tqdm(\n",
    "            enumerate(data_loader), desc=\"Epoch_Train\", total=len(data_loader)\n",
    "        ):\n",
    "        input = batch['input_ids'].to(device)\n",
    "        labels = batch['labels'].to(device)\n",
    "        outputs = model(input_ids=input, labels=labels)\n",
    "        loss = outputs.loss\n",
    "        optimizer.zero_grad(set_to_none=True)\n",
    "        loss.backward()\n",
    "        optimizer.step()\n",
    "        loss_train.append(loss.item())\n",
    "        \n",
    "    print(f\"Epoch: {epoch}, Loss: {sum(loss_train) / len(loss_train)}\")\n",
    "    total_loss_train.append(sum(loss_train) / len(loss_train))"
   ]
  },
  {
   "cell_type": "code",
   "execution_count": 39,
   "metadata": {},
   "outputs": [
    {
     "data": {
      "image/png": "[encoded data removed]",
      "text/plain": [
       "<Figure size 1000x700 with 1 Axes>"
      ]
     },
     "metadata": {},
     "output_type": "display_data"
    }
   ],
   "source": [
    "fig, ax1 = plt.subplots(figsize=(10, 7))\n",
    "ax1.plot(total_loss_train, \"b\", label=\"Total Train Loss\")\n",
    "plt.title(\"Convergencia del modelo GPT2\", color=\"black\")\n",
    "ax1.set_xlabel(\"Iteraciones\")\n",
    "\n",
    "ax1.set_ylabel(\"NLL Loss\", color=\"black\")\n",
    "ax1.legend(loc=\"upper right\")\n",
    "plt.show()"
   ]
  },
  {
   "cell_type": "code",
   "execution_count": 40,
   "metadata": {},
   "outputs": [
    {
     "data": {
      "text/plain": [
       "GPT2LMHeadModel(\n",
       "  (transformer): GPT2Model(\n",
       "    (wte): Embedding(50257, 768)\n",
       "    (wpe): Embedding(1024, 768)\n",
       "    (drop): Dropout(p=0.1, inplace=False)\n",
       "    (h): ModuleList(\n",
       "      (0-11): 12 x GPT2Block(\n",
       "        (ln_1): LayerNorm((768,), eps=1e-05, elementwise_affine=True)\n",
       "        (attn): GPT2Attention(\n",
       "          (c_attn): Conv1D()\n",
       "          (c_proj): Conv1D()\n",
       "          (attn_dropout): Dropout(p=0.1, inplace=False)\n",
       "          (resid_dropout): Dropout(p=0.1, inplace=False)\n",
       "        )\n",
       "        (ln_2): LayerNorm((768,), eps=1e-05, elementwise_affine=True)\n",
       "        (mlp): GPT2MLP(\n",
       "          (c_fc): Conv1D()\n",
       "          (c_proj): Conv1D()\n",
       "          (act): NewGELUActivation()\n",
       "          (dropout): Dropout(p=0.1, inplace=False)\n",
       "        )\n",
       "      )\n",
       "    )\n",
       "    (ln_f): LayerNorm((768,), eps=1e-05, elementwise_affine=True)\n",
       "  )\n",
       "  (lm_head): Linear(in_features=768, out_features=50257, bias=False)\n",
       ")"
      ]
     },
     "execution_count": 40,
     "metadata": {},
     "output_type": "execute_result"
    }
   ],
   "source": [
    "model.eval()"
   ]
  },
  {
   "cell_type": "code",
   "execution_count": 41,
   "metadata": {},
   "outputs": [
    {
     "data": {
      "text/plain": [
       "'Please plan a trip for me starting from Sarasota to Chicago for 3 days, from March 22nd to March 24th, 2022. The budget for this trip is set at $1,900.'"
      ]
     },
     "execution_count": 41,
     "metadata": {},
     "output_type": "execute_result"
    }
   ],
   "source": [
    "query = df_test['query'][0]\n",
    "query"
   ]
  },
  {
   "cell_type": "code",
   "execution_count": 42,
   "metadata": {},
   "outputs": [],
   "source": [
    "input_ids = tokenizer.encode(query, return_tensors=\"pt\").to(device)"
   ]
  },
  {
   "cell_type": "code",
   "execution_count": 43,
   "metadata": {},
   "outputs": [
    {
     "name": "stderr",
     "output_type": "stream",
     "text": [
      "The attention mask and the pad token id were not set. As a consequence, you may observe unexpected behavior. Please pass your input's `attention_mask` to obtain reliable results.\n",
      "Setting `pad_token_id` to `eos_token_id`:50256 for open-end generation.\n"
     ]
    }
   ],
   "source": [
    "# Generate a sequence of tokens in response to the query\n",
    "output_ids = model.generate(input_ids, max_length=440, num_beams=5, temperature=0.7, no_repeat_ngram_size=2)\n",
    "\n",
    "# Decode the generated ids to get the answer text\n",
    "answer = tokenizer.decode(output_ids[0], skip_special_tokens=True)"
   ]
  },
  {
   "cell_type": "code",
   "execution_count": 44,
   "metadata": {},
   "outputs": [
    {
     "data": {
      "text/plain": [
       "'Please plan a trip for me starting from Sarasota to Chicago for 3 days, from March 22nd to March 24th, 2022. The budget for this trip is set at $1,900.Budget2403-\\n\\n:udget2303: 1udget:B0300B\\nB 1B 2B 3B-B fromB toB  :  from  to, \\n from, to: from to to,:art  Accommodation from\\n to\\n,\\n  Arrival::, 1:raction,raction: Acc, Accraction Acc Acc\\n Acc Day Acc:\\n; ; Acc;,,;\\nraction ation  Breakfast ommod\\nDay,Day  Park, 2 Acc Park  in raction\\nommod,ommod:ommod -!,  2, in,ation, Breakfast, Dinner, Self  Dinner zy, Park\\n Park:;: 2  Self, Transportation Acc Transportation  3, 3 Acc from Acc to Acc 3: Park Acc 2: Self Acc Breakfast:Day: 3\\n-:driving,driving: Transportation from: to 3-,- from 3 3  Transportation Transportation to Transportation: duration, duration: hours, mins, hours: mins: km, km: 12:364,364: 9:. art,art: 13: in:- Transportation\\nart\\n Transportation, cost '"
      ]
     },
     "execution_count": 44,
     "metadata": {},
     "output_type": "execute_result"
    }
   ],
   "source": [
    "answer"
   ]
  },
  {
   "cell_type": "markdown",
   "metadata": {},
   "source": [
    "![Lenguaje Matemático](./Images/Matematicas.png)"
   ]
  },
  {
   "cell_type": "markdown",
   "metadata": {},
   "source": [
    "![Contacto](./Images/Contacto.png)"
   ]
  }
 ],
 "metadata": {
  "kernelspec": {
   "display_name": "Python 3",
   "language": "python",
   "name": "python3"
  },
  "language_info": {
   "codemirror_mode": {
    "name": "ipython",
    "version": 3
   },
   "file_extension": ".py",
   "mimetype": "text/x-python",
   "name": "python",
   "nbconvert_exporter": "python",
   "pygments_lexer": "ipython3",
   "version": "3.11.7"
  }
 },
 "nbformat": 4,
 "nbformat_minor": 2
}
