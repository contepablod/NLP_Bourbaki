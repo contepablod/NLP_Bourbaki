{
 "cells": [
  {
   "cell_type": "markdown",
   "metadata": {},
   "source": [
    "![Colegio Bourbaki](./Images/Bourbaki.png)"
   ]
  },
  {
   "cell_type": "markdown",
   "metadata": {},
   "source": [
    "## Procesamiento de Lenguaje Natural"
   ]
  },
  {
   "cell_type": "markdown",
   "metadata": {},
   "source": [
    "### Contexto"
   ]
  },
  {
   "cell_type": "markdown",
   "metadata": {},
   "source": [
    "El objetivo de este notebook es hacer una demostración de la creación de chatbots estilo ChatGPT con conocimiento de datos específicos.\n",
    "\n",
    "En primer lugar, enseñaremos cómo conectar con el API de OpenAI para utilizar GPT-3.5 Turbo, el modelo que alimenta a la versión abierta de ChatGPT, desde código.\n",
    "\n",
    "Después, veremos cómo podemos introducir material a la base de conocimiento del chatbot, para así obtener respuestas más personalizadas."
   ]
  },
  {
   "cell_type": "markdown",
   "metadata": {},
   "source": [
    "### Librerías"
   ]
  },
  {
   "cell_type": "code",
   "execution_count": null,
   "metadata": {},
   "outputs": [],
   "source": [
    "#!pip install openai langchain duckdb unstructured chromadb tiktoken pdfminer.six python-dotenv"
   ]
  },
  {
   "cell_type": "code",
   "execution_count": 1,
   "metadata": {},
   "outputs": [],
   "source": [
    "# NLP Chatbots\n",
    "import openai\n",
    "from langchain.document_loaders.unstructured import UnstructuredFileLoader\n",
    "from langchain.text_splitter import CharacterTextSplitter\n",
    "from langchain.embeddings.openai import OpenAIEmbeddings\n",
    "from langchain.vectorstores import Chroma\n",
    "from langchain.chains import VectorDBQA\n",
    "from langchain.chat_models import ChatOpenAI\n",
    "\n",
    "#Utils\n",
    "import os\n",
    "from dotenv import load_dotenv\n",
    "from pdfminer.high_level import extract_text"
   ]
  },
  {
   "cell_type": "code",
   "execution_count": 2,
   "metadata": {},
   "outputs": [],
   "source": [
    "import warnings\n",
    "warnings.filterwarnings(\"ignore\")"
   ]
  },
  {
   "cell_type": "markdown",
   "metadata": {},
   "source": [
    "Conectamos con el API GPT-3.5 por medio de una llave privada a cada usuario."
   ]
  },
  {
   "cell_type": "code",
   "execution_count": 3,
   "metadata": {},
   "outputs": [
    {
     "data": {
      "text/plain": [
       "True"
      ]
     },
     "execution_count": 3,
     "metadata": {},
     "output_type": "execute_result"
    }
   ],
   "source": [
    "load_dotenv() # This method loads the variables from .env into the environment"
   ]
  },
  {
   "cell_type": "code",
   "execution_count": 4,
   "metadata": {},
   "outputs": [],
   "source": [
    "#api_key = os.environ['CHATGPT_API_KEY']\n",
    "api_key = os.getenv(\"CHATGPT_API_KEY\") # This method loads the variables from .env into the environment with dotenv\n",
    "if api_key is None:\n",
    "    raise ValueError(\"API key not found. Please set the CHATGPT_API_KEY environment variable.\")"
   ]
  },
  {
   "cell_type": "code",
   "execution_count": 5,
   "metadata": {},
   "outputs": [],
   "source": [
    "client = openai.OpenAI(\n",
    "    api_key=api_key,\n",
    ")"
   ]
  },
  {
   "cell_type": "markdown",
   "metadata": {},
   "source": [
    "Una vez hecha la conexión con GPT-3.5 podemos aprovechar las capacidades conversacionales de ChatGPT. \n",
    "\n",
    "Desde este punto ya es posible integrar asistentes inteligentes a aplicaciones y sistemas."
   ]
  },
  {
   "cell_type": "code",
   "execution_count": 6,
   "metadata": {},
   "outputs": [],
   "source": [
    "prompt = \"¡Hola! ¿Por qué el cielo es azul?\""
   ]
  },
  {
   "cell_type": "code",
   "execution_count": 7,
   "metadata": {},
   "outputs": [],
   "source": [
    "chat_completion = client.chat.completions.create(\n",
    "    messages=[\n",
    "        {\n",
    "            \"role\": \"user\",\n",
    "            \"content\": prompt,\n",
    "        }\n",
    "    ],\n",
    "    model=\"gpt-3.5-turbo\",\n",
    "    #model=\"gpt-4\",\n",
    ")"
   ]
  },
  {
   "cell_type": "code",
   "execution_count": 8,
   "metadata": {},
   "outputs": [
    {
     "name": "stdout",
     "output_type": "stream",
     "text": [
      "El color del cielo se debe a un fenómeno llamado dispersión de Rayleigh. La luz del sol está formada por diferentes longitudes de onda, y cuando atraviesa la atmósfera de la Tierra, las partículas en la atmósfera desvían las longitudes de onda más cortas (como el azul y el violeta) más que las longitudes de onda más largas.\n",
      "\n",
      "Esto hace que el azul se disperse por todo el cielo, lo que nos da esa apariencia azulada. En resumen, el cielo es azul debido a la forma en que la luz del sol interactúa con la atmósfera de la Tierra.\n"
     ]
    }
   ],
   "source": [
    "print(chat_completion.choices[0].message.content)"
   ]
  },
  {
   "cell_type": "markdown",
   "metadata": {},
   "source": [
    "Podemos lograr mejores respuestas del modelo si modificamos el atributo **system**."
   ]
  },
  {
   "cell_type": "code",
   "execution_count": 9,
   "metadata": {},
   "outputs": [],
   "source": [
    "sistema = \"Eres un asistente de poetas, habilidoso en explicar conceptos complejos de programación creativamente.\"\n",
    "usuario = \"Compón un poema que explique el concepto de recursión en programación.\"\n",
    "\n",
    "chat_completion = client.chat.completions.create(\n",
    "  model=\"gpt-3.5-turbo\",\n",
    "  messages=[\n",
    "    {\"role\": \"system\", \"content\": sistema},\n",
    "    {\"role\": \"user\", \"content\": usuario}\n",
    "  ]\n",
    ")"
   ]
  },
  {
   "cell_type": "code",
   "execution_count": 10,
   "metadata": {},
   "outputs": [
    {
     "name": "stdout",
     "output_type": "stream",
     "text": [
      "En el vasto mundo de la creación digital,\n",
      "la recursión emerge con su peculiaridad,\n",
      "como un bucle que se envuelve en sí mismo,\n",
      "un viaje profundo, un misterio sin abismo.\n",
      "\n",
      "Cual reflejo en un espejo que no tiene fin,\n",
      "se llama a sí misma, sin detenerse en su frenesí,\n",
      "una función que se llama a sí misma de nuevo,\n",
      "hasta llegar al caso base, al final del juego.\n",
      "\n",
      "Es como un cuento que se repite una y otra vez,\n",
      "hasta encontrar la respuesta, hasta llegar al no sé,\n",
      "un proceso iterativo, pero de forma distinta,\n",
      "un laberinto de códigos que la mente compinta.\n",
      "\n",
      "Así es la recursión, un arte en programación,\n",
      "un enigma que despierta la imaginación,\n",
      "un ciclo infinito en el mundo binario,\n",
      "un concepto fascinante, un desafío necesario.\n",
      "\n",
      "Que viva la recursión en la poética de la programación,\n",
      "un bucle infinito de pura inspiración,\n",
      "donde la lógica y la creatividad se entrelazan,\n",
      "en un baile eterno que nunca se deshazca.\n"
     ]
    }
   ],
   "source": [
    "print(chat_completion.choices[0].message.content)"
   ]
  },
  {
   "cell_type": "markdown",
   "metadata": {},
   "source": [
    "### Creación de un asistente especializado"
   ]
  },
  {
   "cell_type": "markdown",
   "metadata": {},
   "source": [
    "A su vez, podemos aprovechar aún más las capacidades de loss LLM haciendo una especie de fine-tuning. La idea consiste en alimentar al modelos con documentos propios para así lograr respuestas informadas sobre ellos.\n",
    "\n",
    "Esto es posible en GPT-3.5 a través de los encajes y la generación de una base de datos vectorizada.\n",
    "\n",
    "Primero, extraemos texto desde archivos pdfs...\n"
   ]
  },
  {
   "cell_type": "markdown",
   "metadata": {},
   "source": [
    "... y extramos el texto de un pdf para después guardarlo en .txt."
   ]
  },
  {
   "cell_type": "code",
   "execution_count": 11,
   "metadata": {},
   "outputs": [],
   "source": [
    "def extractor_texto(ruta):\n",
    "    # Assume extract_text is a function defined elsewhere to extract text from the given path\n",
    "    txt = extract_text(ruta)\n",
    "    \n",
    "    # Clean and format the text\n",
    "    replacements = {\n",
    "        '\\n\\n\\x0c': ' ',  # Remove specific pattern\n",
    "        '...': ' ',       # Replace ellipses with space\n",
    "        '\\n': ' ',        # Replace newline characters with space\n",
    "        '  ': ' ',        # Replace double spaces with single space\n",
    "        \"\\f\": ' ',        # Remove form feed characters\n",
    "        \"-\": ' '          # Replace hyphens with space\n",
    "    }\n",
    "    \n",
    "    # Apply replacements\n",
    "    for old, new in replacements.items():\n",
    "        txt = txt.replace(old, new)\n",
    "    \n",
    "    # Split into paragraphs and filter based on conditions\n",
    "    paragraphs = txt.split('\\n\\n')\n",
    "    paragraphs = [paragraph.strip() for paragraph in paragraphs if len(paragraph.strip()) > 30]\n",
    "    \n",
    "    # Join the cleaned paragraphs\n",
    "    cleaned_text = '\\n'.join(paragraphs)\n",
    "    \n",
    "    # Write the cleaned text to a file, appending '.txt' to the original path and using utf-16 encoding\n",
    "    with open(ruta + '.txt', \"w\", encoding=\"utf-16\") as archivo:\n",
    "        archivo.write(cleaned_text)\n",
    "    \n",
    "    # Optionally, return the cleaned text if needed\n",
    "    return cleaned_text\n"
   ]
  },
  {
   "cell_type": "code",
   "execution_count": 12,
   "metadata": {},
   "outputs": [],
   "source": [
    "ruta = './Data/Feynman1982_Article_SimulatingPhysicsWithComputers.pdf'"
   ]
  },
  {
   "cell_type": "code",
   "execution_count": 13,
   "metadata": {},
   "outputs": [],
   "source": [
    "paper = extractor_texto(ruta)"
   ]
  },
  {
   "cell_type": "code",
   "execution_count": 14,
   "metadata": {},
   "outputs": [],
   "source": [
    "with open(\"./Data/output.txt\", \"w\") as text_file:\n",
    "    print(paper, file=text_file)"
   ]
  },
  {
   "cell_type": "code",
   "execution_count": 15,
   "metadata": {},
   "outputs": [
    {
     "name": "stderr",
     "output_type": "stream",
     "text": [
      "Created a chunk of size 1460, which is longer than the specified 1000\n",
      "Created a chunk of size 1493, which is longer than the specified 1000\n",
      "Created a chunk of size 1480, which is longer than the specified 1000\n",
      "Created a chunk of size 1385, which is longer than the specified 1000\n",
      "Created a chunk of size 1425, which is longer than the specified 1000\n",
      "Created a chunk of size 1405, which is longer than the specified 1000\n",
      "Created a chunk of size 1348, which is longer than the specified 1000\n",
      "Created a chunk of size 1484, which is longer than the specified 1000\n",
      "Created a chunk of size 1354, which is longer than the specified 1000\n",
      "Created a chunk of size 1467, which is longer than the specified 1000\n",
      "Created a chunk of size 1318, which is longer than the specified 1000\n",
      "Created a chunk of size 1437, which is longer than the specified 1000\n",
      "Created a chunk of size 1490, which is longer than the specified 1000\n",
      "Created a chunk of size 1315, which is longer than the specified 1000\n",
      "Created a chunk of size 1339, which is longer than the specified 1000\n",
      "Created a chunk of size 1393, which is longer than the specified 1000\n",
      "Created a chunk of size 1452, which is longer than the specified 1000\n",
      "Created a chunk of size 1447, which is longer than the specified 1000\n",
      "Created a chunk of size 1496, which is longer than the specified 1000\n",
      "Created a chunk of size 1408, which is longer than the specified 1000\n",
      "Created a chunk of size 1333, which is longer than the specified 1000\n",
      "Created a chunk of size 1484, which is longer than the specified 1000\n",
      "Created a chunk of size 1423, which is longer than the specified 1000\n",
      "Created a chunk of size 1385, which is longer than the specified 1000\n",
      "Created a chunk of size 1482, which is longer than the specified 1000\n",
      "Created a chunk of size 1485, which is longer than the specified 1000\n",
      "Created a chunk of size 1473, which is longer than the specified 1000\n",
      "Created a chunk of size 1476, which is longer than the specified 1000\n",
      "Created a chunk of size 1470, which is longer than the specified 1000\n",
      "Created a chunk of size 1477, which is longer than the specified 1000\n",
      "Created a chunk of size 1424, which is longer than the specified 1000\n",
      "Created a chunk of size 1454, which is longer than the specified 1000\n",
      "Created a chunk of size 1454, which is longer than the specified 1000\n",
      "Created a chunk of size 1414, which is longer than the specified 1000\n",
      "Created a chunk of size 1332, which is longer than the specified 1000\n",
      "Created a chunk of size 1355, which is longer than the specified 1000\n",
      "Created a chunk of size 1435, which is longer than the specified 1000\n",
      "Created a chunk of size 1380, which is longer than the specified 1000\n"
     ]
    }
   ],
   "source": [
    "loader = UnstructuredFileLoader('./Data/output.txt')\n",
    "documents = loader.load()\n",
    "\n",
    "text_splitter = CharacterTextSplitter(chunk_size=1000, chunk_overlap=0)\n",
    "texts = text_splitter.split_documents(documents)\n",
    "\n",
    "embeddings = OpenAIEmbeddings(openai_api_key = api_key)\n",
    "\n",
    "db = Chroma.from_documents(texts, embeddings)"
   ]
  },
  {
   "cell_type": "markdown",
   "metadata": {},
   "source": [
    "En seguida, cargamos el documento a la base de datos."
   ]
  },
  {
   "cell_type": "code",
   "execution_count": 16,
   "metadata": {},
   "outputs": [],
   "source": [
    "qa = VectorDBQA.from_chain_type(llm=ChatOpenAI(openai_api_key=api_key), chain_type=\"stuff\", vectorstore=db, k=1)"
   ]
  },
  {
   "cell_type": "markdown",
   "metadata": {},
   "source": [
    "Este modelo ahora se puede utilizar como un ChatGPT con conocimiento especializado:"
   ]
  },
  {
   "cell_type": "code",
   "execution_count": 17,
   "metadata": {},
   "outputs": [
    {
     "data": {
      "text/plain": [
       "\"The document is about simulating physics with computers, specifically discussing the possibilities of using computers to understand physical laws and the potential insights that could be gained from this approach. It also mentions the influence of Ed Fredkin on the author's interest in the subject.\""
      ]
     },
     "execution_count": 17,
     "metadata": {},
     "output_type": "execute_result"
    }
   ],
   "source": [
    "query = \"What the document is about?\"\n",
    "qa.run(query)"
   ]
  },
  {
   "cell_type": "code",
   "execution_count": 18,
   "metadata": {},
   "outputs": [
    {
     "name": "stdout",
     "output_type": "stream",
     "text": [
      "I'm sorry, but without more information or context, I am unable to determine what the document is about. Please provide more details or specific keywords from the document so I can assist you better.\n"
     ]
    }
   ],
   "source": [
    "chat_completion = client.chat.completions.create(\n",
    "    messages=[\n",
    "        {\n",
    "            \"role\": \"user\",\n",
    "            \"content\": query,\n",
    "        }\n",
    "    ],\n",
    "    model=\"gpt-3.5-turbo\",\n",
    "    #model=\"gpt-4\",\n",
    ")\n",
    "print(chat_completion.choices[0].message.content)"
   ]
  },
  {
   "cell_type": "markdown",
   "metadata": {},
   "source": [
    "Y es posible obtener respuestas muy específicas y personalizadas sobre nuestros documentos:"
   ]
  },
  {
   "cell_type": "code",
   "execution_count": 19,
   "metadata": {},
   "outputs": [
    {
     "data": {
      "text/plain": [
       "'Photons can be polarized by passing them through certain materials like calcite crystals that have the ability to filter out photons vibrating in specific directions. When a photon is polarized, it means its oscillations are restricted to a certain plane or direction. This can cause the photon to be split into different beams or paths based on its polarization state.'"
      ]
     },
     "execution_count": 19,
     "metadata": {},
     "output_type": "execute_result"
    }
   ],
   "source": [
    "query = \"How photons are polarized?\"\n",
    "qa.run(query)"
   ]
  },
  {
   "cell_type": "code",
   "execution_count": 20,
   "metadata": {},
   "outputs": [
    {
     "name": "stdout",
     "output_type": "stream",
     "text": [
      "Photons can have different polarizations depending on the direction of their electric and magnetic fields. A photon is said to be linearly polarized when its electric and magnetic fields oscillate in a specific plane, known as the polarization plane. The polarization direction of a photon can be perpendicular or parallel to the direction of its propagation.\n",
      "\n",
      "Circularly polarized photons have electric and magnetic fields that rotate in a circular motion, either clockwise or counterclockwise. This type of polarization can be right-handed or left-handed, depending on the direction of rotation.\n",
      "\n",
      "Photons can also be unpolarized, which means that their electric and magnetic fields oscillate in random planes and directions. In this case, the photon is said to have no specific polarization state.\n",
      "\n",
      "Photons can interact with various materials and undergo processes such as reflection, refraction, and scattering, which can affect their polarization state. Techniques such as polarizers and waveplates can be used to manipulate the polarization of photons for various applications in optics, telecommunications, and quantum information processing.\n"
     ]
    }
   ],
   "source": [
    "chat_completion = client.chat.completions.create(\n",
    "    messages=[\n",
    "        {\n",
    "            \"role\": \"user\",\n",
    "            \"content\": query,\n",
    "        }\n",
    "    ],\n",
    "    model=\"gpt-3.5-turbo\",\n",
    "    #model=\"gpt-4\",\n",
    ")\n",
    "print(chat_completion.choices[0].message.content)"
   ]
  },
  {
   "cell_type": "code",
   "execution_count": 21,
   "metadata": {},
   "outputs": [
    {
     "data": {
      "text/plain": [
       "'In traditional probability theory, probabilities are always non-negative numbers between 0 and 1. However, in certain quantum mechanical contexts, the concept of negative probabilities arises. In these situations, the probabilities can be negative, meaning that the likelihood of an event occurring is less than no event at all. This concept challenges the traditional understanding of probabilities and is not easily interpreted in terms of standard probability theory. Negative probabilities can be encountered in specific quantum mechanical equations where the probabilities are not necessarily positive.'"
      ]
     },
     "execution_count": 21,
     "metadata": {},
     "output_type": "execute_result"
    }
   ],
   "source": [
    "query = \"Expand the concept of negative probabilities\"\n",
    "qa.run(query)"
   ]
  },
  {
   "cell_type": "code",
   "execution_count": 22,
   "metadata": {},
   "outputs": [
    {
     "name": "stdout",
     "output_type": "stream",
     "text": [
      "Negative probabilities are a theoretical concept that have been proposed in the field of mathematics and theoretical physics. They represent a mathematical quantity that is less than zero, which goes against the commonly accepted notion of probabilities being non-negative values between 0 and 1.\n",
      "\n",
      "One interpretation of negative probabilities is that they can arise when dealing with complex systems that exhibit quantum mechanical behavior. In quantum mechanics, probabilities are typically described using complex numbers, which can give rise to negative values when squared. These negative probabilities are often used in mathematical formulations to describe phenomena such as quantum entanglement or tunneling.\n",
      "\n",
      "Negative probabilities can also be seen as a way to account for uncertainty and information that is not fully known or understood. In some cases, negative probabilities may be used to represent the lack of information or the presence of hidden variables that are influencing the outcome of an event.\n",
      "\n",
      "While negative probabilities are a useful tool in theoretical mathematics and physics, they are not usually considered as valid probabilities in practical applications. In most cases, traditional probabilities are used to describe the likelihood of events occurring, and negative probabilities are treated as a mathematical abstraction that helps to model complex systems and phenomena.\n"
     ]
    }
   ],
   "source": [
    "chat_completion = client.chat.completions.create(\n",
    "    messages=[\n",
    "        {\n",
    "            \"role\": \"user\",\n",
    "            \"content\": query,\n",
    "        }\n",
    "    ],\n",
    "    model=\"gpt-3.5-turbo\",\n",
    "    #model=\"gpt-4\",\n",
    ")\n",
    "print(chat_completion.choices[0].message.content)"
   ]
  },
  {
   "cell_type": "code",
   "execution_count": 23,
   "metadata": {},
   "outputs": [
    {
     "data": {
      "text/plain": [
       "'Quantum computers are a type of computing device that utilize quantum mechanical phenomena, such as superposition and entanglement, to perform operations on data. Unlike classical computers that use binary bits, quantum computers use quantum bits or qubits. These qubits can exist in multiple states at the same time, allowing quantum computers to perform certain calculations much faster than classical computers for specific types of problems.'"
      ]
     },
     "execution_count": 23,
     "metadata": {},
     "output_type": "execute_result"
    }
   ],
   "source": [
    "query = \"What are quantum computers?\"\n",
    "qa.run(query)"
   ]
  },
  {
   "cell_type": "code",
   "execution_count": 24,
   "metadata": {},
   "outputs": [
    {
     "name": "stdout",
     "output_type": "stream",
     "text": [
      "Quantum computers are a type of computing device that harnesses the laws of quantum mechanics to process and store information in a fundamentally different way compared to classical computers. Unlike classical bits, which can be either a 0 or a 1, quantum bits (qubits) can exist in a superposition of states, enabling them to represent both 0 and 1 simultaneously.\n",
      "\n",
      "This allows quantum computers to perform certain types of computations much faster than classical computers, especially for problems involving large amounts of data or complex calculations. Quantum computers have the potential to revolutionize fields such as cryptography, drug discovery, materials science, and optimization problems. However, they are still in the early stages of development and are currently only available in specialized research labs.\n"
     ]
    }
   ],
   "source": [
    "chat_completion = client.chat.completions.create(\n",
    "    messages=[\n",
    "        {\n",
    "            \"role\": \"user\",\n",
    "            \"content\": query,\n",
    "        }\n",
    "    ],\n",
    "    model=\"gpt-3.5-turbo\",\n",
    "    #model=\"gpt-4\",\n",
    ")\n",
    "print(chat_completion.choices[0].message.content)"
   ]
  },
  {
   "cell_type": "markdown",
   "metadata": {},
   "source": [
    "**Conexión con la API de OpenAI:**\n",
    "\n",
    "1) ¿Qué información necesitas para autenticarte y realizar peticiones al API de OpenAI?\n",
    "2) ¿Cuál es el propósito de utilizar una clave API en la conexión con OpenAI y cómo se debe proteger?\n",
    "3) ¿Qué diferencias hay entre los distintos modelos de OpenAI y cómo elegirías uno para tu aplicación específica?\n",
    "\n",
    "**Uso de GPT-3.5 Turbo:**\n",
    "\n",
    "4) ¿Qué ventajas ofrece GPT-3.5 Turbo para la creación de chatbots comparado con versiones anteriores?\n",
    "5) ¿Cómo se formulan las peticiones al modelo GPT-3.5 Turbo para generar respuestas coherentes y relevantes?\n",
    "6) ¿Qué limitaciones tiene el modelo GPT-3.5 Turbo y cómo puedes mitigarlas?\n",
    "\n",
    "**Introducción de Material a la Base de Conocimiento:**\n",
    "\n",
    "7) ¿Cómo puedes personalizar las respuestas de GPT-3.5 Turbo utilizando información específica?\n",
    "8) ¿Cuál es la importancia de la relevancia y precisión del material que se introduce en la base de conocimientos del bot?\n",
    "9) ¿Qué estrategias se pueden utilizar para mantener actualizada la base de conocimientos del chatbot?\n",
    "\n",
    "**Personalización y Respuestas del Chatbot:**\n",
    "\n",
    "10) ¿De qué manera se puede ajustar el tono o el estilo de las respuestas que genera GPT-3.5 Turbo?\n",
    "11) ¿Cómo afecta el contexto proporcionado a las respuestas generadas por el chatbot?\n",
    "    Describe un método para evaluar la precisión y utilidad de las respuestas del chatbot.\n",
    "\n",
    "**Problemas Éticos y de Privacidad:**\n",
    "\n",
    "12) ¿Cuáles son las consideraciones éticas al utilizar modelos de lenguaje generativos como GPT-3.5 Turbo en un chatbot?\n",
    "13) ¿Cómo debería manejar un chatbot las solicitudes de datos personales o sensibles de los usuarios?\n",
    "14) ¿Qué medidas se pueden tomar para garantizar la privacidad y la seguridad de los usuarios al interactuar con un chatbot?"
   ]
  },
  {
   "cell_type": "markdown",
   "metadata": {},
   "source": [
    "![Lenguaje Matemático](./Images/Matematicas.png)"
   ]
  },
  {
   "cell_type": "markdown",
   "metadata": {},
   "source": [
    "![Contacto](./Images/Contacto.png)"
   ]
  }
 ],
 "metadata": {
  "kernelspec": {
   "display_name": "Python 3",
   "language": "python",
   "name": "python3"
  },
  "language_info": {
   "codemirror_mode": {
    "name": "ipython",
    "version": 3
   },
   "file_extension": ".py",
   "mimetype": "text/x-python",
   "name": "python",
   "nbconvert_exporter": "python",
   "pygments_lexer": "ipython3",
   "version": "3.11.8"
  }
 },
 "nbformat": 4,
 "nbformat_minor": 2
}
