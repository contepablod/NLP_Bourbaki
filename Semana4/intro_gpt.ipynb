{
 "cells": [
  {
   "cell_type": "markdown",
   "metadata": {},
   "source": [
    "![Colegio Bourbaki](./Images/Bourbaki.png)"
   ]
  },
  {
   "cell_type": "markdown",
   "metadata": {},
   "source": [
    "## Procesamiento de Lenguaje Natural"
   ]
  },
  {
   "cell_type": "markdown",
   "metadata": {},
   "source": [
    "### Contexto"
   ]
  },
  {
   "cell_type": "markdown",
   "metadata": {},
   "source": [
    "El objetivo de este notebook es hacer una demostración de la creación de chatbots estilo ChatGPT con conocimiento de datos específicos.\n",
    "\n",
    "En primer lugar, enseñaremos cómo conectar con el API de OpenAI para utilizar GPT-3.5 Turbo, el modelo que alimenta a la versión abierta de ChatGPT, desde código.\n",
    "\n",
    "Después, veremos cómo podemos introducir material a la base de conocimiento del chatbot, para así obtener respuestas más personalizadas."
   ]
  },
  {
   "cell_type": "markdown",
   "metadata": {},
   "source": [
    "### Librerías"
   ]
  },
  {
   "cell_type": "code",
   "execution_count": 1,
   "metadata": {},
   "outputs": [],
   "source": [
    "# NLP Chatbots\n",
    "#!pip install openai langchain duckdb unstructured chromadb tiktoken\n",
    "import openai\n",
    "from langchain.document_loaders.unstructured import UnstructuredFileLoader\n",
    "from langchain.text_splitter import CharacterTextSplitter\n",
    "from langchain.embeddings.openai import OpenAIEmbeddings\n",
    "from langchain.vectorstores import Chroma\n",
    "from langchain.chains import VectorDBQA\n",
    "from langchain.chat_models import ChatOpenAI\n",
    "\n",
    "#Utils\n",
    "import os\n",
    "from dotenv import load_dotenv #!pip install python-dotenv\n",
    "from pdfminer.high_level import extract_text #!pip install pdfminer.six"
   ]
  },
  {
   "cell_type": "code",
   "execution_count": 2,
   "metadata": {},
   "outputs": [],
   "source": [
    "import warnings\n",
    "warnings.filterwarnings(\"ignore\")"
   ]
  },
  {
   "cell_type": "markdown",
   "metadata": {},
   "source": [
    "Conectamos con el API GPT-3.5 por medio de una llave privada a cada usuario."
   ]
  },
  {
   "cell_type": "code",
   "execution_count": 3,
   "metadata": {},
   "outputs": [
    {
     "data": {
      "text/plain": [
       "True"
      ]
     },
     "execution_count": 3,
     "metadata": {},
     "output_type": "execute_result"
    }
   ],
   "source": [
    "load_dotenv() # This method loads the variables from .env into the environment"
   ]
  },
  {
   "cell_type": "code",
   "execution_count": 4,
   "metadata": {},
   "outputs": [],
   "source": [
    "#api_key = os.environ['CHATGPT_API_KEY']\n",
    "api_key = os.getenv(\"CHATGPT_API_KEY\") # This method loads the variables from .env into the environment with dotenv\n",
    "if api_key is None:\n",
    "    raise ValueError(\"API key not found. Please set the CHATGPT_API_KEY environment variable.\")"
   ]
  },
  {
   "cell_type": "code",
   "execution_count": 5,
   "metadata": {},
   "outputs": [],
   "source": [
    "client = openai.OpenAI(\n",
    "    api_key=api_key,\n",
    ")"
   ]
  },
  {
   "cell_type": "markdown",
   "metadata": {},
   "source": [
    "Una vez hecha la conexión con GPT-3.5 podemos aprovechar las capacidades conversacionales de ChatGPT. \n",
    "\n",
    "Desde este punto ya es posible integrar asistentes inteligentes a aplicaciones y sistemas."
   ]
  },
  {
   "cell_type": "code",
   "execution_count": 6,
   "metadata": {},
   "outputs": [],
   "source": [
    "prompt = \"¡Hola! ¿Por qué el cielo es azul?\""
   ]
  },
  {
   "cell_type": "code",
   "execution_count": 7,
   "metadata": {},
   "outputs": [],
   "source": [
    "chat_completion = client.chat.completions.create(\n",
    "    messages=[\n",
    "        {\n",
    "            \"role\": \"user\",\n",
    "            \"content\": prompt,\n",
    "        }\n",
    "    ],\n",
    "    model=\"gpt-3.5-turbo\",\n",
    "    #model=\"gpt-4\",\n",
    ")"
   ]
  },
  {
   "cell_type": "code",
   "execution_count": 8,
   "metadata": {},
   "outputs": [
    {
     "name": "stdout",
     "output_type": "stream",
     "text": [
      "Hola! El cielo es azul debido a un fenómeno llamado dispersión de Rayleigh. La luz del sol está compuesta por diferentes colores, cada uno con una longitud de onda diferente. Cuando la luz solar llega a la atmósfera de la Tierra, las partículas en la atmósfera dispersan la luz. Estas partículas dispersan más eficientemente los colores con longitudes de onda más cortas, como los colores azules y violetas. Por lo tanto, vemos el cielo como azul durante el día. Sin embargo, durante el amanecer o el atardecer, la luz solar atraviesa una mayor cantidad de la atmósfera, lo que hace que los colores con longitudes de onda más largas, como los rojos y los naranjas, sean menos dispersados y más visibles, creando así los hermosos tonos cálidos en el cielo.\n"
     ]
    }
   ],
   "source": [
    "print(chat_completion.choices[0].message.content)"
   ]
  },
  {
   "cell_type": "markdown",
   "metadata": {},
   "source": [
    "Podemos lograr mejores respuestas del modelo si modificamos el atributo **system**."
   ]
  },
  {
   "cell_type": "code",
   "execution_count": 9,
   "metadata": {},
   "outputs": [],
   "source": [
    "sistema = \"Eres un asistente de poetas, habilidoso en explicar conceptos complejos de programación creativamente.\"\n",
    "usuario = \"Compón un poema que explique el concepto de recursión en programación.\"\n",
    "\n",
    "chat_completion = client.chat.completions.create(\n",
    "  model=\"gpt-3.5-turbo\",\n",
    "  messages=[\n",
    "    {\"role\": \"system\", \"content\": sistema},\n",
    "    {\"role\": \"user\", \"content\": usuario}\n",
    "  ]\n",
    ")"
   ]
  },
  {
   "cell_type": "code",
   "execution_count": 10,
   "metadata": {},
   "outputs": [
    {
     "name": "stdout",
     "output_type": "stream",
     "text": [
      "En el lenguaje de los bits y los códigos,\n",
      "la recursión emerge contando en su historia.\n",
      "Un bucle que vuelve, se repite en su gloria,\n",
      "con pasos que danzando nos muestran sus modos.\n",
      "\n",
      "En la creación de palabras y símbolos,\n",
      "la magia de la recursión se despliega,\n",
      "un llamado que al fin el alma despliega,\n",
      "en un abismo de ciclos paralelos.\n",
      "\n",
      "Una función que a sí misma se llama,\n",
      "un eco infinito de abrazos al aire,\n",
      "creando caminos al infinito se expande.\n",
      "\n",
      "Como un espejo que al mirarse se ama,\n",
      "la recursión progresa sin desespero,\n",
      "una danza infinita sin cesar avance.\n"
     ]
    }
   ],
   "source": [
    "print(chat_completion.choices[0].message.content)"
   ]
  },
  {
   "cell_type": "markdown",
   "metadata": {},
   "source": [
    "### Creación de un asistente especializado"
   ]
  },
  {
   "cell_type": "markdown",
   "metadata": {},
   "source": [
    "A su vez, podemos aprovechar aún más las capacidades de loss LLM haciendo una especie de fine-tuning. La idea consiste en alimentar al modelos con documentos propios para así lograr respuestas informadas sobre ellos.\n",
    "\n",
    "Esto es posible en GPT-3.5 a través de los encajes y la generación de una base de datos vectorizada.\n",
    "\n",
    "Primero, extraemos texto desde archivos pdfs...\n"
   ]
  },
  {
   "cell_type": "markdown",
   "metadata": {},
   "source": [
    "... y extramos el texto de un pdf para después guardarlo en .txt."
   ]
  },
  {
   "cell_type": "code",
   "execution_count": 11,
   "metadata": {},
   "outputs": [],
   "source": [
    "def extractor_texto(ruta):\n",
    "    # Assume extract_text is a function defined elsewhere to extract text from the given path\n",
    "    txt = extract_text(ruta)\n",
    "    \n",
    "    # Clean and format the text\n",
    "    replacements = {\n",
    "        '\\n\\n\\x0c': ' ',  # Remove specific pattern\n",
    "        '...': ' ',       # Replace ellipses with space\n",
    "        '\\n': ' ',        # Replace newline characters with space\n",
    "        '  ': ' ',        # Replace double spaces with single space\n",
    "        \"\\f\": ' ',        # Remove form feed characters\n",
    "        \"-\": ' '          # Replace hyphens with space\n",
    "    }\n",
    "    \n",
    "    # Apply replacements\n",
    "    for old, new in replacements.items():\n",
    "        txt = txt.replace(old, new)\n",
    "    \n",
    "    # Split into paragraphs and filter based on conditions\n",
    "    paragraphs = txt.split('\\n\\n')\n",
    "    paragraphs = [paragraph.strip() for paragraph in paragraphs if len(paragraph.strip()) > 30]\n",
    "    \n",
    "    # Join the cleaned paragraphs\n",
    "    cleaned_text = '\\n'.join(paragraphs)\n",
    "    \n",
    "    # Write the cleaned text to a file, appending '.txt' to the original path and using utf-16 encoding\n",
    "    with open(ruta + '.txt', \"w\", encoding=\"utf-16\") as archivo:\n",
    "        archivo.write(cleaned_text)\n",
    "    \n",
    "    # Optionally, return the cleaned text if needed\n",
    "    return cleaned_text\n"
   ]
  },
  {
   "cell_type": "code",
   "execution_count": 12,
   "metadata": {},
   "outputs": [],
   "source": [
    "ruta = './Data/Feynman1982_Article_SimulatingPhysicsWithComputers.pdf'"
   ]
  },
  {
   "cell_type": "code",
   "execution_count": 13,
   "metadata": {},
   "outputs": [],
   "source": [
    "paper = extractor_texto(ruta)"
   ]
  },
  {
   "cell_type": "code",
   "execution_count": 14,
   "metadata": {},
   "outputs": [],
   "source": [
    "with open(\"./Data/output.txt\", \"w\") as text_file:\n",
    "    print(paper, file=text_file)"
   ]
  },
  {
   "cell_type": "code",
   "execution_count": 15,
   "metadata": {},
   "outputs": [
    {
     "name": "stderr",
     "output_type": "stream",
     "text": [
      "Created a chunk of size 1460, which is longer than the specified 1000\n",
      "Created a chunk of size 1493, which is longer than the specified 1000\n",
      "Created a chunk of size 1480, which is longer than the specified 1000\n",
      "Created a chunk of size 1385, which is longer than the specified 1000\n",
      "Created a chunk of size 1425, which is longer than the specified 1000\n",
      "Created a chunk of size 1405, which is longer than the specified 1000\n",
      "Created a chunk of size 1348, which is longer than the specified 1000\n",
      "Created a chunk of size 1484, which is longer than the specified 1000\n",
      "Created a chunk of size 1354, which is longer than the specified 1000\n",
      "Created a chunk of size 1467, which is longer than the specified 1000\n",
      "Created a chunk of size 1318, which is longer than the specified 1000\n",
      "Created a chunk of size 1437, which is longer than the specified 1000\n",
      "Created a chunk of size 1490, which is longer than the specified 1000\n",
      "Created a chunk of size 1315, which is longer than the specified 1000\n",
      "Created a chunk of size 1339, which is longer than the specified 1000\n",
      "Created a chunk of size 1393, which is longer than the specified 1000\n",
      "Created a chunk of size 1452, which is longer than the specified 1000\n",
      "Created a chunk of size 1447, which is longer than the specified 1000\n",
      "Created a chunk of size 1496, which is longer than the specified 1000\n",
      "Created a chunk of size 1408, which is longer than the specified 1000\n",
      "Created a chunk of size 1333, which is longer than the specified 1000\n",
      "Created a chunk of size 1484, which is longer than the specified 1000\n",
      "Created a chunk of size 1423, which is longer than the specified 1000\n",
      "Created a chunk of size 1385, which is longer than the specified 1000\n",
      "Created a chunk of size 1482, which is longer than the specified 1000\n",
      "Created a chunk of size 1485, which is longer than the specified 1000\n",
      "Created a chunk of size 1473, which is longer than the specified 1000\n",
      "Created a chunk of size 1476, which is longer than the specified 1000\n",
      "Created a chunk of size 1470, which is longer than the specified 1000\n",
      "Created a chunk of size 1477, which is longer than the specified 1000\n",
      "Created a chunk of size 1424, which is longer than the specified 1000\n",
      "Created a chunk of size 1454, which is longer than the specified 1000\n",
      "Created a chunk of size 1454, which is longer than the specified 1000\n",
      "Created a chunk of size 1414, which is longer than the specified 1000\n",
      "Created a chunk of size 1332, which is longer than the specified 1000\n",
      "Created a chunk of size 1355, which is longer than the specified 1000\n",
      "Created a chunk of size 1435, which is longer than the specified 1000\n",
      "Created a chunk of size 1380, which is longer than the specified 1000\n"
     ]
    }
   ],
   "source": [
    "loader = UnstructuredFileLoader('./Data/output.txt')\n",
    "documents = loader.load()\n",
    "\n",
    "text_splitter = CharacterTextSplitter(chunk_size=1000, chunk_overlap=0)\n",
    "texts = text_splitter.split_documents(documents)\n",
    "\n",
    "embeddings = OpenAIEmbeddings(openai_api_key = api_key)\n",
    "\n",
    "db = Chroma.from_documents(texts, embeddings)"
   ]
  },
  {
   "cell_type": "markdown",
   "metadata": {},
   "source": [
    "En seguida, cargamos el documento a la base de datos."
   ]
  },
  {
   "cell_type": "code",
   "execution_count": 16,
   "metadata": {},
   "outputs": [],
   "source": [
    "qa = VectorDBQA.from_chain_type(llm=ChatOpenAI(openai_api_key=api_key), chain_type=\"stuff\", vectorstore=db, k=1)"
   ]
  },
  {
   "cell_type": "markdown",
   "metadata": {},
   "source": [
    "Este modelo ahora se puede utilizar como un ChatGPT con conocimiento especializado:"
   ]
  },
  {
   "cell_type": "code",
   "execution_count": 17,
   "metadata": {},
   "outputs": [
    {
     "data": {
      "text/plain": [
       "'The document is about the problem of simulating physics with computers. Richard Feynman discusses the possibility of using computers to learn more about physical laws and explores the intersection between computers and physics.'"
      ]
     },
     "execution_count": 17,
     "metadata": {},
     "output_type": "execute_result"
    }
   ],
   "source": [
    "query = \"What the document is about?\"\n",
    "qa.run(query)"
   ]
  },
  {
   "cell_type": "code",
   "execution_count": 18,
   "metadata": {},
   "outputs": [
    {
     "name": "stdout",
     "output_type": "stream",
     "text": [
      "I apologize, but you have not provided any information about the document you are referring to. Could you please provide more specific details?\n"
     ]
    }
   ],
   "source": [
    "chat_completion = client.chat.completions.create(\n",
    "    messages=[\n",
    "        {\n",
    "            \"role\": \"user\",\n",
    "            \"content\": query,\n",
    "        }\n",
    "    ],\n",
    "    model=\"gpt-3.5-turbo\",\n",
    "    #model=\"gpt-4\",\n",
    ")\n",
    "print(chat_completion.choices[0].message.content)"
   ]
  },
  {
   "cell_type": "markdown",
   "metadata": {},
   "source": [
    "Y es posible obtener respuestas muy específicas y personalizadas sobre nuestros documentos:"
   ]
  },
  {
   "cell_type": "code",
   "execution_count": 19,
   "metadata": {},
   "outputs": [
    {
     "data": {
      "text/plain": [
       "\"Photons can be polarized through various methods. One common method is through the use of polarizing filters, which are materials that only allow light waves vibrating in a particular direction to pass through. When unpolarized light passes through a polarizing filter, it becomes polarized in the same direction as the filter's orientation. Another method is by reflection, where light waves bouncing off a surface become partially polarized in the direction parallel to the surface. Additionally, certain materials, like calcite crystals mentioned in the context, can also polarize light through their internal structure and optical properties.\""
      ]
     },
     "execution_count": 19,
     "metadata": {},
     "output_type": "execute_result"
    }
   ],
   "source": [
    "query = \"How photons are polarized?\"\n",
    "qa.run(query)"
   ]
  },
  {
   "cell_type": "code",
   "execution_count": 20,
   "metadata": {},
   "outputs": [
    {
     "name": "stdout",
     "output_type": "stream",
     "text": [
      "Photons, which are particles of light, can be polarized through various mechanisms. Polarization refers to the direction in which the electric field oscillates as the photon propagates through space.\n",
      "\n",
      "One way of polarizing light is through the use of polarizing filters. These filters are composed of a material that selectively transmits light waves vibrating in a specific plane of polarization, while blocking others. The filter aligns the electric field of the light waves with a particular direction, thus polarizing the light.\n",
      "\n",
      "Another method of polarizing light is through reflection or scattering. When light waves strike a surface, such as a shiny non-metallic material or a rough metal surface, the reflected or scattered light becomes polarized to some extent. This occurs because the electric field of the incident light is preferentially oriented in a specific direction upon reflection or scattering.\n",
      "\n",
      "Additionally, certain materials can induce polarization in light waves by interacting with them. This is known as birefringence and is observed in materials such as calcite or quartz. These materials have different refractive indices for light waves polarized perpendicular and parallel to their crystal structure, causing the polarization of light passing through them.\n",
      "\n",
      "Furthermore, the phenomenon of spontaneous emission by excited atoms or molecules also leads to polarized light. The quantum nature of the emission process causes the emitted photons to have a specific polarization determined by the atomic or molecular properties involved.\n",
      "\n",
      "In summary, photons can be polarized through the use of filters, interaction with certain materials, reflection or scattering, and spontaneous emission from excited atoms or molecules.\n"
     ]
    }
   ],
   "source": [
    "chat_completion = client.chat.completions.create(\n",
    "    messages=[\n",
    "        {\n",
    "            \"role\": \"user\",\n",
    "            \"content\": query,\n",
    "        }\n",
    "    ],\n",
    "    model=\"gpt-3.5-turbo\",\n",
    "    #model=\"gpt-4\",\n",
    ")\n",
    "print(chat_completion.choices[0].message.content)"
   ]
  },
  {
   "cell_type": "code",
   "execution_count": 21,
   "metadata": {},
   "outputs": [
    {
     "data": {
      "text/plain": [
       "'Negative probabilities are a concept that arises in certain mathematical and theoretical frameworks, particularly in quantum mechanics and information theory. In these contexts, negative probabilities do not represent actual probabilities in the traditional sense, but rather mathematical quantities that can be used to describe certain phenomena or calculations.\\n\\nNegative probabilities can occur when dealing with systems that exhibit interference or entanglement, where the probabilities of different outcomes can interfere with each other. In such cases, the probabilities assigned to different events may have negative values, indicating a sort of \"anti-chance\" or counterbalancing effect.\\n\\nIt\\'s important to note that negative probabilities do not have a direct physical interpretation and cannot represent the likelihood of an event occurring in the real world. They are simply mathematical tools used to describe and calculate certain phenomena in a consistent and coherent manner.\\n\\nWhile negative probabilities may seem counterintuitive or strange, they have found applications in various fields, such as quantum computing, quantum communication, and quantum cryptography. In these areas, negative probabilities can be used to perform calculations and simulations that would be difficult or impossible with traditional probability theory.\\n\\nIt is worth mentioning that negative probabilities are still a topic of ongoing research and debate, and their full implications and interpretations are not yet fully understood.'"
      ]
     },
     "execution_count": 21,
     "metadata": {},
     "output_type": "execute_result"
    }
   ],
   "source": [
    "query = \"Expand the concept of negative probabilities\"\n",
    "qa.run(query)"
   ]
  },
  {
   "cell_type": "code",
   "execution_count": 22,
   "metadata": {},
   "outputs": [
    {
     "name": "stdout",
     "output_type": "stream",
     "text": [
      "Negative probabilities are a mathematical concept that may seem counterintuitive at first, as probabilities are generally understood to be values between 0 and 1, representing the likelihood of an event occurring. However, negative probabilities have been introduced in certain contexts to extend the mathematical formalism and provide a more comprehensive framework for modeling and understanding complex phenomena.\n",
      "\n",
      "In traditional probability theory, positive probabilities are used to represent the likelihood of events happening, while zero probability denotes an event that cannot occur. Negative probabilities, on the other hand, have been incorporated in different branches of mathematics and physics, such as quantum mechanics and information theory, to capture certain phenomena that cannot be effectively described using only positive probabilities.\n",
      "\n",
      "One important area where negative probabilities have found application is quantum mechanics. In quantum mechanics, probabilities are used to describe the behavior of quantum particles, which exhibit wave-particle duality and can exist in superposition states. Superposition refers to the ability of particles to exist in multiple states simultaneously. Negative probabilities are used to describe the interference effects that occur in quantum systems, where the probability amplitudes can cancel out or reinforce each other, leading to regions of negative probabilities. These negative probabilities are not directly observable but play a crucial role in the mathematical formalism of quantum mechanics.\n",
      "\n",
      "Another example of the application of negative probabilities is in information theory, particularly in contexts involving data compression and coding. Negative probabilities can be used to represent situations where the amount of information gained from an event is negative, meaning that knowledge or certainty is reduced rather than increased. Negative probabilities can also be interpreted as quantities associated with the number of bits needed to encode certain events or messages.\n",
      "\n",
      "It is worth noting that negative probabilities are not used in conventional probability theory, as they violate several fundamental axioms, such as non-negativity and additivity. However, in more general mathematical frameworks, such as the theory of signed measures or quantum probability theory, negative probabilities can be rigorously defined and studied. These alternative frameworks allow for the inclusion of negative probabilities, enabling a more comprehensive description of certain phenomena.\n",
      "\n",
      "In summary, negative probabilities provide an expanded mathematical framework that allows for the modeling and understanding of complex phenomena, particularly in the realms of quantum mechanics and information theory. Although they may initially seem contradictory to our intuitive understanding of probabilities, their introduction has proven valuable in capturing and explaining various phenomena that are not effectively described solely by positive probabilities.\n"
     ]
    }
   ],
   "source": [
    "chat_completion = client.chat.completions.create(\n",
    "    messages=[\n",
    "        {\n",
    "            \"role\": \"user\",\n",
    "            \"content\": query,\n",
    "        }\n",
    "    ],\n",
    "    model=\"gpt-3.5-turbo\",\n",
    "    #model=\"gpt-4\",\n",
    ")\n",
    "print(chat_completion.choices[0].message.content)"
   ]
  },
  {
   "cell_type": "code",
   "execution_count": 23,
   "metadata": {},
   "outputs": [
    {
     "data": {
      "text/plain": [
       "'Quantum computers are a type of computer that utilize the principles of quantum mechanics to perform computations. Unlike classical computers that use bits to represent information as either 0 or 1, quantum computers use quantum bits or qubits, which can represent information as a combination of 0 and 1 simultaneously due to a property called superposition. This allows quantum computers to perform certain calculations much faster than classical computers. Additionally, quantum computers can also take advantage of another quantum property called entanglement, which allows qubits to be linked together in such a way that the state of one qubit can affect the state of another, even if they are physically separated. This property can be harnessed to perform complex computations and solve problems that are currently intractable for classical computers.'"
      ]
     },
     "execution_count": 23,
     "metadata": {},
     "output_type": "execute_result"
    }
   ],
   "source": [
    "query = \"What are quantum computers?\"\n",
    "qa.run(query)"
   ]
  },
  {
   "cell_type": "code",
   "execution_count": 24,
   "metadata": {},
   "outputs": [
    {
     "name": "stdout",
     "output_type": "stream",
     "text": [
      "Quantum computers are a type of computer that utilize principles of quantum mechanics to perform computational tasks. Unlike classical computers that store and process information using bits (which can represent either a 0 or a 1), quantum computers use quantum bits or qubits. Qubits can exist in a superposition of states, simultaneously representing both 0 and 1, which enables quantum computers to perform certain calculations at an exponentially faster rate compared to classical computers.\n",
      "\n",
      "Quantum computers leverage quantum phenomena like superposition, entanglement, and interference to perform complex computations. They can handle large amounts of data simultaneously and quickly, making them potentially suitable for solving problems that are currently intractable for classical computers. Some of the applications of quantum computers include optimization, cryptography, machine learning, quantum simulations, and drug discovery.\n",
      "\n",
      "However, developing and maintaining stable and error-free qubits is a significant challenge in building quantum computers. Various technological approaches, such as superconducting circuits, ion traps, and topological qubits, are being explored to overcome these challenges and advance the field of quantum computing.\n"
     ]
    }
   ],
   "source": [
    "chat_completion = client.chat.completions.create(\n",
    "    messages=[\n",
    "        {\n",
    "            \"role\": \"user\",\n",
    "            \"content\": query,\n",
    "        }\n",
    "    ],\n",
    "    model=\"gpt-3.5-turbo\",\n",
    "    #model=\"gpt-4\",\n",
    ")\n",
    "print(chat_completion.choices[0].message.content)"
   ]
  },
  {
   "cell_type": "markdown",
   "metadata": {},
   "source": [
    "**Conexión con la API de OpenAI:**\n",
    "\n",
    "1) ¿Qué información necesitas para autenticarte y realizar peticiones al API de OpenAI?\n",
    "2) ¿Cuál es el propósito de utilizar una clave API en la conexión con OpenAI y cómo se debe proteger?\n",
    "3) ¿Qué diferencias hay entre los distintos modelos de OpenAI y cómo elegirías uno para tu aplicación específica?\n",
    "\n",
    "**Uso de GPT-3.5 Turbo:**\n",
    "\n",
    "4) ¿Qué ventajas ofrece GPT-3.5 Turbo para la creación de chatbots comparado con versiones anteriores?\n",
    "5) ¿Cómo se formulan las peticiones al modelo GPT-3.5 Turbo para generar respuestas coherentes y relevantes?\n",
    "6) ¿Qué limitaciones tiene el modelo GPT-3.5 Turbo y cómo puedes mitigarlas?\n",
    "\n",
    "**Introducción de Material a la Base de Conocimiento:**\n",
    "\n",
    "7) ¿Cómo puedes personalizar las respuestas de GPT-3.5 Turbo utilizando información específica?\n",
    "8) ¿Cuál es la importancia de la relevancia y precisión del material que se introduce en la base de conocimientos del bot?\n",
    "9) ¿Qué estrategias se pueden utilizar para mantener actualizada la base de conocimientos del chatbot?\n",
    "\n",
    "**Personalización y Respuestas del Chatbot:**\n",
    "\n",
    "10) ¿De qué manera se puede ajustar el tono o el estilo de las respuestas que genera GPT-3.5 Turbo?\n",
    "11) ¿Cómo afecta el contexto proporcionado a las respuestas generadas por el chatbot?\n",
    "    Describe un método para evaluar la precisión y utilidad de las respuestas del chatbot.\n",
    "\n",
    "**Problemas Éticos y de Privacidad:**\n",
    "\n",
    "12) ¿Cuáles son las consideraciones éticas al utilizar modelos de lenguaje generativos como GPT-3.5 Turbo en un chatbot?\n",
    "13) ¿Cómo debería manejar un chatbot las solicitudes de datos personales o sensibles de los usuarios?\n",
    "14) ¿Qué medidas se pueden tomar para garantizar la privacidad y la seguridad de los usuarios al interactuar con un chatbot?"
   ]
  },
  {
   "cell_type": "markdown",
   "metadata": {},
   "source": [
    "![Lenguaje Matemático](./Images/Matematicas.png)"
   ]
  },
  {
   "cell_type": "markdown",
   "metadata": {},
   "source": [
    "![Contacto](./Images/Contacto.png)"
   ]
  }
 ],
 "metadata": {
  "kernelspec": {
   "display_name": "Python 3",
   "language": "python",
   "name": "python3"
  },
  "language_info": {
   "codemirror_mode": {
    "name": "ipython",
    "version": 3
   },
   "file_extension": ".py",
   "mimetype": "text/x-python",
   "name": "python",
   "nbconvert_exporter": "python",
   "pygments_lexer": "ipython3",
   "version": "3.11.7"
  }
 },
 "nbformat": 4,
 "nbformat_minor": 2
}
